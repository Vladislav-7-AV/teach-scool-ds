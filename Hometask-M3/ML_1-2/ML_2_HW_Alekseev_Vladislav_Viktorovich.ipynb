{
 "cells": [
  {
   "cell_type": "code",
   "execution_count": 1,
   "metadata": {},
   "outputs": [],
   "source": [
    "import pandas as pd\n",
    "import numpy as np\n",
    "from sklearn.model_selection import train_test_split\n",
    "from sklearn.linear_model import LinearRegression, Ridge, Lasso, RidgeCV, LassoCV\n",
    "from sklearn.metrics import r2_score"
   ]
  },
  {
   "cell_type": "code",
   "execution_count": 2,
   "metadata": {},
   "outputs": [],
   "source": [
    "RANDOM_STATE = 42\n",
    "\n",
    "results_regression = pd.DataFrame(columns = ['model', 'task', 'R2'])\n",
    "results_classification = pd.DataFrame(columns = ['model', 'task', 'f1', 'accuracy'])"
   ]
  },
  {
   "cell_type": "markdown",
   "metadata": {},
   "source": [
    "https://www.cs.toronto.edu/~delve/data/boston/bostonDetail.html"
   ]
  },
  {
   "cell_type": "code",
   "execution_count": 3,
   "metadata": {},
   "outputs": [
    {
     "data": {
      "text/html": [
       "<div>\n",
       "<style scoped>\n",
       "    .dataframe tbody tr th:only-of-type {\n",
       "        vertical-align: middle;\n",
       "    }\n",
       "\n",
       "    .dataframe tbody tr th {\n",
       "        vertical-align: top;\n",
       "    }\n",
       "\n",
       "    .dataframe thead th {\n",
       "        text-align: right;\n",
       "    }\n",
       "</style>\n",
       "<table border=\"1\" class=\"dataframe\">\n",
       "  <thead>\n",
       "    <tr style=\"text-align: right;\">\n",
       "      <th></th>\n",
       "      <th>CRIM</th>\n",
       "      <th>ZN</th>\n",
       "      <th>INDUS</th>\n",
       "      <th>CHAS</th>\n",
       "      <th>NOX</th>\n",
       "      <th>RM</th>\n",
       "      <th>AGE</th>\n",
       "      <th>DIS</th>\n",
       "      <th>RAD</th>\n",
       "      <th>TAX</th>\n",
       "      <th>PTRATIO</th>\n",
       "      <th>B</th>\n",
       "      <th>LSTAT</th>\n",
       "      <th>MEDV</th>\n",
       "    </tr>\n",
       "  </thead>\n",
       "  <tbody>\n",
       "    <tr>\n",
       "      <th>0</th>\n",
       "      <td>0.00632</td>\n",
       "      <td>18.0</td>\n",
       "      <td>2.31</td>\n",
       "      <td>0.0</td>\n",
       "      <td>0.538</td>\n",
       "      <td>6.575</td>\n",
       "      <td>65.2</td>\n",
       "      <td>4.0900</td>\n",
       "      <td>1.0</td>\n",
       "      <td>296.0</td>\n",
       "      <td>15.3</td>\n",
       "      <td>396.90</td>\n",
       "      <td>4.98</td>\n",
       "      <td>24.0</td>\n",
       "    </tr>\n",
       "    <tr>\n",
       "      <th>1</th>\n",
       "      <td>0.02731</td>\n",
       "      <td>0.0</td>\n",
       "      <td>7.07</td>\n",
       "      <td>0.0</td>\n",
       "      <td>0.469</td>\n",
       "      <td>6.421</td>\n",
       "      <td>78.9</td>\n",
       "      <td>4.9671</td>\n",
       "      <td>2.0</td>\n",
       "      <td>242.0</td>\n",
       "      <td>17.8</td>\n",
       "      <td>396.90</td>\n",
       "      <td>9.14</td>\n",
       "      <td>21.6</td>\n",
       "    </tr>\n",
       "    <tr>\n",
       "      <th>2</th>\n",
       "      <td>0.02729</td>\n",
       "      <td>0.0</td>\n",
       "      <td>7.07</td>\n",
       "      <td>0.0</td>\n",
       "      <td>0.469</td>\n",
       "      <td>7.185</td>\n",
       "      <td>61.1</td>\n",
       "      <td>4.9671</td>\n",
       "      <td>2.0</td>\n",
       "      <td>242.0</td>\n",
       "      <td>17.8</td>\n",
       "      <td>392.83</td>\n",
       "      <td>4.03</td>\n",
       "      <td>34.7</td>\n",
       "    </tr>\n",
       "    <tr>\n",
       "      <th>3</th>\n",
       "      <td>0.03237</td>\n",
       "      <td>0.0</td>\n",
       "      <td>2.18</td>\n",
       "      <td>0.0</td>\n",
       "      <td>0.458</td>\n",
       "      <td>6.998</td>\n",
       "      <td>45.8</td>\n",
       "      <td>6.0622</td>\n",
       "      <td>3.0</td>\n",
       "      <td>222.0</td>\n",
       "      <td>18.7</td>\n",
       "      <td>394.63</td>\n",
       "      <td>2.94</td>\n",
       "      <td>33.4</td>\n",
       "    </tr>\n",
       "    <tr>\n",
       "      <th>4</th>\n",
       "      <td>0.06905</td>\n",
       "      <td>0.0</td>\n",
       "      <td>2.18</td>\n",
       "      <td>0.0</td>\n",
       "      <td>0.458</td>\n",
       "      <td>7.147</td>\n",
       "      <td>54.2</td>\n",
       "      <td>6.0622</td>\n",
       "      <td>3.0</td>\n",
       "      <td>222.0</td>\n",
       "      <td>18.7</td>\n",
       "      <td>396.90</td>\n",
       "      <td>5.33</td>\n",
       "      <td>36.2</td>\n",
       "    </tr>\n",
       "  </tbody>\n",
       "</table>\n",
       "</div>"
      ],
      "text/plain": [
       "      CRIM    ZN  INDUS  CHAS    NOX     RM   AGE     DIS  RAD    TAX  \\\n",
       "0  0.00632  18.0   2.31   0.0  0.538  6.575  65.2  4.0900  1.0  296.0   \n",
       "1  0.02731   0.0   7.07   0.0  0.469  6.421  78.9  4.9671  2.0  242.0   \n",
       "2  0.02729   0.0   7.07   0.0  0.469  7.185  61.1  4.9671  2.0  242.0   \n",
       "3  0.03237   0.0   2.18   0.0  0.458  6.998  45.8  6.0622  3.0  222.0   \n",
       "4  0.06905   0.0   2.18   0.0  0.458  7.147  54.2  6.0622  3.0  222.0   \n",
       "\n",
       "   PTRATIO       B  LSTAT  MEDV  \n",
       "0     15.3  396.90   4.98  24.0  \n",
       "1     17.8  396.90   9.14  21.6  \n",
       "2     17.8  392.83   4.03  34.7  \n",
       "3     18.7  394.63   2.94  33.4  \n",
       "4     18.7  396.90   5.33  36.2  "
      ]
     },
     "execution_count": 3,
     "metadata": {},
     "output_type": "execute_result"
    }
   ],
   "source": [
    "data = pd.read_csv('boston.csv')\n",
    "data.head()"
   ]
  },
  {
   "cell_type": "markdown",
   "metadata": {},
   "source": [
    "1. Разделите выборку на обучающую и тестовую в отношении 80%/20%, предварительно выделив целевую переменную (колонка 'MEDV')."
   ]
  },
  {
   "cell_type": "code",
   "execution_count": 4,
   "metadata": {},
   "outputs": [],
   "source": [
    "y = data['MEDV']\n",
    "X = data.drop('MEDV', axis = 1)\n",
    "X_train, X_test, y_train, y_test = train_test_split(X, y, test_size = 0.2, random_state = RANDOM_STATE)"
   ]
  },
  {
   "cell_type": "markdown",
   "metadata": {},
   "source": [
    "2. Обучите стандартную регрессию, а также Ridge и  Lasso с параметрами по умолчанию и выведите их R2 на тестовой выборке"
   ]
  },
  {
   "cell_type": "code",
   "execution_count": 5,
   "metadata": {},
   "outputs": [
    {
     "name": "stdout",
     "output_type": "stream",
     "text": [
      "model          LR\n",
      "task        task2\n",
      "R2       0.668483\n",
      "Name: 0, dtype: object\n",
      "model       Ridge\n",
      "task        task2\n",
      "R2       0.665961\n",
      "Name: 1, dtype: object\n",
      "model       Lasso\n",
      "task        task2\n",
      "R2       0.666869\n",
      "Name: 2, dtype: object\n"
     ]
    }
   ],
   "source": [
    "r2_lr = 0\n",
    "r2_ridge = 0\n",
    "r2_lasso = 0\n",
    "\n",
    "lr = LinearRegression()\n",
    "lr.fit(X_train, y_train)\n",
    "\n",
    "ridge = Ridge()\n",
    "ridge.fit(X_train, y_train)\n",
    "\n",
    "lasso = Lasso()\n",
    "lasso.fit(X_train, y_train)\n",
    "\n",
    "r2_lr = r2_score(y_test, lr.predict(X_test))\n",
    "r2_ridge = r2_score(y_test, ridge.predict(X_test))\n",
    "r2_lasso = r2_score(y_test, lasso.predict(X_test))\n",
    "\n",
    "\n",
    "\n",
    "results_regression.loc[0] = ['LR', 'task2', r2_lr]\n",
    "results_regression.loc[1] = ['Ridge', 'task2', r2_ridge]\n",
    "results_regression.loc[2] = ['Lasso', 'task2', r2_lasso]\n",
    "\n",
    "print(results_regression.loc[0])\n",
    "print(results_regression.loc[1])\n",
    "print(results_regression.loc[2])\n"
   ]
  },
  {
   "cell_type": "markdown",
   "metadata": {},
   "source": [
    "3. Для Ridge и Lasso подберите коэффициент регуляризации двумя способами 1) GridSearchCV, 2) RidgeCV и LassoCV, в пределах от $10^{-5}$ до $10^5$ (по степеням 10). Посчитайте R2 на тестовой выборке по всем моделям и сравните с предыдущими результатами."
   ]
  },
  {
   "cell_type": "code",
   "execution_count": 6,
   "metadata": {},
   "outputs": [
    {
     "name": "stdout",
     "output_type": "stream",
     "text": [
      "R2 для Ridge с GridSearchCV: 0.6684825680074256\n",
      "R2 для Ridge с RidgeCV: 0.6684825680074256\n",
      "R2 для Lasso с GridSearchCV: 0.6684829595885677\n",
      "R2 для Lasso с LassoCV: 0.6684829595885677\n"
     ]
    }
   ],
   "source": [
    "\n",
    "\n",
    "r2_ridge_grid_search = 0\n",
    "r2_ridge_cv = 0\n",
    "r2_lasso_grid_search = 0\n",
    "r2_lasso_cv = 0\n",
    "\n",
    "####\n",
    "\n",
    "from sklearn.linear_model import Ridge, RidgeCV, Lasso, LassoCV\n",
    "from sklearn.model_selection import GridSearchCV\n",
    "from sklearn.metrics import r2_score\n",
    "\n",
    "\n",
    "# Ridge с использованием GridSearchCV\n",
    "ridge = Ridge()\n",
    "ridge_params = {'alpha': np.logspace(-5, 5, 11)}\n",
    "ridge_grid = GridSearchCV(ridge, ridge_params, cv=5)\n",
    "ridge_grid.fit(X_train, y_train)\n",
    "ridge_pred = ridge_grid.predict(X_test)\n",
    "ridge_r2 = r2_score(y_test, ridge_pred)\n",
    "\n",
    "# Lasso с использованием GridSearchCV\n",
    "lasso = Lasso()\n",
    "lasso_params = {'alpha': np.logspace(-5, 5, 11)}\n",
    "lasso_grid = GridSearchCV(lasso, lasso_params, cv=5)\n",
    "lasso_grid.fit(X_train, y_train)\n",
    "lasso_pred = lasso_grid.predict(X_test)\n",
    "lasso_r2 = r2_score(y_test, lasso_pred)\n",
    "\n",
    "# Ridge с использованием RidgeCV\n",
    "ridge_cv = RidgeCV(alphas=np.logspace(-5, 5, 11), cv=5)\n",
    "ridge_cv.fit(X_train, y_train)\n",
    "ridge_cv_pred = ridge_cv.predict(X_test)\n",
    "ridge_cv_r2 = r2_score(y_test, ridge_cv_pred)\n",
    "\n",
    "\n",
    "# Lasso с использованием LassoCV\n",
    "lasso_cv = LassoCV(alphas=np.logspace(-5, 5, 11), cv=5)\n",
    "lasso_cv.fit(X_train, y_train)\n",
    "lasso_cv_pred = lasso_cv.predict(X_test)\n",
    "lasso_cv_r2 = r2_score(y_test, lasso_cv_pred)\n",
    "\n",
    "# Выводим результаты\n",
    "\n",
    "\n",
    "print('R2 для Ridge с GridSearchCV:', ridge_r2)\n",
    "print('R2 для Ridge с RidgeCV:', ridge_cv_r2)\n",
    "print('R2 для Lasso с GridSearchCV:', lasso_r2)\n",
    "print('R2 для Lasso с LassoCV:', lasso_cv_r2)\n"
   ]
  },
  {
   "cell_type": "markdown",
   "metadata": {},
   "source": [
    "4. Проведите масштабирование выборки (используйте Pipeline, StandardScaler, MinMaxScaler), посчитайте R2 для Ridge и Lasso с параметрами по умолчанию и сравните с предыдущими результатами."
   ]
  },
  {
   "cell_type": "code",
   "execution_count": 7,
   "metadata": {},
   "outputs": [
    {
     "name": "stdout",
     "output_type": "stream",
     "text": [
      "R2 для Ridge с параметрами по умолчанию и масштабированием данных: 0.668190107677443\n",
      "R2 для Lasso с параметрами по умолчанию и масштабированием данных: 0.624044752347846\n"
     ]
    }
   ],
   "source": [
    "from sklearn.preprocessing import StandardScaler, MinMaxScaler\n",
    "from sklearn.pipeline import Pipeline\n",
    "\n",
    "# Pipeline для масштабирования данных\n",
    "scaler = StandardScaler()\n",
    "pipe = Pipeline([('scaler', scaler), ('ridge', Ridge())])\n",
    "\n",
    "# Ridge с использованием параметров по умолчанию и масштабированием данных\n",
    "pipe.fit(X_train, y_train)\n",
    "ridge_pred = pipe.predict(X_test)\n",
    "ridge_r2 = r2_score(y_test, ridge_pred)\n",
    "\n",
    "# Lasso с использованием параметров по умолчанию и масштабированием данных\n",
    "pipe = Pipeline([('scaler', scaler), ('lasso', Lasso())])\n",
    "pipe.fit(X_train, y_train)\n",
    "lasso_pred = pipe.predict(X_test)\n",
    "lasso_r2 = r2_score(y_test, lasso_pred)\n",
    "\n",
    "# Выводим результаты\n",
    "print('R2 для Ridge с параметрами по умолчанию и масштабированием данных:', ridge_r2)\n",
    "print('R2 для Lasso с параметрами по умолчанию и масштабированием данных:', lasso_r2)"
   ]
  },
  {
   "cell_type": "code",
   "execution_count": 8,
   "metadata": {},
   "outputs": [
    {
     "name": "stdout",
     "output_type": "stream",
     "text": [
      "R2 для Ridge с параметрами по умолчанию и масштабированием данных: 0.668190107677443\n",
      "R2 для Lasso с параметрами по умолчанию и масштабированием данных: 0.624044752347846\n"
     ]
    }
   ],
   "source": [
    "# StandardScaler Масштабирование данных\n",
    "scaler = StandardScaler()\n",
    "X_train_scaled = scaler.fit_transform(X_train)\n",
    "X_test_scaled = scaler.transform(X_test)\n",
    "\n",
    "# Ridge с использованием параметров по умолчанию и масштабированием данных\n",
    "ridge_scaled = Ridge()\n",
    "ridge_scaled.fit(X_train_scaled, y_train)\n",
    "ridge_pred_scaled = ridge_scaled.predict(X_test_scaled)\n",
    "ridge_r2_scaled = r2_score(y_test, ridge_pred_scaled)\n",
    "\n",
    "# Lasso с использованием параметров по умолчанию и масштабированием данных\n",
    "lasso_scaled = Lasso()\n",
    "lasso_scaled.fit(X_train_scaled, y_train)\n",
    "lasso_pred_scaled = lasso_scaled.predict(X_test_scaled)\n",
    "lasso_r2_scaled = r2_score(y_test, lasso_pred_scaled)\n",
    "\n",
    "# Выводим результаты\n",
    "print('R2 для Ridge с параметрами по умолчанию и масштабированием данных:', ridge_r2_scaled)\n",
    "print('R2 для Lasso с параметрами по умолчанию и масштабированием данных:', lasso_r2_scaled)"
   ]
  },
  {
   "cell_type": "code",
   "execution_count": 9,
   "metadata": {},
   "outputs": [
    {
     "name": "stdout",
     "output_type": "stream",
     "text": [
      "R2 для Ridge с параметрами по умолчанию и масштабированием данных: 0.6762207658974596\n",
      "R2 для Lasso с параметрами по умолчанию и масштабированием данных: 0.2573921442545195\n"
     ]
    }
   ],
   "source": [
    "# MinMaxScaler Масштабирование данных\n",
    "scaler = MinMaxScaler()\n",
    "X_train_scaled = scaler.fit_transform(X_train)\n",
    "X_test_scaled = scaler.transform(X_test)\n",
    "\n",
    "# Ridge с использованием параметров по умолчанию и масштабированием данных\n",
    "ridge_scaled = Ridge()\n",
    "ridge_scaled.fit(X_train_scaled, y_train)\n",
    "ridge_pred_scaled = ridge_scaled.predict(X_test_scaled)\n",
    "ridge_r2_scaled = r2_score(y_test, ridge_pred_scaled)\n",
    "\n",
    "# Lasso с использованием параметров по умолчанию и масштабированием данных\n",
    "lasso_scaled = Lasso()\n",
    "lasso_scaled.fit(X_train_scaled, y_train)\n",
    "lasso_pred_scaled = lasso_scaled.predict(X_test_scaled)\n",
    "lasso_r2_scaled = r2_score(y_test, lasso_pred_scaled)\n",
    "\n",
    "# Выводим результаты\n",
    "print('R2 для Ridge с параметрами по умолчанию и масштабированием данных:', ridge_r2_scaled)\n",
    "print('R2 для Lasso с параметрами по умолчанию и масштабированием данных:', lasso_r2_scaled)"
   ]
  },
  {
   "cell_type": "markdown",
   "metadata": {},
   "source": [
    "5. Подберите коэффициент регуляризации для Ridge и Lasso на масштабированных данных, посчитайте R2 и сравните с предыдущими результатами."
   ]
  },
  {
   "cell_type": "code",
   "execution_count": 10,
   "metadata": {},
   "outputs": [
    {
     "name": "stdout",
     "output_type": "stream",
     "text": [
      "R2 для Ridge с GridSearchCV и масштабированием данных: 0.668190107677443\n",
      "R2 для Lasso с GridSearchCV и масштабированием данных: 0.6684821312777706\n"
     ]
    }
   ],
   "source": [
    "# Масштабирование данных\n",
    "scaler = StandardScaler()\n",
    "X_train_scaled = scaler.fit_transform(X_train)\n",
    "X_test_scaled = scaler.transform(X_test)\n",
    "\n",
    "# Ridge с использованием GridSearchCV и масштабированием данных\n",
    "ridge = Ridge()\n",
    "ridge_params = {'alpha': np.logspace(-5, 5, 11)}\n",
    "ridge_grid = GridSearchCV(ridge, ridge_params, cv=5)\n",
    "ridge_grid.fit(X_train_scaled, y_train)\n",
    "ridge_pred = ridge_grid.predict(X_test_scaled)\n",
    "ridge_r2 = r2_score(y_test, ridge_pred)\n",
    "\n",
    "# Lasso с использованием GridSearchCV и масштабированием данных\n",
    "lasso = Lasso()\n",
    "lasso_params = {'alpha': np.logspace(-5, 5, 11)}\n",
    "lasso_grid = GridSearchCV(lasso, lasso_params, cv=5)\n",
    "lasso_grid.fit(X_train_scaled, y_train)\n",
    "lasso_pred = lasso_grid.predict(X_test_scaled)\n",
    "lasso_r2 = r2_score(y_test, lasso_pred)\n",
    "\n",
    "# Выводим результаты\n",
    "print('R2 для Ridge с GridSearchCV и масштабированием данных:', ridge_r2)\n",
    "print('R2 для Lasso с GridSearchCV и масштабированием данных:', lasso_r2)"
   ]
  },
  {
   "cell_type": "markdown",
   "metadata": {},
   "source": [
    "6. Добавьте попарные произведения признаков и их квадраты (используйте PolynomialFeatures) на масштабированных признаках, посчитайте R2 для Ridge и Lasso с параметрами по умолчанию и сравните с предыдущими результатами."
   ]
  },
  {
   "cell_type": "code",
   "execution_count": 11,
   "metadata": {},
   "outputs": [
    {
     "name": "stdout",
     "output_type": "stream",
     "text": [
      "R2 для Ridge с параметрами по умолчанию и масштабированием данных: 0.8171359789657097\n",
      "R2 для Lasso с параметрами по умолчанию и масштабированием данных: 0.7322738282708989\n"
     ]
    }
   ],
   "source": [
    "from sklearn.preprocessing import PolynomialFeatures\n",
    "\n",
    "# Добавление попарных произведений признаков и их квадратов\n",
    "poly = PolynomialFeatures(degree=2, interaction_only=False, include_bias=False)\n",
    "X_train_poly = poly.fit_transform(X_train_scaled)\n",
    "X_test_poly = poly.transform(X_test_scaled)\n",
    "\n",
    "# Ridge с использованием параметров по умолчанию и масштабированием данных\n",
    "ridge_poly = Ridge()\n",
    "ridge_poly.fit(X_train_poly, y_train)\n",
    "ridge_pred_poly = ridge_poly.predict(X_test_poly)\n",
    "ridge_r2_poly = r2_score(y_test, ridge_pred_poly)\n",
    "\n",
    "# Lasso с использованием параметров по умолчанию и масштабированием данных\n",
    "lasso_poly = Lasso()\n",
    "lasso_poly.fit(X_train_poly, y_train)\n",
    "lasso_pred_poly = lasso_poly.predict(X_test_poly)\n",
    "lasso_r2_poly = r2_score(y_test, lasso_pred_poly)\n",
    "\n",
    "# Выводим результаты\n",
    "print('R2 для Ridge с параметрами по умолчанию и масштабированием данных:', ridge_r2_poly)\n",
    "print('R2 для Lasso с параметрами по умолчанию и масштабированием данных:', lasso_r2_poly)\n",
    "\n"
   ]
  },
  {
   "cell_type": "markdown",
   "metadata": {},
   "source": [
    "7. Подберите коэффициент регуляризации для Ridge и Lasso на масштабированных данных, добавив PolynomialFeatures, посчитайте R2 и сравните с предыдущими результатами."
   ]
  },
  {
   "cell_type": "code",
   "execution_count": 12,
   "metadata": {},
   "outputs": [
    {
     "name": "stderr",
     "output_type": "stream",
     "text": [
      "c:\\Users\\AVV\\Documents\\Programming\\Python\\Teach\\School_DS\\code\\teach-scool-ds\\venv\\Lib\\site-packages\\sklearn\\linear_model\\_coordinate_descent.py:697: ConvergenceWarning: Objective did not converge. You might want to increase the number of iterations, check the scale of the features or consider increasing regularisation. Duality gap: 7.156e+02, tolerance: 2.882e+00\n",
      "  model = cd_fast.enet_coordinate_descent(\n",
      "c:\\Users\\AVV\\Documents\\Programming\\Python\\Teach\\School_DS\\code\\teach-scool-ds\\venv\\Lib\\site-packages\\sklearn\\linear_model\\_coordinate_descent.py:697: ConvergenceWarning: Objective did not converge. You might want to increase the number of iterations, check the scale of the features or consider increasing regularisation. Duality gap: 7.170e+02, tolerance: 2.764e+00\n",
      "  model = cd_fast.enet_coordinate_descent(\n",
      "c:\\Users\\AVV\\Documents\\Programming\\Python\\Teach\\School_DS\\code\\teach-scool-ds\\venv\\Lib\\site-packages\\sklearn\\linear_model\\_coordinate_descent.py:697: ConvergenceWarning: Objective did not converge. You might want to increase the number of iterations, check the scale of the features or consider increasing regularisation. Duality gap: 8.077e+02, tolerance: 2.710e+00\n",
      "  model = cd_fast.enet_coordinate_descent(\n",
      "c:\\Users\\AVV\\Documents\\Programming\\Python\\Teach\\School_DS\\code\\teach-scool-ds\\venv\\Lib\\site-packages\\sklearn\\linear_model\\_coordinate_descent.py:697: ConvergenceWarning: Objective did not converge. You might want to increase the number of iterations, check the scale of the features or consider increasing regularisation. Duality gap: 7.524e+02, tolerance: 2.730e+00\n",
      "  model = cd_fast.enet_coordinate_descent(\n",
      "c:\\Users\\AVV\\Documents\\Programming\\Python\\Teach\\School_DS\\code\\teach-scool-ds\\venv\\Lib\\site-packages\\sklearn\\linear_model\\_coordinate_descent.py:697: ConvergenceWarning: Objective did not converge. You might want to increase the number of iterations, check the scale of the features or consider increasing regularisation. Duality gap: 7.803e+02, tolerance: 2.948e+00\n",
      "  model = cd_fast.enet_coordinate_descent(\n",
      "c:\\Users\\AVV\\Documents\\Programming\\Python\\Teach\\School_DS\\code\\teach-scool-ds\\venv\\Lib\\site-packages\\sklearn\\linear_model\\_coordinate_descent.py:697: ConvergenceWarning: Objective did not converge. You might want to increase the number of iterations, check the scale of the features or consider increasing regularisation. Duality gap: 7.081e+02, tolerance: 2.882e+00\n",
      "  model = cd_fast.enet_coordinate_descent(\n",
      "c:\\Users\\AVV\\Documents\\Programming\\Python\\Teach\\School_DS\\code\\teach-scool-ds\\venv\\Lib\\site-packages\\sklearn\\linear_model\\_coordinate_descent.py:697: ConvergenceWarning: Objective did not converge. You might want to increase the number of iterations, check the scale of the features or consider increasing regularisation. Duality gap: 7.144e+02, tolerance: 2.764e+00\n",
      "  model = cd_fast.enet_coordinate_descent(\n",
      "c:\\Users\\AVV\\Documents\\Programming\\Python\\Teach\\School_DS\\code\\teach-scool-ds\\venv\\Lib\\site-packages\\sklearn\\linear_model\\_coordinate_descent.py:697: ConvergenceWarning: Objective did not converge. You might want to increase the number of iterations, check the scale of the features or consider increasing regularisation. Duality gap: 7.770e+02, tolerance: 2.710e+00\n",
      "  model = cd_fast.enet_coordinate_descent(\n",
      "c:\\Users\\AVV\\Documents\\Programming\\Python\\Teach\\School_DS\\code\\teach-scool-ds\\venv\\Lib\\site-packages\\sklearn\\linear_model\\_coordinate_descent.py:697: ConvergenceWarning: Objective did not converge. You might want to increase the number of iterations, check the scale of the features or consider increasing regularisation. Duality gap: 7.514e+02, tolerance: 2.730e+00\n",
      "  model = cd_fast.enet_coordinate_descent(\n",
      "c:\\Users\\AVV\\Documents\\Programming\\Python\\Teach\\School_DS\\code\\teach-scool-ds\\venv\\Lib\\site-packages\\sklearn\\linear_model\\_coordinate_descent.py:697: ConvergenceWarning: Objective did not converge. You might want to increase the number of iterations, check the scale of the features or consider increasing regularisation. Duality gap: 7.793e+02, tolerance: 2.948e+00\n",
      "  model = cd_fast.enet_coordinate_descent(\n",
      "c:\\Users\\AVV\\Documents\\Programming\\Python\\Teach\\School_DS\\code\\teach-scool-ds\\venv\\Lib\\site-packages\\sklearn\\linear_model\\_coordinate_descent.py:697: ConvergenceWarning: Objective did not converge. You might want to increase the number of iterations, check the scale of the features or consider increasing regularisation. Duality gap: 5.572e+02, tolerance: 2.882e+00\n",
      "  model = cd_fast.enet_coordinate_descent(\n",
      "c:\\Users\\AVV\\Documents\\Programming\\Python\\Teach\\School_DS\\code\\teach-scool-ds\\venv\\Lib\\site-packages\\sklearn\\linear_model\\_coordinate_descent.py:697: ConvergenceWarning: Objective did not converge. You might want to increase the number of iterations, check the scale of the features or consider increasing regularisation. Duality gap: 7.070e+02, tolerance: 2.764e+00\n",
      "  model = cd_fast.enet_coordinate_descent(\n",
      "c:\\Users\\AVV\\Documents\\Programming\\Python\\Teach\\School_DS\\code\\teach-scool-ds\\venv\\Lib\\site-packages\\sklearn\\linear_model\\_coordinate_descent.py:697: ConvergenceWarning: Objective did not converge. You might want to increase the number of iterations, check the scale of the features or consider increasing regularisation. Duality gap: 6.718e+02, tolerance: 2.710e+00\n",
      "  model = cd_fast.enet_coordinate_descent(\n",
      "c:\\Users\\AVV\\Documents\\Programming\\Python\\Teach\\School_DS\\code\\teach-scool-ds\\venv\\Lib\\site-packages\\sklearn\\linear_model\\_coordinate_descent.py:697: ConvergenceWarning: Objective did not converge. You might want to increase the number of iterations, check the scale of the features or consider increasing regularisation. Duality gap: 7.248e+02, tolerance: 2.730e+00\n",
      "  model = cd_fast.enet_coordinate_descent(\n",
      "c:\\Users\\AVV\\Documents\\Programming\\Python\\Teach\\School_DS\\code\\teach-scool-ds\\venv\\Lib\\site-packages\\sklearn\\linear_model\\_coordinate_descent.py:697: ConvergenceWarning: Objective did not converge. You might want to increase the number of iterations, check the scale of the features or consider increasing regularisation. Duality gap: 7.625e+02, tolerance: 2.948e+00\n",
      "  model = cd_fast.enet_coordinate_descent(\n",
      "c:\\Users\\AVV\\Documents\\Programming\\Python\\Teach\\School_DS\\code\\teach-scool-ds\\venv\\Lib\\site-packages\\sklearn\\linear_model\\_coordinate_descent.py:697: ConvergenceWarning: Objective did not converge. You might want to increase the number of iterations, check the scale of the features or consider increasing regularisation. Duality gap: 5.449e+00, tolerance: 2.882e+00\n",
      "  model = cd_fast.enet_coordinate_descent(\n",
      "c:\\Users\\AVV\\Documents\\Programming\\Python\\Teach\\School_DS\\code\\teach-scool-ds\\venv\\Lib\\site-packages\\sklearn\\linear_model\\_coordinate_descent.py:697: ConvergenceWarning: Objective did not converge. You might want to increase the number of iterations, check the scale of the features or consider increasing regularisation. Duality gap: 3.186e+00, tolerance: 2.764e+00\n",
      "  model = cd_fast.enet_coordinate_descent(\n",
      "c:\\Users\\AVV\\Documents\\Programming\\Python\\Teach\\School_DS\\code\\teach-scool-ds\\venv\\Lib\\site-packages\\sklearn\\linear_model\\_coordinate_descent.py:697: ConvergenceWarning: Objective did not converge. You might want to increase the number of iterations, check the scale of the features or consider increasing regularisation. Duality gap: 2.472e+01, tolerance: 2.710e+00\n",
      "  model = cd_fast.enet_coordinate_descent(\n",
      "c:\\Users\\AVV\\Documents\\Programming\\Python\\Teach\\School_DS\\code\\teach-scool-ds\\venv\\Lib\\site-packages\\sklearn\\linear_model\\_coordinate_descent.py:697: ConvergenceWarning: Objective did not converge. You might want to increase the number of iterations, check the scale of the features or consider increasing regularisation. Duality gap: 3.449e+00, tolerance: 2.730e+00\n",
      "  model = cd_fast.enet_coordinate_descent(\n"
     ]
    },
    {
     "name": "stdout",
     "output_type": "stream",
     "text": [
      "R2 для Ridge с GridSearchCV и масштабированием данных: 0.8187344606117988\n",
      "R2 для Lasso с GridSearchCV и масштабированием данных: 0.8128138856150267\n"
     ]
    }
   ],
   "source": [
    "\n",
    "# Добавление попарных произведений признаков и их квадратов\n",
    "poly = PolynomialFeatures(degree=2, interaction_only=False, include_bias=False)\n",
    "X_train_poly = poly.fit_transform(X_train_scaled)\n",
    "X_test_poly = poly.transform(X_test_scaled)\n",
    "\n",
    "# Ridge с использованием GridSearchCV и масштабированием данных\n",
    "ridge = Ridge()\n",
    "ridge_params = {'alpha': np.logspace(-5, 5, 11)}\n",
    "ridge_grid = GridSearchCV(ridge, ridge_params, cv=5)\n",
    "ridge_grid.fit(X_train_poly, y_train)\n",
    "ridge_pred = ridge_grid.predict(X_test_poly)\n",
    "ridge_r2 = r2_score(y_test, ridge_pred)\n",
    "\n",
    "# Lasso с использованием GridSearchCV и масштабированием данных\n",
    "lasso = Lasso()\n",
    "lasso_params = {'alpha': np.logspace(-5, 5, 11)}\n",
    "lasso_grid = GridSearchCV(lasso, lasso_params, cv=5)\n",
    "lasso_grid.fit(X_train_poly, y_train)\n",
    "lasso_pred = lasso_grid.predict(X_test_poly)\n",
    "lasso_r2 = r2_score(y_test, lasso_pred)\n",
    "\n",
    "# Выводим результаты\n",
    "print('R2 для Ridge с GridSearchCV и масштабированием данных:', ridge_r2)\n",
    "print('R2 для Lasso с GridSearchCV и масштабированием данных:', lasso_r2)"
   ]
  },
  {
   "cell_type": "markdown",
   "metadata": {},
   "source": [
    "8. Подберите наилучшую модель (используйте Pipeline, GridSearchSCV) подбирая тип регуляризации (L1,L2), коэффициент регуляризации, метод масштабирования и степень полинома в PolynomialFeatures. Выведите итоговые параметры и результат R2."
   ]
  },
  {
   "cell_type": "code",
   "execution_count": 13,
   "metadata": {},
   "outputs": [
    {
     "name": "stderr",
     "output_type": "stream",
     "text": [
      "c:\\Users\\AVV\\Documents\\Programming\\Python\\Teach\\School_DS\\code\\teach-scool-ds\\venv\\Lib\\site-packages\\sklearn\\linear_model\\_coordinate_descent.py:697: ConvergenceWarning: Objective did not converge. You might want to increase the number of iterations, check the scale of the features or consider increasing regularisation. Duality gap: 7.158e+02, tolerance: 2.882e+00\n",
      "  model = cd_fast.enet_coordinate_descent(\n",
      "c:\\Users\\AVV\\Documents\\Programming\\Python\\Teach\\School_DS\\code\\teach-scool-ds\\venv\\Lib\\site-packages\\sklearn\\linear_model\\_coordinate_descent.py:697: ConvergenceWarning: Objective did not converge. You might want to increase the number of iterations, check the scale of the features or consider increasing regularisation. Duality gap: 7.169e+02, tolerance: 2.764e+00\n",
      "  model = cd_fast.enet_coordinate_descent(\n",
      "c:\\Users\\AVV\\Documents\\Programming\\Python\\Teach\\School_DS\\code\\teach-scool-ds\\venv\\Lib\\site-packages\\sklearn\\linear_model\\_coordinate_descent.py:697: ConvergenceWarning: Objective did not converge. You might want to increase the number of iterations, check the scale of the features or consider increasing regularisation. Duality gap: 8.074e+02, tolerance: 2.710e+00\n",
      "  model = cd_fast.enet_coordinate_descent(\n",
      "c:\\Users\\AVV\\Documents\\Programming\\Python\\Teach\\School_DS\\code\\teach-scool-ds\\venv\\Lib\\site-packages\\sklearn\\linear_model\\_coordinate_descent.py:697: ConvergenceWarning: Objective did not converge. You might want to increase the number of iterations, check the scale of the features or consider increasing regularisation. Duality gap: 7.523e+02, tolerance: 2.730e+00\n",
      "  model = cd_fast.enet_coordinate_descent(\n",
      "c:\\Users\\AVV\\Documents\\Programming\\Python\\Teach\\School_DS\\code\\teach-scool-ds\\venv\\Lib\\site-packages\\sklearn\\linear_model\\_coordinate_descent.py:697: ConvergenceWarning: Objective did not converge. You might want to increase the number of iterations, check the scale of the features or consider increasing regularisation. Duality gap: 7.804e+02, tolerance: 2.948e+00\n",
      "  model = cd_fast.enet_coordinate_descent(\n",
      "c:\\Users\\AVV\\Documents\\Programming\\Python\\Teach\\School_DS\\code\\teach-scool-ds\\venv\\Lib\\site-packages\\sklearn\\linear_model\\_coordinate_descent.py:697: ConvergenceWarning: Objective did not converge. You might want to increase the number of iterations, check the scale of the features or consider increasing regularisation. Duality gap: 8.008e+02, tolerance: 2.882e+00\n",
      "  model = cd_fast.enet_coordinate_descent(\n",
      "c:\\Users\\AVV\\Documents\\Programming\\Python\\Teach\\School_DS\\code\\teach-scool-ds\\venv\\Lib\\site-packages\\sklearn\\linear_model\\_coordinate_descent.py:697: ConvergenceWarning: Objective did not converge. You might want to increase the number of iterations, check the scale of the features or consider increasing regularisation. Duality gap: 8.265e+02, tolerance: 2.764e+00\n",
      "  model = cd_fast.enet_coordinate_descent(\n",
      "c:\\Users\\AVV\\Documents\\Programming\\Python\\Teach\\School_DS\\code\\teach-scool-ds\\venv\\Lib\\site-packages\\sklearn\\linear_model\\_coordinate_descent.py:697: ConvergenceWarning: Objective did not converge. You might want to increase the number of iterations, check the scale of the features or consider increasing regularisation. Duality gap: 9.184e+02, tolerance: 2.710e+00\n",
      "  model = cd_fast.enet_coordinate_descent(\n",
      "c:\\Users\\AVV\\Documents\\Programming\\Python\\Teach\\School_DS\\code\\teach-scool-ds\\venv\\Lib\\site-packages\\sklearn\\linear_model\\_coordinate_descent.py:697: ConvergenceWarning: Objective did not converge. You might want to increase the number of iterations, check the scale of the features or consider increasing regularisation. Duality gap: 8.135e+02, tolerance: 2.730e+00\n",
      "  model = cd_fast.enet_coordinate_descent(\n",
      "c:\\Users\\AVV\\Documents\\Programming\\Python\\Teach\\School_DS\\code\\teach-scool-ds\\venv\\Lib\\site-packages\\sklearn\\linear_model\\_coordinate_descent.py:697: ConvergenceWarning: Objective did not converge. You might want to increase the number of iterations, check the scale of the features or consider increasing regularisation. Duality gap: 8.594e+02, tolerance: 2.948e+00\n",
      "  model = cd_fast.enet_coordinate_descent(\n",
      "c:\\Users\\AVV\\Documents\\Programming\\Python\\Teach\\School_DS\\code\\teach-scool-ds\\venv\\Lib\\site-packages\\sklearn\\linear_model\\_coordinate_descent.py:697: ConvergenceWarning: Objective did not converge. You might want to increase the number of iterations, check the scale of the features or consider increasing regularisation. Duality gap: 1.014e+02, tolerance: 2.882e+00\n",
      "  model = cd_fast.enet_coordinate_descent(\n",
      "c:\\Users\\AVV\\Documents\\Programming\\Python\\Teach\\School_DS\\code\\teach-scool-ds\\venv\\Lib\\site-packages\\sklearn\\linear_model\\_coordinate_descent.py:697: ConvergenceWarning: Objective did not converge. You might want to increase the number of iterations, check the scale of the features or consider increasing regularisation. Duality gap: 1.044e+02, tolerance: 2.764e+00\n",
      "  model = cd_fast.enet_coordinate_descent(\n",
      "c:\\Users\\AVV\\Documents\\Programming\\Python\\Teach\\School_DS\\code\\teach-scool-ds\\venv\\Lib\\site-packages\\sklearn\\linear_model\\_coordinate_descent.py:697: ConvergenceWarning: Objective did not converge. You might want to increase the number of iterations, check the scale of the features or consider increasing regularisation. Duality gap: 1.138e+02, tolerance: 2.710e+00\n",
      "  model = cd_fast.enet_coordinate_descent(\n",
      "c:\\Users\\AVV\\Documents\\Programming\\Python\\Teach\\School_DS\\code\\teach-scool-ds\\venv\\Lib\\site-packages\\sklearn\\linear_model\\_coordinate_descent.py:697: ConvergenceWarning: Objective did not converge. You might want to increase the number of iterations, check the scale of the features or consider increasing regularisation. Duality gap: 1.143e+02, tolerance: 2.730e+00\n",
      "  model = cd_fast.enet_coordinate_descent(\n",
      "c:\\Users\\AVV\\Documents\\Programming\\Python\\Teach\\School_DS\\code\\teach-scool-ds\\venv\\Lib\\site-packages\\sklearn\\linear_model\\_coordinate_descent.py:697: ConvergenceWarning: Objective did not converge. You might want to increase the number of iterations, check the scale of the features or consider increasing regularisation. Duality gap: 1.281e+02, tolerance: 2.948e+00\n",
      "  model = cd_fast.enet_coordinate_descent(\n",
      "c:\\Users\\AVV\\Documents\\Programming\\Python\\Teach\\School_DS\\code\\teach-scool-ds\\venv\\Lib\\site-packages\\sklearn\\linear_model\\_coordinate_descent.py:697: ConvergenceWarning: Objective did not converge. You might want to increase the number of iterations, check the scale of the features or consider increasing regularisation. Duality gap: 3.087e+02, tolerance: 2.882e+00\n",
      "  model = cd_fast.enet_coordinate_descent(\n",
      "c:\\Users\\AVV\\Documents\\Programming\\Python\\Teach\\School_DS\\code\\teach-scool-ds\\venv\\Lib\\site-packages\\sklearn\\linear_model\\_coordinate_descent.py:697: ConvergenceWarning: Objective did not converge. You might want to increase the number of iterations, check the scale of the features or consider increasing regularisation. Duality gap: 3.531e+02, tolerance: 2.764e+00\n",
      "  model = cd_fast.enet_coordinate_descent(\n",
      "c:\\Users\\AVV\\Documents\\Programming\\Python\\Teach\\School_DS\\code\\teach-scool-ds\\venv\\Lib\\site-packages\\sklearn\\linear_model\\_coordinate_descent.py:697: ConvergenceWarning: Objective did not converge. You might want to increase the number of iterations, check the scale of the features or consider increasing regularisation. Duality gap: 3.331e+02, tolerance: 2.710e+00\n",
      "  model = cd_fast.enet_coordinate_descent(\n",
      "c:\\Users\\AVV\\Documents\\Programming\\Python\\Teach\\School_DS\\code\\teach-scool-ds\\venv\\Lib\\site-packages\\sklearn\\linear_model\\_coordinate_descent.py:697: ConvergenceWarning: Objective did not converge. You might want to increase the number of iterations, check the scale of the features or consider increasing regularisation. Duality gap: 3.548e+02, tolerance: 2.730e+00\n",
      "  model = cd_fast.enet_coordinate_descent(\n",
      "c:\\Users\\AVV\\Documents\\Programming\\Python\\Teach\\School_DS\\code\\teach-scool-ds\\venv\\Lib\\site-packages\\sklearn\\linear_model\\_coordinate_descent.py:697: ConvergenceWarning: Objective did not converge. You might want to increase the number of iterations, check the scale of the features or consider increasing regularisation. Duality gap: 3.601e+02, tolerance: 2.948e+00\n",
      "  model = cd_fast.enet_coordinate_descent(\n",
      "c:\\Users\\AVV\\Documents\\Programming\\Python\\Teach\\School_DS\\code\\teach-scool-ds\\venv\\Lib\\site-packages\\sklearn\\linear_model\\_coordinate_descent.py:697: ConvergenceWarning: Objective did not converge. You might want to increase the number of iterations, check the scale of the features or consider increasing regularisation. Duality gap: 7.116e+02, tolerance: 2.882e+00\n",
      "  model = cd_fast.enet_coordinate_descent(\n",
      "c:\\Users\\AVV\\Documents\\Programming\\Python\\Teach\\School_DS\\code\\teach-scool-ds\\venv\\Lib\\site-packages\\sklearn\\linear_model\\_coordinate_descent.py:697: ConvergenceWarning: Objective did not converge. You might want to increase the number of iterations, check the scale of the features or consider increasing regularisation. Duality gap: 7.131e+02, tolerance: 2.764e+00\n",
      "  model = cd_fast.enet_coordinate_descent(\n",
      "c:\\Users\\AVV\\Documents\\Programming\\Python\\Teach\\School_DS\\code\\teach-scool-ds\\venv\\Lib\\site-packages\\sklearn\\linear_model\\_coordinate_descent.py:697: ConvergenceWarning: Objective did not converge. You might want to increase the number of iterations, check the scale of the features or consider increasing regularisation. Duality gap: 7.755e+02, tolerance: 2.710e+00\n",
      "  model = cd_fast.enet_coordinate_descent(\n",
      "c:\\Users\\AVV\\Documents\\Programming\\Python\\Teach\\School_DS\\code\\teach-scool-ds\\venv\\Lib\\site-packages\\sklearn\\linear_model\\_coordinate_descent.py:697: ConvergenceWarning: Objective did not converge. You might want to increase the number of iterations, check the scale of the features or consider increasing regularisation. Duality gap: 7.503e+02, tolerance: 2.730e+00\n",
      "  model = cd_fast.enet_coordinate_descent(\n",
      "c:\\Users\\AVV\\Documents\\Programming\\Python\\Teach\\School_DS\\code\\teach-scool-ds\\venv\\Lib\\site-packages\\sklearn\\linear_model\\_coordinate_descent.py:697: ConvergenceWarning: Objective did not converge. You might want to increase the number of iterations, check the scale of the features or consider increasing regularisation. Duality gap: 7.789e+02, tolerance: 2.948e+00\n",
      "  model = cd_fast.enet_coordinate_descent(\n",
      "c:\\Users\\AVV\\Documents\\Programming\\Python\\Teach\\School_DS\\code\\teach-scool-ds\\venv\\Lib\\site-packages\\sklearn\\linear_model\\_coordinate_descent.py:697: ConvergenceWarning: Objective did not converge. You might want to increase the number of iterations, check the scale of the features or consider increasing regularisation. Duality gap: 8.297e+02, tolerance: 2.882e+00\n",
      "  model = cd_fast.enet_coordinate_descent(\n",
      "c:\\Users\\AVV\\Documents\\Programming\\Python\\Teach\\School_DS\\code\\teach-scool-ds\\venv\\Lib\\site-packages\\sklearn\\linear_model\\_coordinate_descent.py:697: ConvergenceWarning: Objective did not converge. You might want to increase the number of iterations, check the scale of the features or consider increasing regularisation. Duality gap: 8.454e+02, tolerance: 2.764e+00\n",
      "  model = cd_fast.enet_coordinate_descent(\n",
      "c:\\Users\\AVV\\Documents\\Programming\\Python\\Teach\\School_DS\\code\\teach-scool-ds\\venv\\Lib\\site-packages\\sklearn\\linear_model\\_coordinate_descent.py:697: ConvergenceWarning: Objective did not converge. You might want to increase the number of iterations, check the scale of the features or consider increasing regularisation. Duality gap: 9.314e+02, tolerance: 2.710e+00\n",
      "  model = cd_fast.enet_coordinate_descent(\n",
      "c:\\Users\\AVV\\Documents\\Programming\\Python\\Teach\\School_DS\\code\\teach-scool-ds\\venv\\Lib\\site-packages\\sklearn\\linear_model\\_coordinate_descent.py:697: ConvergenceWarning: Objective did not converge. You might want to increase the number of iterations, check the scale of the features or consider increasing regularisation. Duality gap: 8.111e+02, tolerance: 2.730e+00\n",
      "  model = cd_fast.enet_coordinate_descent(\n",
      "c:\\Users\\AVV\\Documents\\Programming\\Python\\Teach\\School_DS\\code\\teach-scool-ds\\venv\\Lib\\site-packages\\sklearn\\linear_model\\_coordinate_descent.py:697: ConvergenceWarning: Objective did not converge. You might want to increase the number of iterations, check the scale of the features or consider increasing regularisation. Duality gap: 8.478e+02, tolerance: 2.948e+00\n",
      "  model = cd_fast.enet_coordinate_descent(\n",
      "c:\\Users\\AVV\\Documents\\Programming\\Python\\Teach\\School_DS\\code\\teach-scool-ds\\venv\\Lib\\site-packages\\sklearn\\linear_model\\_coordinate_descent.py:697: ConvergenceWarning: Objective did not converge. You might want to increase the number of iterations, check the scale of the features or consider increasing regularisation. Duality gap: 1.160e+02, tolerance: 2.882e+00\n",
      "  model = cd_fast.enet_coordinate_descent(\n",
      "c:\\Users\\AVV\\Documents\\Programming\\Python\\Teach\\School_DS\\code\\teach-scool-ds\\venv\\Lib\\site-packages\\sklearn\\linear_model\\_coordinate_descent.py:697: ConvergenceWarning: Objective did not converge. You might want to increase the number of iterations, check the scale of the features or consider increasing regularisation. Duality gap: 1.188e+02, tolerance: 2.764e+00\n",
      "  model = cd_fast.enet_coordinate_descent(\n",
      "c:\\Users\\AVV\\Documents\\Programming\\Python\\Teach\\School_DS\\code\\teach-scool-ds\\venv\\Lib\\site-packages\\sklearn\\linear_model\\_coordinate_descent.py:697: ConvergenceWarning: Objective did not converge. You might want to increase the number of iterations, check the scale of the features or consider increasing regularisation. Duality gap: 1.290e+02, tolerance: 2.710e+00\n",
      "  model = cd_fast.enet_coordinate_descent(\n",
      "c:\\Users\\AVV\\Documents\\Programming\\Python\\Teach\\School_DS\\code\\teach-scool-ds\\venv\\Lib\\site-packages\\sklearn\\linear_model\\_coordinate_descent.py:697: ConvergenceWarning: Objective did not converge. You might want to increase the number of iterations, check the scale of the features or consider increasing regularisation. Duality gap: 1.275e+02, tolerance: 2.730e+00\n",
      "  model = cd_fast.enet_coordinate_descent(\n",
      "c:\\Users\\AVV\\Documents\\Programming\\Python\\Teach\\School_DS\\code\\teach-scool-ds\\venv\\Lib\\site-packages\\sklearn\\linear_model\\_coordinate_descent.py:697: ConvergenceWarning: Objective did not converge. You might want to increase the number of iterations, check the scale of the features or consider increasing regularisation. Duality gap: 1.436e+02, tolerance: 2.948e+00\n",
      "  model = cd_fast.enet_coordinate_descent(\n",
      "c:\\Users\\AVV\\Documents\\Programming\\Python\\Teach\\School_DS\\code\\teach-scool-ds\\venv\\Lib\\site-packages\\sklearn\\linear_model\\_coordinate_descent.py:697: ConvergenceWarning: Objective did not converge. You might want to increase the number of iterations, check the scale of the features or consider increasing regularisation. Duality gap: 4.349e+02, tolerance: 2.882e+00\n",
      "  model = cd_fast.enet_coordinate_descent(\n",
      "c:\\Users\\AVV\\Documents\\Programming\\Python\\Teach\\School_DS\\code\\teach-scool-ds\\venv\\Lib\\site-packages\\sklearn\\linear_model\\_coordinate_descent.py:697: ConvergenceWarning: Objective did not converge. You might want to increase the number of iterations, check the scale of the features or consider increasing regularisation. Duality gap: 4.977e+02, tolerance: 2.764e+00\n",
      "  model = cd_fast.enet_coordinate_descent(\n",
      "c:\\Users\\AVV\\Documents\\Programming\\Python\\Teach\\School_DS\\code\\teach-scool-ds\\venv\\Lib\\site-packages\\sklearn\\linear_model\\_coordinate_descent.py:697: ConvergenceWarning: Objective did not converge. You might want to increase the number of iterations, check the scale of the features or consider increasing regularisation. Duality gap: 4.576e+02, tolerance: 2.710e+00\n",
      "  model = cd_fast.enet_coordinate_descent(\n",
      "c:\\Users\\AVV\\Documents\\Programming\\Python\\Teach\\School_DS\\code\\teach-scool-ds\\venv\\Lib\\site-packages\\sklearn\\linear_model\\_coordinate_descent.py:697: ConvergenceWarning: Objective did not converge. You might want to increase the number of iterations, check the scale of the features or consider increasing regularisation. Duality gap: 4.240e+02, tolerance: 2.730e+00\n",
      "  model = cd_fast.enet_coordinate_descent(\n",
      "c:\\Users\\AVV\\Documents\\Programming\\Python\\Teach\\School_DS\\code\\teach-scool-ds\\venv\\Lib\\site-packages\\sklearn\\linear_model\\_coordinate_descent.py:697: ConvergenceWarning: Objective did not converge. You might want to increase the number of iterations, check the scale of the features or consider increasing regularisation. Duality gap: 4.336e+02, tolerance: 2.948e+00\n",
      "  model = cd_fast.enet_coordinate_descent(\n",
      "c:\\Users\\AVV\\Documents\\Programming\\Python\\Teach\\School_DS\\code\\teach-scool-ds\\venv\\Lib\\site-packages\\sklearn\\linear_model\\_coordinate_descent.py:697: ConvergenceWarning: Objective did not converge. You might want to increase the number of iterations, check the scale of the features or consider increasing regularisation. Duality gap: 6.237e+02, tolerance: 2.882e+00\n",
      "  model = cd_fast.enet_coordinate_descent(\n",
      "c:\\Users\\AVV\\Documents\\Programming\\Python\\Teach\\School_DS\\code\\teach-scool-ds\\venv\\Lib\\site-packages\\sklearn\\linear_model\\_coordinate_descent.py:697: ConvergenceWarning: Objective did not converge. You might want to increase the number of iterations, check the scale of the features or consider increasing regularisation. Duality gap: 6.991e+02, tolerance: 2.764e+00\n",
      "  model = cd_fast.enet_coordinate_descent(\n",
      "c:\\Users\\AVV\\Documents\\Programming\\Python\\Teach\\School_DS\\code\\teach-scool-ds\\venv\\Lib\\site-packages\\sklearn\\linear_model\\_coordinate_descent.py:697: ConvergenceWarning: Objective did not converge. You might want to increase the number of iterations, check the scale of the features or consider increasing regularisation. Duality gap: 7.059e+02, tolerance: 2.710e+00\n",
      "  model = cd_fast.enet_coordinate_descent(\n",
      "c:\\Users\\AVV\\Documents\\Programming\\Python\\Teach\\School_DS\\code\\teach-scool-ds\\venv\\Lib\\site-packages\\sklearn\\linear_model\\_coordinate_descent.py:697: ConvergenceWarning: Objective did not converge. You might want to increase the number of iterations, check the scale of the features or consider increasing regularisation. Duality gap: 7.098e+02, tolerance: 2.730e+00\n",
      "  model = cd_fast.enet_coordinate_descent(\n",
      "c:\\Users\\AVV\\Documents\\Programming\\Python\\Teach\\School_DS\\code\\teach-scool-ds\\venv\\Lib\\site-packages\\sklearn\\linear_model\\_coordinate_descent.py:697: ConvergenceWarning: Objective did not converge. You might want to increase the number of iterations, check the scale of the features or consider increasing regularisation. Duality gap: 7.555e+02, tolerance: 2.948e+00\n",
      "  model = cd_fast.enet_coordinate_descent(\n",
      "c:\\Users\\AVV\\Documents\\Programming\\Python\\Teach\\School_DS\\code\\teach-scool-ds\\venv\\Lib\\site-packages\\sklearn\\linear_model\\_coordinate_descent.py:697: ConvergenceWarning: Objective did not converge. You might want to increase the number of iterations, check the scale of the features or consider increasing regularisation. Duality gap: 7.167e+02, tolerance: 2.882e+00\n",
      "  model = cd_fast.enet_coordinate_descent(\n",
      "c:\\Users\\AVV\\Documents\\Programming\\Python\\Teach\\School_DS\\code\\teach-scool-ds\\venv\\Lib\\site-packages\\sklearn\\linear_model\\_coordinate_descent.py:697: ConvergenceWarning: Objective did not converge. You might want to increase the number of iterations, check the scale of the features or consider increasing regularisation. Duality gap: 8.144e+02, tolerance: 2.764e+00\n",
      "  model = cd_fast.enet_coordinate_descent(\n",
      "c:\\Users\\AVV\\Documents\\Programming\\Python\\Teach\\School_DS\\code\\teach-scool-ds\\venv\\Lib\\site-packages\\sklearn\\linear_model\\_coordinate_descent.py:697: ConvergenceWarning: Objective did not converge. You might want to increase the number of iterations, check the scale of the features or consider increasing regularisation. Duality gap: 7.823e+02, tolerance: 2.710e+00\n",
      "  model = cd_fast.enet_coordinate_descent(\n",
      "c:\\Users\\AVV\\Documents\\Programming\\Python\\Teach\\School_DS\\code\\teach-scool-ds\\venv\\Lib\\site-packages\\sklearn\\linear_model\\_coordinate_descent.py:697: ConvergenceWarning: Objective did not converge. You might want to increase the number of iterations, check the scale of the features or consider increasing regularisation. Duality gap: 6.197e+02, tolerance: 2.730e+00\n",
      "  model = cd_fast.enet_coordinate_descent(\n",
      "c:\\Users\\AVV\\Documents\\Programming\\Python\\Teach\\School_DS\\code\\teach-scool-ds\\venv\\Lib\\site-packages\\sklearn\\linear_model\\_coordinate_descent.py:697: ConvergenceWarning: Objective did not converge. You might want to increase the number of iterations, check the scale of the features or consider increasing regularisation. Duality gap: 6.836e+02, tolerance: 2.948e+00\n",
      "  model = cd_fast.enet_coordinate_descent(\n",
      "c:\\Users\\AVV\\Documents\\Programming\\Python\\Teach\\School_DS\\code\\teach-scool-ds\\venv\\Lib\\site-packages\\sklearn\\linear_model\\_coordinate_descent.py:697: ConvergenceWarning: Objective did not converge. You might want to increase the number of iterations, check the scale of the features or consider increasing regularisation. Duality gap: 2.165e+02, tolerance: 2.882e+00\n",
      "  model = cd_fast.enet_coordinate_descent(\n",
      "c:\\Users\\AVV\\Documents\\Programming\\Python\\Teach\\School_DS\\code\\teach-scool-ds\\venv\\Lib\\site-packages\\sklearn\\linear_model\\_coordinate_descent.py:697: ConvergenceWarning: Objective did not converge. You might want to increase the number of iterations, check the scale of the features or consider increasing regularisation. Duality gap: 2.058e+02, tolerance: 2.764e+00\n",
      "  model = cd_fast.enet_coordinate_descent(\n",
      "c:\\Users\\AVV\\Documents\\Programming\\Python\\Teach\\School_DS\\code\\teach-scool-ds\\venv\\Lib\\site-packages\\sklearn\\linear_model\\_coordinate_descent.py:697: ConvergenceWarning: Objective did not converge. You might want to increase the number of iterations, check the scale of the features or consider increasing regularisation. Duality gap: 2.309e+02, tolerance: 2.710e+00\n",
      "  model = cd_fast.enet_coordinate_descent(\n",
      "c:\\Users\\AVV\\Documents\\Programming\\Python\\Teach\\School_DS\\code\\teach-scool-ds\\venv\\Lib\\site-packages\\sklearn\\linear_model\\_coordinate_descent.py:697: ConvergenceWarning: Objective did not converge. You might want to increase the number of iterations, check the scale of the features or consider increasing regularisation. Duality gap: 2.163e+02, tolerance: 2.730e+00\n",
      "  model = cd_fast.enet_coordinate_descent(\n",
      "c:\\Users\\AVV\\Documents\\Programming\\Python\\Teach\\School_DS\\code\\teach-scool-ds\\venv\\Lib\\site-packages\\sklearn\\linear_model\\_coordinate_descent.py:697: ConvergenceWarning: Objective did not converge. You might want to increase the number of iterations, check the scale of the features or consider increasing regularisation. Duality gap: 2.451e+02, tolerance: 2.948e+00\n",
      "  model = cd_fast.enet_coordinate_descent(\n",
      "c:\\Users\\AVV\\Documents\\Programming\\Python\\Teach\\School_DS\\code\\teach-scool-ds\\venv\\Lib\\site-packages\\sklearn\\linear_model\\_coordinate_descent.py:697: ConvergenceWarning: Objective did not converge. You might want to increase the number of iterations, check the scale of the features or consider increasing regularisation. Duality gap: 3.165e+02, tolerance: 2.882e+00\n",
      "  model = cd_fast.enet_coordinate_descent(\n",
      "c:\\Users\\AVV\\Documents\\Programming\\Python\\Teach\\School_DS\\code\\teach-scool-ds\\venv\\Lib\\site-packages\\sklearn\\linear_model\\_coordinate_descent.py:697: ConvergenceWarning: Objective did not converge. You might want to increase the number of iterations, check the scale of the features or consider increasing regularisation. Duality gap: 3.702e+02, tolerance: 2.764e+00\n",
      "  model = cd_fast.enet_coordinate_descent(\n",
      "c:\\Users\\AVV\\Documents\\Programming\\Python\\Teach\\School_DS\\code\\teach-scool-ds\\venv\\Lib\\site-packages\\sklearn\\linear_model\\_coordinate_descent.py:697: ConvergenceWarning: Objective did not converge. You might want to increase the number of iterations, check the scale of the features or consider increasing regularisation. Duality gap: 4.692e+02, tolerance: 2.710e+00\n",
      "  model = cd_fast.enet_coordinate_descent(\n",
      "c:\\Users\\AVV\\Documents\\Programming\\Python\\Teach\\School_DS\\code\\teach-scool-ds\\venv\\Lib\\site-packages\\sklearn\\linear_model\\_coordinate_descent.py:697: ConvergenceWarning: Objective did not converge. You might want to increase the number of iterations, check the scale of the features or consider increasing regularisation. Duality gap: 3.318e+02, tolerance: 2.730e+00\n",
      "  model = cd_fast.enet_coordinate_descent(\n",
      "c:\\Users\\AVV\\Documents\\Programming\\Python\\Teach\\School_DS\\code\\teach-scool-ds\\venv\\Lib\\site-packages\\sklearn\\linear_model\\_coordinate_descent.py:697: ConvergenceWarning: Objective did not converge. You might want to increase the number of iterations, check the scale of the features or consider increasing regularisation. Duality gap: 4.485e+02, tolerance: 2.948e+00\n",
      "  model = cd_fast.enet_coordinate_descent(\n",
      "c:\\Users\\AVV\\Documents\\Programming\\Python\\Teach\\School_DS\\code\\teach-scool-ds\\venv\\Lib\\site-packages\\sklearn\\linear_model\\_coordinate_descent.py:697: ConvergenceWarning: Objective did not converge. You might want to increase the number of iterations, check the scale of the features or consider increasing regularisation. Duality gap: 5.105e+00, tolerance: 2.882e+00\n",
      "  model = cd_fast.enet_coordinate_descent(\n",
      "c:\\Users\\AVV\\Documents\\Programming\\Python\\Teach\\School_DS\\code\\teach-scool-ds\\venv\\Lib\\site-packages\\sklearn\\linear_model\\_coordinate_descent.py:697: ConvergenceWarning: Objective did not converge. You might want to increase the number of iterations, check the scale of the features or consider increasing regularisation. Duality gap: 4.538e+00, tolerance: 2.764e+00\n",
      "  model = cd_fast.enet_coordinate_descent(\n",
      "c:\\Users\\AVV\\Documents\\Programming\\Python\\Teach\\School_DS\\code\\teach-scool-ds\\venv\\Lib\\site-packages\\sklearn\\linear_model\\_coordinate_descent.py:697: ConvergenceWarning: Objective did not converge. You might want to increase the number of iterations, check the scale of the features or consider increasing regularisation. Duality gap: 2.347e+01, tolerance: 2.710e+00\n",
      "  model = cd_fast.enet_coordinate_descent(\n",
      "c:\\Users\\AVV\\Documents\\Programming\\Python\\Teach\\School_DS\\code\\teach-scool-ds\\venv\\Lib\\site-packages\\sklearn\\linear_model\\_coordinate_descent.py:697: ConvergenceWarning: Objective did not converge. You might want to increase the number of iterations, check the scale of the features or consider increasing regularisation. Duality gap: 4.859e+00, tolerance: 2.730e+00\n",
      "  model = cd_fast.enet_coordinate_descent(\n",
      "c:\\Users\\AVV\\Documents\\Programming\\Python\\Teach\\School_DS\\code\\teach-scool-ds\\venv\\Lib\\site-packages\\sklearn\\linear_model\\_coordinate_descent.py:697: ConvergenceWarning: Objective did not converge. You might want to increase the number of iterations, check the scale of the features or consider increasing regularisation. Duality gap: 3.517e+00, tolerance: 2.948e+00\n",
      "  model = cd_fast.enet_coordinate_descent(\n",
      "c:\\Users\\AVV\\Documents\\Programming\\Python\\Teach\\School_DS\\code\\teach-scool-ds\\venv\\Lib\\site-packages\\sklearn\\linear_model\\_coordinate_descent.py:697: ConvergenceWarning: Objective did not converge. You might want to increase the number of iterations, check the scale of the features or consider increasing regularisation. Duality gap: 1.921e+01, tolerance: 2.882e+00\n",
      "  model = cd_fast.enet_coordinate_descent(\n",
      "c:\\Users\\AVV\\Documents\\Programming\\Python\\Teach\\School_DS\\code\\teach-scool-ds\\venv\\Lib\\site-packages\\sklearn\\linear_model\\_coordinate_descent.py:697: ConvergenceWarning: Objective did not converge. You might want to increase the number of iterations, check the scale of the features or consider increasing regularisation. Duality gap: 8.045e+00, tolerance: 2.764e+00\n",
      "  model = cd_fast.enet_coordinate_descent(\n",
      "c:\\Users\\AVV\\Documents\\Programming\\Python\\Teach\\School_DS\\code\\teach-scool-ds\\venv\\Lib\\site-packages\\sklearn\\linear_model\\_coordinate_descent.py:697: ConvergenceWarning: Objective did not converge. You might want to increase the number of iterations, check the scale of the features or consider increasing regularisation. Duality gap: 2.744e+01, tolerance: 2.710e+00\n",
      "  model = cd_fast.enet_coordinate_descent(\n",
      "c:\\Users\\AVV\\Documents\\Programming\\Python\\Teach\\School_DS\\code\\teach-scool-ds\\venv\\Lib\\site-packages\\sklearn\\linear_model\\_coordinate_descent.py:697: ConvergenceWarning: Objective did not converge. You might want to increase the number of iterations, check the scale of the features or consider increasing regularisation. Duality gap: 2.238e+01, tolerance: 2.948e+00\n",
      "  model = cd_fast.enet_coordinate_descent(\n",
      "c:\\Users\\AVV\\Documents\\Programming\\Python\\Teach\\School_DS\\code\\teach-scool-ds\\venv\\Lib\\site-packages\\sklearn\\linear_model\\_coordinate_descent.py:697: ConvergenceWarning: Objective did not converge. You might want to increase the number of iterations, check the scale of the features or consider increasing regularisation. Duality gap: 4.163e+02, tolerance: 2.882e+00\n",
      "  model = cd_fast.enet_coordinate_descent(\n",
      "c:\\Users\\AVV\\Documents\\Programming\\Python\\Teach\\School_DS\\code\\teach-scool-ds\\venv\\Lib\\site-packages\\sklearn\\linear_model\\_coordinate_descent.py:697: ConvergenceWarning: Objective did not converge. You might want to increase the number of iterations, check the scale of the features or consider increasing regularisation. Duality gap: 3.680e+02, tolerance: 2.764e+00\n",
      "  model = cd_fast.enet_coordinate_descent(\n",
      "c:\\Users\\AVV\\Documents\\Programming\\Python\\Teach\\School_DS\\code\\teach-scool-ds\\venv\\Lib\\site-packages\\sklearn\\linear_model\\_coordinate_descent.py:697: ConvergenceWarning: Objective did not converge. You might want to increase the number of iterations, check the scale of the features or consider increasing regularisation. Duality gap: 3.603e+02, tolerance: 2.710e+00\n",
      "  model = cd_fast.enet_coordinate_descent(\n",
      "c:\\Users\\AVV\\Documents\\Programming\\Python\\Teach\\School_DS\\code\\teach-scool-ds\\venv\\Lib\\site-packages\\sklearn\\linear_model\\_coordinate_descent.py:697: ConvergenceWarning: Objective did not converge. You might want to increase the number of iterations, check the scale of the features or consider increasing regularisation. Duality gap: 4.358e+02, tolerance: 2.730e+00\n",
      "  model = cd_fast.enet_coordinate_descent(\n",
      "c:\\Users\\AVV\\Documents\\Programming\\Python\\Teach\\School_DS\\code\\teach-scool-ds\\venv\\Lib\\site-packages\\sklearn\\linear_model\\_coordinate_descent.py:697: ConvergenceWarning: Objective did not converge. You might want to increase the number of iterations, check the scale of the features or consider increasing regularisation. Duality gap: 4.805e+02, tolerance: 2.948e+00\n",
      "  model = cd_fast.enet_coordinate_descent(\n",
      "c:\\Users\\AVV\\Documents\\Programming\\Python\\Teach\\School_DS\\code\\teach-scool-ds\\venv\\Lib\\site-packages\\sklearn\\linear_model\\_coordinate_descent.py:697: ConvergenceWarning: Objective did not converge. You might want to increase the number of iterations, check the scale of the features or consider increasing regularisation. Duality gap: 4.880e+01, tolerance: 2.882e+00\n",
      "  model = cd_fast.enet_coordinate_descent(\n",
      "c:\\Users\\AVV\\Documents\\Programming\\Python\\Teach\\School_DS\\code\\teach-scool-ds\\venv\\Lib\\site-packages\\sklearn\\linear_model\\_coordinate_descent.py:697: ConvergenceWarning: Objective did not converge. You might want to increase the number of iterations, check the scale of the features or consider increasing regularisation. Duality gap: 1.523e+01, tolerance: 2.764e+00\n",
      "  model = cd_fast.enet_coordinate_descent(\n",
      "c:\\Users\\AVV\\Documents\\Programming\\Python\\Teach\\School_DS\\code\\teach-scool-ds\\venv\\Lib\\site-packages\\sklearn\\linear_model\\_coordinate_descent.py:697: ConvergenceWarning: Objective did not converge. You might want to increase the number of iterations, check the scale of the features or consider increasing regularisation. Duality gap: 1.202e+01, tolerance: 2.710e+00\n",
      "  model = cd_fast.enet_coordinate_descent(\n",
      "c:\\Users\\AVV\\Documents\\Programming\\Python\\Teach\\School_DS\\code\\teach-scool-ds\\venv\\Lib\\site-packages\\sklearn\\linear_model\\_coordinate_descent.py:697: ConvergenceWarning: Objective did not converge. You might want to increase the number of iterations, check the scale of the features or consider increasing regularisation. Duality gap: 2.007e+01, tolerance: 2.730e+00\n",
      "  model = cd_fast.enet_coordinate_descent(\n",
      "c:\\Users\\AVV\\Documents\\Programming\\Python\\Teach\\School_DS\\code\\teach-scool-ds\\venv\\Lib\\site-packages\\sklearn\\linear_model\\_coordinate_descent.py:697: ConvergenceWarning: Objective did not converge. You might want to increase the number of iterations, check the scale of the features or consider increasing regularisation. Duality gap: 1.032e+01, tolerance: 2.948e+00\n",
      "  model = cd_fast.enet_coordinate_descent(\n"
     ]
    },
    {
     "name": "stdout",
     "output_type": "stream",
     "text": [
      "Наилучшие параметры: {'model': Lasso(), 'model__alpha': np.float64(0.001), 'poly__degree': 3, 'scaler': MinMaxScaler()}\n",
      "R2 на тестовой выборке: 0.8458384498865369\n"
     ]
    },
    {
     "name": "stderr",
     "output_type": "stream",
     "text": [
      "c:\\Users\\AVV\\Documents\\Programming\\Python\\Teach\\School_DS\\code\\teach-scool-ds\\venv\\Lib\\site-packages\\sklearn\\linear_model\\_coordinate_descent.py:697: ConvergenceWarning: Objective did not converge. You might want to increase the number of iterations, check the scale of the features or consider increasing regularisation. Duality gap: 4.790e+02, tolerance: 3.510e+00\n",
      "  model = cd_fast.enet_coordinate_descent(\n"
     ]
    }
   ],
   "source": [
    "# Масштабирование данных\n",
    "scaler = StandardScaler()\n",
    "poly = PolynomialFeatures(degree=2, interaction_only=False, include_bias=False)\n",
    "\n",
    "# Создание пайплайна\n",
    "pipe = Pipeline([('scaler', scaler), ('poly', poly), ('model', Ridge())])\n",
    "\n",
    "# Подбор параметров с использованием GridSearchCV\n",
    "param_grid = {\n",
    "    'model': [Ridge(), Lasso()],\n",
    "    'scaler': [StandardScaler(), MinMaxScaler()],\n",
    "    'poly__degree': [1, 2, 3],\n",
    "    'model__alpha': np.logspace(-5, 5, 11)\n",
    "}\n",
    "grid_search = GridSearchCV(pipe, param_grid, cv=5)\n",
    "grid_search.fit(X_train, y_train)\n",
    "\n",
    "# Вывод наилучших параметров\n",
    "print('Наилучшие параметры:', grid_search.best_params_)\n",
    "\n",
    "# Предсказание на тестовых данных\n",
    "best_model = grid_search.best_estimator_\n",
    "y_pred = best_model.predict(X_test)\n",
    "\n",
    "# Вычисление R2 на тестовой выборке\n",
    "r2 = r2_score(y_test, y_pred)\n",
    "print('R2 на тестовой выборке:', r2)\n"
   ]
  },
  {
   "cell_type": "markdown",
   "metadata": {},
   "source": [
    "http://archive.ics.uci.edu/ml/datasets/Adult"
   ]
  },
  {
   "cell_type": "code",
   "execution_count": 15,
   "metadata": {},
   "outputs": [
    {
     "data": {
      "text/html": [
       "<div>\n",
       "<style scoped>\n",
       "    .dataframe tbody tr th:only-of-type {\n",
       "        vertical-align: middle;\n",
       "    }\n",
       "\n",
       "    .dataframe tbody tr th {\n",
       "        vertical-align: top;\n",
       "    }\n",
       "\n",
       "    .dataframe thead th {\n",
       "        text-align: right;\n",
       "    }\n",
       "</style>\n",
       "<table border=\"1\" class=\"dataframe\">\n",
       "  <thead>\n",
       "    <tr style=\"text-align: right;\">\n",
       "      <th></th>\n",
       "      <th>age</th>\n",
       "      <th>workclass</th>\n",
       "      <th>fnlwgt</th>\n",
       "      <th>education</th>\n",
       "      <th>education-num</th>\n",
       "      <th>marital-status</th>\n",
       "      <th>occupation</th>\n",
       "      <th>relationship</th>\n",
       "      <th>race</th>\n",
       "      <th>sex</th>\n",
       "      <th>capital-gain</th>\n",
       "      <th>capital-loss</th>\n",
       "      <th>hours-per-week</th>\n",
       "      <th>native-country</th>\n",
       "      <th>class</th>\n",
       "    </tr>\n",
       "  </thead>\n",
       "  <tbody>\n",
       "    <tr>\n",
       "      <th>0</th>\n",
       "      <td>39</td>\n",
       "      <td>State-gov</td>\n",
       "      <td>77516</td>\n",
       "      <td>Bachelors</td>\n",
       "      <td>13</td>\n",
       "      <td>Never-married</td>\n",
       "      <td>Adm-clerical</td>\n",
       "      <td>Not-in-family</td>\n",
       "      <td>White</td>\n",
       "      <td>Male</td>\n",
       "      <td>2174</td>\n",
       "      <td>0</td>\n",
       "      <td>40</td>\n",
       "      <td>United-States</td>\n",
       "      <td>&lt;=50K</td>\n",
       "    </tr>\n",
       "    <tr>\n",
       "      <th>1</th>\n",
       "      <td>50</td>\n",
       "      <td>Self-emp-not-inc</td>\n",
       "      <td>83311</td>\n",
       "      <td>Bachelors</td>\n",
       "      <td>13</td>\n",
       "      <td>Married-civ-spouse</td>\n",
       "      <td>Exec-managerial</td>\n",
       "      <td>Husband</td>\n",
       "      <td>White</td>\n",
       "      <td>Male</td>\n",
       "      <td>0</td>\n",
       "      <td>0</td>\n",
       "      <td>13</td>\n",
       "      <td>United-States</td>\n",
       "      <td>&lt;=50K</td>\n",
       "    </tr>\n",
       "  </tbody>\n",
       "</table>\n",
       "</div>"
      ],
      "text/plain": [
       "   age         workclass  fnlwgt  education  education-num  \\\n",
       "0   39         State-gov   77516  Bachelors             13   \n",
       "1   50  Self-emp-not-inc   83311  Bachelors             13   \n",
       "\n",
       "       marital-status       occupation   relationship   race   sex  \\\n",
       "0       Never-married     Adm-clerical  Not-in-family  White  Male   \n",
       "1  Married-civ-spouse  Exec-managerial        Husband  White  Male   \n",
       "\n",
       "   capital-gain  capital-loss  hours-per-week native-country  class  \n",
       "0          2174             0              40  United-States  <=50K  \n",
       "1             0             0              13  United-States  <=50K  "
      ]
     },
     "execution_count": 15,
     "metadata": {},
     "output_type": "execute_result"
    }
   ],
   "source": [
    "data = pd.read_csv('adult.csv')\n",
    "data.head(2)"
   ]
  },
  {
   "cell_type": "markdown",
   "metadata": {},
   "source": [
    "9. Разделите выборку на признаки и целевую переменную(колонка class). Замените целевую переменную на числовые значения ('<=50K' - 1, '>50K' - 0)."
   ]
  },
  {
   "cell_type": "code",
   "execution_count": 25,
   "metadata": {},
   "outputs": [
    {
     "name": "stderr",
     "output_type": "stream",
     "text": [
      "C:\\Users\\AVV\\AppData\\Local\\Temp\\ipykernel_10128\\2111963980.py:6: FutureWarning: Downcasting behavior in `replace` is deprecated and will be removed in a future version. To retain the old behavior, explicitly call `result.infer_objects(copy=False)`. To opt-in to the future behavior, set `pd.set_option('future.no_silent_downcasting', True)`\n",
      "  y = y.replace({'<=50K': 1, '>50K': 0})\n"
     ]
    }
   ],
   "source": [
    "# Разделение выборки на признаки и целевую переменную\n",
    "X = data.drop('class', axis=1)\n",
    "y = data['class']\n",
    "\n",
    "# Замена целевой переменной на числовые значения\n",
    "y = y.replace({'<=50K': 1, '>50K': 0})"
   ]
  },
  {
   "cell_type": "markdown",
   "metadata": {},
   "source": [
    "10. Посчитайте метрики accuracy и f1_score на предсказании только самого частого класса в целевой переменной."
   ]
  },
  {
   "cell_type": "code",
   "execution_count": 18,
   "metadata": {},
   "outputs": [],
   "source": [
    "from sklearn.metrics import accuracy_score, f1_score"
   ]
  },
  {
   "cell_type": "code",
   "execution_count": 22,
   "metadata": {},
   "outputs": [
    {
     "ename": "ValueError",
     "evalue": "Classification metrics can't handle a mix of continuous and binary targets",
     "output_type": "error",
     "traceback": [
      "\u001b[1;31m---------------------------------------------------------------------------\u001b[0m",
      "\u001b[1;31mValueError\u001b[0m                                Traceback (most recent call last)",
      "Cell \u001b[1;32mIn[22], line 5\u001b[0m\n\u001b[0;32m      2\u001b[0m y_pred_most_common \u001b[38;5;241m=\u001b[39m np\u001b[38;5;241m.\u001b[39mfull(y_test\u001b[38;5;241m.\u001b[39mshape, y_train\u001b[38;5;241m.\u001b[39mmode()[\u001b[38;5;241m0\u001b[39m])\n\u001b[0;32m      4\u001b[0m \u001b[38;5;66;03m# Вычисление метрик\u001b[39;00m\n\u001b[1;32m----> 5\u001b[0m accuracy \u001b[38;5;241m=\u001b[39m \u001b[43maccuracy_score\u001b[49m\u001b[43m(\u001b[49m\u001b[43my_test\u001b[49m\u001b[43m,\u001b[49m\u001b[43m \u001b[49m\u001b[43my_pred_most_common\u001b[49m\u001b[43m)\u001b[49m\n\u001b[0;32m      6\u001b[0m f1 \u001b[38;5;241m=\u001b[39m f1_score(y_test, y_pred_most_common)\n\u001b[0;32m      8\u001b[0m \u001b[38;5;66;03m# Вывод результатов\u001b[39;00m\n",
      "File \u001b[1;32mc:\\Users\\AVV\\Documents\\Programming\\Python\\Teach\\School_DS\\code\\teach-scool-ds\\venv\\Lib\\site-packages\\sklearn\\utils\\_param_validation.py:213\u001b[0m, in \u001b[0;36mvalidate_params.<locals>.decorator.<locals>.wrapper\u001b[1;34m(*args, **kwargs)\u001b[0m\n\u001b[0;32m    207\u001b[0m \u001b[38;5;28;01mtry\u001b[39;00m:\n\u001b[0;32m    208\u001b[0m     \u001b[38;5;28;01mwith\u001b[39;00m config_context(\n\u001b[0;32m    209\u001b[0m         skip_parameter_validation\u001b[38;5;241m=\u001b[39m(\n\u001b[0;32m    210\u001b[0m             prefer_skip_nested_validation \u001b[38;5;129;01mor\u001b[39;00m global_skip_validation\n\u001b[0;32m    211\u001b[0m         )\n\u001b[0;32m    212\u001b[0m     ):\n\u001b[1;32m--> 213\u001b[0m         \u001b[38;5;28;01mreturn\u001b[39;00m \u001b[43mfunc\u001b[49m\u001b[43m(\u001b[49m\u001b[38;5;241;43m*\u001b[39;49m\u001b[43margs\u001b[49m\u001b[43m,\u001b[49m\u001b[43m \u001b[49m\u001b[38;5;241;43m*\u001b[39;49m\u001b[38;5;241;43m*\u001b[39;49m\u001b[43mkwargs\u001b[49m\u001b[43m)\u001b[49m\n\u001b[0;32m    214\u001b[0m \u001b[38;5;28;01mexcept\u001b[39;00m InvalidParameterError \u001b[38;5;28;01mas\u001b[39;00m e:\n\u001b[0;32m    215\u001b[0m     \u001b[38;5;66;03m# When the function is just a wrapper around an estimator, we allow\u001b[39;00m\n\u001b[0;32m    216\u001b[0m     \u001b[38;5;66;03m# the function to delegate validation to the estimator, but we replace\u001b[39;00m\n\u001b[0;32m    217\u001b[0m     \u001b[38;5;66;03m# the name of the estimator by the name of the function in the error\u001b[39;00m\n\u001b[0;32m    218\u001b[0m     \u001b[38;5;66;03m# message to avoid confusion.\u001b[39;00m\n\u001b[0;32m    219\u001b[0m     msg \u001b[38;5;241m=\u001b[39m re\u001b[38;5;241m.\u001b[39msub(\n\u001b[0;32m    220\u001b[0m         \u001b[38;5;124mr\u001b[39m\u001b[38;5;124m\"\u001b[39m\u001b[38;5;124mparameter of \u001b[39m\u001b[38;5;124m\\\u001b[39m\u001b[38;5;124mw+ must be\u001b[39m\u001b[38;5;124m\"\u001b[39m,\n\u001b[0;32m    221\u001b[0m         \u001b[38;5;124mf\u001b[39m\u001b[38;5;124m\"\u001b[39m\u001b[38;5;124mparameter of \u001b[39m\u001b[38;5;132;01m{\u001b[39;00mfunc\u001b[38;5;241m.\u001b[39m\u001b[38;5;18m__qualname__\u001b[39m\u001b[38;5;132;01m}\u001b[39;00m\u001b[38;5;124m must be\u001b[39m\u001b[38;5;124m\"\u001b[39m,\n\u001b[0;32m    222\u001b[0m         \u001b[38;5;28mstr\u001b[39m(e),\n\u001b[0;32m    223\u001b[0m     )\n",
      "File \u001b[1;32mc:\\Users\\AVV\\Documents\\Programming\\Python\\Teach\\School_DS\\code\\teach-scool-ds\\venv\\Lib\\site-packages\\sklearn\\metrics\\_classification.py:231\u001b[0m, in \u001b[0;36maccuracy_score\u001b[1;34m(y_true, y_pred, normalize, sample_weight)\u001b[0m\n\u001b[0;32m    229\u001b[0m xp, _, device \u001b[38;5;241m=\u001b[39m get_namespace_and_device(y_true, y_pred, sample_weight)\n\u001b[0;32m    230\u001b[0m \u001b[38;5;66;03m# Compute accuracy for each possible representation\u001b[39;00m\n\u001b[1;32m--> 231\u001b[0m y_type, y_true, y_pred \u001b[38;5;241m=\u001b[39m \u001b[43m_check_targets\u001b[49m\u001b[43m(\u001b[49m\u001b[43my_true\u001b[49m\u001b[43m,\u001b[49m\u001b[43m \u001b[49m\u001b[43my_pred\u001b[49m\u001b[43m)\u001b[49m\n\u001b[0;32m    232\u001b[0m check_consistent_length(y_true, y_pred, sample_weight)\n\u001b[0;32m    233\u001b[0m \u001b[38;5;28;01mif\u001b[39;00m y_type\u001b[38;5;241m.\u001b[39mstartswith(\u001b[38;5;124m\"\u001b[39m\u001b[38;5;124mmultilabel\u001b[39m\u001b[38;5;124m\"\u001b[39m):\n",
      "File \u001b[1;32mc:\\Users\\AVV\\Documents\\Programming\\Python\\Teach\\School_DS\\code\\teach-scool-ds\\venv\\Lib\\site-packages\\sklearn\\metrics\\_classification.py:112\u001b[0m, in \u001b[0;36m_check_targets\u001b[1;34m(y_true, y_pred)\u001b[0m\n\u001b[0;32m    109\u001b[0m     y_type \u001b[38;5;241m=\u001b[39m {\u001b[38;5;124m\"\u001b[39m\u001b[38;5;124mmulticlass\u001b[39m\u001b[38;5;124m\"\u001b[39m}\n\u001b[0;32m    111\u001b[0m \u001b[38;5;28;01mif\u001b[39;00m \u001b[38;5;28mlen\u001b[39m(y_type) \u001b[38;5;241m>\u001b[39m \u001b[38;5;241m1\u001b[39m:\n\u001b[1;32m--> 112\u001b[0m     \u001b[38;5;28;01mraise\u001b[39;00m \u001b[38;5;167;01mValueError\u001b[39;00m(\n\u001b[0;32m    113\u001b[0m         \u001b[38;5;124m\"\u001b[39m\u001b[38;5;124mClassification metrics can\u001b[39m\u001b[38;5;124m'\u001b[39m\u001b[38;5;124mt handle a mix of \u001b[39m\u001b[38;5;132;01m{0}\u001b[39;00m\u001b[38;5;124m and \u001b[39m\u001b[38;5;132;01m{1}\u001b[39;00m\u001b[38;5;124m targets\u001b[39m\u001b[38;5;124m\"\u001b[39m\u001b[38;5;241m.\u001b[39mformat(\n\u001b[0;32m    114\u001b[0m             type_true, type_pred\n\u001b[0;32m    115\u001b[0m         )\n\u001b[0;32m    116\u001b[0m     )\n\u001b[0;32m    118\u001b[0m \u001b[38;5;66;03m# We can't have more than one value on y_type => The set is no more needed\u001b[39;00m\n\u001b[0;32m    119\u001b[0m y_type \u001b[38;5;241m=\u001b[39m y_type\u001b[38;5;241m.\u001b[39mpop()\n",
      "\u001b[1;31mValueError\u001b[0m: Classification metrics can't handle a mix of continuous and binary targets"
     ]
    }
   ],
   "source": [
    "# Предсказание самого частого класса\n",
    "y_pred_most_common = np.full(y_test.shape, y_train.mode()[0])\n",
    "\n",
    "# Вычисление метрик\n",
    "accuracy = accuracy_score(y_test, y_pred_most_common)\n",
    "f1 = f1_score(y_test, y_pred_most_common)\n",
    "\n",
    "# Вывод результатов\n",
    "print('Accuracy:', accuracy)\n",
    "print('F1-score:', f1)"
   ]
  },
  {
   "cell_type": "markdown",
   "metadata": {},
   "source": [
    "11. Выясните, присутствуют ли в данных пропуски. Если присутствуют, заполните их самыми частыми значениями (испольуйте SimpleImputer)"
   ]
  },
  {
   "cell_type": "code",
   "execution_count": null,
   "metadata": {},
   "outputs": [],
   "source": [
    "\n",
    "\n",
    "### Ваш код ###"
   ]
  },
  {
   "cell_type": "markdown",
   "metadata": {},
   "source": [
    "12. Выберите колонки с числовыми и категориальными переменными (используя возможности pandas)."
   ]
  },
  {
   "cell_type": "code",
   "execution_count": null,
   "metadata": {},
   "outputs": [],
   "source": [
    "\n",
    "\n",
    "### Ваш код ###"
   ]
  },
  {
   "cell_type": "markdown",
   "metadata": {},
   "source": [
    "13. Создайте пайплайн по обработке числовых и категориальных значений колонок (используйте OneHotEncoder,MinMaxScaler) и посчитайте cross_val_score по алгоритмам LogisticRegression, KNeighborsClassifier, LinearSVC по метрикам accuracy и f1_score."
   ]
  },
  {
   "cell_type": "code",
   "execution_count": null,
   "metadata": {},
   "outputs": [],
   "source": [
    "\n",
    "\n",
    "### Ваш код ###\n",
    "\n",
    "f1_LR = 0\n",
    "acc_LR = 0\n",
    "f1_KNN = 0\n",
    "acc_KNN = 0\n",
    "f1_SVM = 0\n",
    "acc_SVM = 0\n",
    "results_classification.loc[1] = ['LogisticRegression', 'task13', f1_LR, acc_LR]\n",
    "results_classification.loc[2] = ['KNeighborsClassifier', 'task13', f1_KNN, acc_KNN]\n",
    "results_classification.loc[3] = ['LinearSVC', 'task13', f1_SVM, acc_SVM]"
   ]
  },
  {
   "cell_type": "markdown",
   "metadata": {},
   "source": [
    "14. Можно заметить что в данных присутствуют значения '?', замените их самыми частыми значениями, (испольуйте SimpleImputer). Посчитайте cross_val_score по алгоритмам LogisticRegression, KNeighborsClassifier, LinearSVC по метрикам accuracy и f1_score."
   ]
  },
  {
   "cell_type": "code",
   "execution_count": null,
   "metadata": {},
   "outputs": [],
   "source": [
    "\n",
    "\n",
    "### Ваш код ###\n",
    "\n",
    "f1_LR = 0\n",
    "acc_LR = 0\n",
    "f1_KNN = 0\n",
    "acc_KNN = 0\n",
    "f1_SVM = 0\n",
    "acc_SVM = 0\n",
    "results_classification.loc[4] = ['LogisticRegression_impute', 'task14', f1_LR, acc_LR]\n",
    "results_classification.loc[5] = ['KNeighborsClassifier_impute', 'task14', f1_KNN, acc_KNN]\n",
    "results_classification.loc[6] = ['LinearSVC_impute', 'task14', f1_SVM, acc_SVM]"
   ]
  },
  {
   "cell_type": "markdown",
   "metadata": {},
   "source": [
    "15. Посчитайте cross_val_score по тем же алгоритмам и метрикам, если просто удалить значения '?'."
   ]
  },
  {
   "cell_type": "code",
   "execution_count": null,
   "metadata": {},
   "outputs": [],
   "source": [
    "\n",
    "\n",
    "### Ваш код ###\n",
    "\n",
    "f1_LR_del_missings = 0\n",
    "acc_LR_del_missings = 0\n",
    "f1_KNN_del_missings = 0\n",
    "acc_KNN_del_missings = 0\n",
    "f1_SVM_del_missings = 0\n",
    "acc_SVM_del_missings = 0\n",
    "results_classification.loc[7] = ['LogisticRegression_delete_missings', 'task15', f1_LR_del_missings, acc_LR_del_missings]\n",
    "results_classification.loc[8] = ['KNeighborsClassifier_delete_missings', 'task15', f1_KNN_del_missings, acc_KNN_del_missings]\n",
    "results_classification.loc[9] = ['LinearSVC_delete_missings', 'task15', f1_SVM_del_missings, acc_SVM_del_missings]"
   ]
  },
  {
   "cell_type": "markdown",
   "metadata": {},
   "source": [
    " 16. Посчитайте cross_val_score для RandomForestClassifier,GradientBoostingClassifier на данных с замененными значениями '?' на самые частые значения."
   ]
  },
  {
   "cell_type": "code",
   "execution_count": null,
   "metadata": {},
   "outputs": [],
   "source": [
    "\n",
    "\n",
    "### Ваш код ###\n",
    "\n",
    "f1_RF = 0\n",
    "acc_RF = 0\n",
    "f1_GB = 0\n",
    "acc_GB = 0\n",
    "results_classification.loc[10] = ['RandomForestClassifier', 'task16', f1_RF, acc_RF]\n",
    "results_classification.loc[11] = ['GradientBoostingClassifier', 'task16', f1_GB, acc_GB]"
   ]
  },
  {
   "cell_type": "markdown",
   "metadata": {},
   "source": [
    "17. Подберите наилучшую модель, подбирая методы обработки колонок - масштабирование признаков, кодирование признаков и заполнение пропусков. Параметры алгоритмов оставьте по умолчанию. Выведите итоговые параметры и результат accuracy и f1_score."
   ]
  },
  {
   "cell_type": "code",
   "execution_count": null,
   "metadata": {},
   "outputs": [],
   "source": [
    "\n",
    "\n",
    "### Ваш код ###\n",
    "\n",
    "best_params = {}\n",
    "print('Параметры лучшей модели:\\n', best_params)\n",
    "f1_best = 0\n",
    "acc_best = 0\n",
    "results_classification.loc[12] = ['Best_Model', 'task17', f1_best, acc_best]"
   ]
  },
  {
   "cell_type": "code",
   "execution_count": null,
   "metadata": {},
   "outputs": [],
   "source": []
  },
  {
   "cell_type": "code",
   "execution_count": null,
   "metadata": {},
   "outputs": [],
   "source": [
    "results_classification"
   ]
  },
  {
   "cell_type": "code",
   "execution_count": null,
   "metadata": {},
   "outputs": [],
   "source": []
  },
  {
   "cell_type": "code",
   "execution_count": null,
   "metadata": {},
   "outputs": [],
   "source": []
  },
  {
   "cell_type": "code",
   "execution_count": null,
   "metadata": {},
   "outputs": [],
   "source": []
  }
 ],
 "metadata": {
  "kernelspec": {
   "display_name": "Python 3",
   "language": "python",
   "name": "python3"
  },
  "language_info": {
   "codemirror_mode": {
    "name": "ipython",
    "version": 3
   },
   "file_extension": ".py",
   "mimetype": "text/x-python",
   "name": "python",
   "nbconvert_exporter": "python",
   "pygments_lexer": "ipython3",
   "version": "3.12.5"
  }
 },
 "nbformat": 4,
 "nbformat_minor": 2
}
