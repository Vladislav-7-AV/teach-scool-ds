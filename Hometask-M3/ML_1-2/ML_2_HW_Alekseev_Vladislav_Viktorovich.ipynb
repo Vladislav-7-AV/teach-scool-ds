{
 "cells": [
  {
   "cell_type": "code",
   "execution_count": 1,
   "metadata": {},
   "outputs": [],
   "source": [
    "import pandas as pd\n",
    "import numpy as np\n",
    "from sklearn.model_selection import train_test_split, GridSearchCV\n",
    "from sklearn.linear_model import LinearRegression, Ridge, Lasso, RidgeCV, LassoCV\n",
    "from sklearn.metrics import r2_score\n",
    "from sklearn.preprocessing import StandardScaler, MinMaxScaler, PolynomialFeatures\n",
    "from sklearn.pipeline import Pipeline\n",
    "from sklearn.impute import SimpleImputer"
   ]
  },
  {
   "cell_type": "code",
   "execution_count": 2,
   "metadata": {},
   "outputs": [],
   "source": [
    "RANDOM_STATE = 42\n",
    "\n",
    "results_regression = pd.DataFrame(columns = ['model', 'task', 'R2'])\n",
    "results_classification = pd.DataFrame(columns = ['model', 'task', 'f1', 'accuracy'])"
   ]
  },
  {
   "cell_type": "markdown",
   "metadata": {},
   "source": [
    "https://www.cs.toronto.edu/~delve/data/boston/bostonDetail.html"
   ]
  },
  {
   "cell_type": "code",
   "execution_count": 3,
   "metadata": {},
   "outputs": [
    {
     "data": {
      "text/html": [
       "<div>\n",
       "<style scoped>\n",
       "    .dataframe tbody tr th:only-of-type {\n",
       "        vertical-align: middle;\n",
       "    }\n",
       "\n",
       "    .dataframe tbody tr th {\n",
       "        vertical-align: top;\n",
       "    }\n",
       "\n",
       "    .dataframe thead th {\n",
       "        text-align: right;\n",
       "    }\n",
       "</style>\n",
       "<table border=\"1\" class=\"dataframe\">\n",
       "  <thead>\n",
       "    <tr style=\"text-align: right;\">\n",
       "      <th></th>\n",
       "      <th>CRIM</th>\n",
       "      <th>ZN</th>\n",
       "      <th>INDUS</th>\n",
       "      <th>CHAS</th>\n",
       "      <th>NOX</th>\n",
       "      <th>RM</th>\n",
       "      <th>AGE</th>\n",
       "      <th>DIS</th>\n",
       "      <th>RAD</th>\n",
       "      <th>TAX</th>\n",
       "      <th>PTRATIO</th>\n",
       "      <th>B</th>\n",
       "      <th>LSTAT</th>\n",
       "      <th>MEDV</th>\n",
       "    </tr>\n",
       "  </thead>\n",
       "  <tbody>\n",
       "    <tr>\n",
       "      <th>0</th>\n",
       "      <td>0.00632</td>\n",
       "      <td>18.0</td>\n",
       "      <td>2.31</td>\n",
       "      <td>0.0</td>\n",
       "      <td>0.538</td>\n",
       "      <td>6.575</td>\n",
       "      <td>65.2</td>\n",
       "      <td>4.0900</td>\n",
       "      <td>1.0</td>\n",
       "      <td>296.0</td>\n",
       "      <td>15.3</td>\n",
       "      <td>396.90</td>\n",
       "      <td>4.98</td>\n",
       "      <td>24.0</td>\n",
       "    </tr>\n",
       "    <tr>\n",
       "      <th>1</th>\n",
       "      <td>0.02731</td>\n",
       "      <td>0.0</td>\n",
       "      <td>7.07</td>\n",
       "      <td>0.0</td>\n",
       "      <td>0.469</td>\n",
       "      <td>6.421</td>\n",
       "      <td>78.9</td>\n",
       "      <td>4.9671</td>\n",
       "      <td>2.0</td>\n",
       "      <td>242.0</td>\n",
       "      <td>17.8</td>\n",
       "      <td>396.90</td>\n",
       "      <td>9.14</td>\n",
       "      <td>21.6</td>\n",
       "    </tr>\n",
       "    <tr>\n",
       "      <th>2</th>\n",
       "      <td>0.02729</td>\n",
       "      <td>0.0</td>\n",
       "      <td>7.07</td>\n",
       "      <td>0.0</td>\n",
       "      <td>0.469</td>\n",
       "      <td>7.185</td>\n",
       "      <td>61.1</td>\n",
       "      <td>4.9671</td>\n",
       "      <td>2.0</td>\n",
       "      <td>242.0</td>\n",
       "      <td>17.8</td>\n",
       "      <td>392.83</td>\n",
       "      <td>4.03</td>\n",
       "      <td>34.7</td>\n",
       "    </tr>\n",
       "    <tr>\n",
       "      <th>3</th>\n",
       "      <td>0.03237</td>\n",
       "      <td>0.0</td>\n",
       "      <td>2.18</td>\n",
       "      <td>0.0</td>\n",
       "      <td>0.458</td>\n",
       "      <td>6.998</td>\n",
       "      <td>45.8</td>\n",
       "      <td>6.0622</td>\n",
       "      <td>3.0</td>\n",
       "      <td>222.0</td>\n",
       "      <td>18.7</td>\n",
       "      <td>394.63</td>\n",
       "      <td>2.94</td>\n",
       "      <td>33.4</td>\n",
       "    </tr>\n",
       "    <tr>\n",
       "      <th>4</th>\n",
       "      <td>0.06905</td>\n",
       "      <td>0.0</td>\n",
       "      <td>2.18</td>\n",
       "      <td>0.0</td>\n",
       "      <td>0.458</td>\n",
       "      <td>7.147</td>\n",
       "      <td>54.2</td>\n",
       "      <td>6.0622</td>\n",
       "      <td>3.0</td>\n",
       "      <td>222.0</td>\n",
       "      <td>18.7</td>\n",
       "      <td>396.90</td>\n",
       "      <td>5.33</td>\n",
       "      <td>36.2</td>\n",
       "    </tr>\n",
       "  </tbody>\n",
       "</table>\n",
       "</div>"
      ],
      "text/plain": [
       "      CRIM    ZN  INDUS  CHAS    NOX     RM   AGE     DIS  RAD    TAX  \\\n",
       "0  0.00632  18.0   2.31   0.0  0.538  6.575  65.2  4.0900  1.0  296.0   \n",
       "1  0.02731   0.0   7.07   0.0  0.469  6.421  78.9  4.9671  2.0  242.0   \n",
       "2  0.02729   0.0   7.07   0.0  0.469  7.185  61.1  4.9671  2.0  242.0   \n",
       "3  0.03237   0.0   2.18   0.0  0.458  6.998  45.8  6.0622  3.0  222.0   \n",
       "4  0.06905   0.0   2.18   0.0  0.458  7.147  54.2  6.0622  3.0  222.0   \n",
       "\n",
       "   PTRATIO       B  LSTAT  MEDV  \n",
       "0     15.3  396.90   4.98  24.0  \n",
       "1     17.8  396.90   9.14  21.6  \n",
       "2     17.8  392.83   4.03  34.7  \n",
       "3     18.7  394.63   2.94  33.4  \n",
       "4     18.7  396.90   5.33  36.2  "
      ]
     },
     "execution_count": 3,
     "metadata": {},
     "output_type": "execute_result"
    }
   ],
   "source": [
    "data = pd.read_csv('boston.csv')\n",
    "data.head()"
   ]
  },
  {
   "cell_type": "markdown",
   "metadata": {},
   "source": [
    "1. Разделите выборку на обучающую и тестовую в отношении 80%/20%, предварительно выделив целевую переменную (колонка 'MEDV')."
   ]
  },
  {
   "cell_type": "code",
   "execution_count": 4,
   "metadata": {},
   "outputs": [],
   "source": [
    "y = data['MEDV']\n",
    "X = data.drop('MEDV', axis = 1)\n",
    "X_train, X_test, y_train, y_test = train_test_split(X, y, test_size = 0.2, random_state = RANDOM_STATE)"
   ]
  },
  {
   "cell_type": "markdown",
   "metadata": {},
   "source": [
    "2. Обучите стандартную регрессию, а также Ridge и  Lasso с параметрами по умолчанию и выведите их R2 на тестовой выборке"
   ]
  },
  {
   "cell_type": "code",
   "execution_count": 5,
   "metadata": {},
   "outputs": [
    {
     "name": "stdout",
     "output_type": "stream",
     "text": [
      "model          LR\n",
      "task        task2\n",
      "R2       0.668483\n",
      "Name: 0, dtype: object\n",
      "model       Ridge\n",
      "task        task2\n",
      "R2       0.665961\n",
      "Name: 1, dtype: object\n",
      "model       Lasso\n",
      "task        task2\n",
      "R2       0.666869\n",
      "Name: 2, dtype: object\n"
     ]
    }
   ],
   "source": [
    "r2_lr = 0\n",
    "r2_ridge = 0\n",
    "r2_lasso = 0\n",
    "\n",
    "lr = LinearRegression()\n",
    "lr.fit(X_train, y_train)\n",
    "\n",
    "ridge = Ridge()\n",
    "ridge.fit(X_train, y_train)\n",
    "\n",
    "lasso = Lasso()\n",
    "lasso.fit(X_train, y_train)\n",
    "\n",
    "r2_lr = r2_score(y_test, lr.predict(X_test))\n",
    "r2_ridge = r2_score(y_test, ridge.predict(X_test))\n",
    "r2_lasso = r2_score(y_test, lasso.predict(X_test))\n",
    "\n",
    "\n",
    "\n",
    "results_regression.loc[0] = ['LR', 'task2', r2_lr]\n",
    "results_regression.loc[1] = ['Ridge', 'task2', r2_ridge]\n",
    "results_regression.loc[2] = ['Lasso', 'task2', r2_lasso]\n",
    "\n",
    "print(results_regression.loc[0])\n",
    "print(results_regression.loc[1])\n",
    "print(results_regression.loc[2])\n"
   ]
  },
  {
   "cell_type": "markdown",
   "metadata": {},
   "source": [
    "3. Для Ridge и Lasso подберите коэффициент регуляризации двумя способами 1) GridSearchCV, 2) RidgeCV и LassoCV, в пределах от $10^{-5}$ до $10^5$ (по степеням 10). Посчитайте R2 на тестовой выборке по всем моделям и сравните с предыдущими результатами."
   ]
  },
  {
   "cell_type": "code",
   "execution_count": 6,
   "metadata": {},
   "outputs": [
    {
     "name": "stdout",
     "output_type": "stream",
     "text": [
      "R2 для Ridge с GridSearchCV: 0.6684825680074256\n",
      "R2 для Ridge с RidgeCV: 0.6684825680074256\n",
      "R2 для Lasso с GridSearchCV: 0.6684829595885677\n",
      "R2 для Lasso с LassoCV: 0.6684829595885677\n"
     ]
    }
   ],
   "source": [
    "\n",
    "\n",
    "r2_ridge_grid_search = 0\n",
    "r2_ridge_cv = 0\n",
    "r2_lasso_grid_search = 0\n",
    "r2_lasso_cv = 0\n",
    "\n",
    "# Ridge с использованием GridSearchCV\n",
    "ridge = Ridge()\n",
    "ridge_params = {'alpha': np.logspace(-5, 5, 11)}\n",
    "ridge_grid = GridSearchCV(ridge, ridge_params, cv=5)\n",
    "ridge_grid.fit(X_train, y_train)\n",
    "ridge_pred = ridge_grid.predict(X_test)\n",
    "ridge_r2 = r2_score(y_test, ridge_pred)\n",
    "\n",
    "# Lasso с использованием GridSearchCV\n",
    "lasso = Lasso()\n",
    "lasso_params = {'alpha': np.logspace(-5, 5, 11)}\n",
    "lasso_grid = GridSearchCV(lasso, lasso_params, cv=5)\n",
    "lasso_grid.fit(X_train, y_train)\n",
    "lasso_pred = lasso_grid.predict(X_test)\n",
    "lasso_r2 = r2_score(y_test, lasso_pred)\n",
    "\n",
    "# Ridge с использованием RidgeCV\n",
    "ridge_cv = RidgeCV(alphas=np.logspace(-5, 5, 11), cv=5)\n",
    "ridge_cv.fit(X_train, y_train)\n",
    "ridge_cv_pred = ridge_cv.predict(X_test)\n",
    "ridge_cv_r2 = r2_score(y_test, ridge_cv_pred)\n",
    "\n",
    "\n",
    "# Lasso с использованием LassoCV\n",
    "lasso_cv = LassoCV(alphas=np.logspace(-5, 5, 11), cv=5)\n",
    "lasso_cv.fit(X_train, y_train)\n",
    "lasso_cv_pred = lasso_cv.predict(X_test)\n",
    "lasso_cv_r2 = r2_score(y_test, lasso_cv_pred)\n",
    "\n",
    "# Выводим результаты\n",
    "\n",
    "\n",
    "print('R2 для Ridge с GridSearchCV:', ridge_r2)\n",
    "print('R2 для Ridge с RidgeCV:', ridge_cv_r2)\n",
    "print('R2 для Lasso с GridSearchCV:', lasso_r2)\n",
    "print('R2 для Lasso с LassoCV:', lasso_cv_r2)\n"
   ]
  },
  {
   "cell_type": "markdown",
   "metadata": {},
   "source": [
    "<i>По сравнению спредыдущими результат примерно одинаковый</i>"
   ]
  },
  {
   "cell_type": "markdown",
   "metadata": {},
   "source": [
    "4. Проведите масштабирование выборки (используйте Pipeline, StandardScaler, MinMaxScaler), посчитайте R2 для Ridge и Lasso с параметрами по умолчанию и сравните с предыдущими результатами."
   ]
  },
  {
   "cell_type": "code",
   "execution_count": 7,
   "metadata": {},
   "outputs": [
    {
     "name": "stdout",
     "output_type": "stream",
     "text": [
      "R2 для Ridge с параметрами по умолчанию и масштабированием данных: 0.668190107677443\n",
      "R2 для Lasso с параметрами по умолчанию и масштабированием данных: 0.624044752347846\n"
     ]
    }
   ],
   "source": [
    "# Pipeline для масштабирования данных\n",
    "scaler = StandardScaler()\n",
    "pipe = Pipeline([('scaler', scaler), ('ridge', Ridge())])\n",
    "\n",
    "# Ridge с использованием параметров по умолчанию и масштабированием данных\n",
    "pipe.fit(X_train, y_train)\n",
    "ridge_pred = pipe.predict(X_test)\n",
    "ridge_r2 = r2_score(y_test, ridge_pred)\n",
    "\n",
    "# Lasso с использованием параметров по умолчанию и масштабированием данных\n",
    "pipe = Pipeline([('scaler', scaler), ('lasso', Lasso())])\n",
    "pipe.fit(X_train, y_train)\n",
    "lasso_pred = pipe.predict(X_test)\n",
    "lasso_r2 = r2_score(y_test, lasso_pred)\n",
    "\n",
    "# Выводим результаты\n",
    "print('R2 для Ridge с параметрами по умолчанию и масштабированием данных:', ridge_r2)\n",
    "print('R2 для Lasso с параметрами по умолчанию и масштабированием данных:', lasso_r2)"
   ]
  },
  {
   "cell_type": "markdown",
   "metadata": {},
   "source": [
    "<i>По сравнению спредыдущими результат примерно одинаковый</i>"
   ]
  },
  {
   "cell_type": "code",
   "execution_count": 8,
   "metadata": {},
   "outputs": [
    {
     "name": "stdout",
     "output_type": "stream",
     "text": [
      "R2 для Ridge с параметрами по умолчанию и масштабированием данных: 0.668190107677443\n",
      "R2 для Lasso с параметрами по умолчанию и масштабированием данных: 0.624044752347846\n"
     ]
    }
   ],
   "source": [
    "# StandardScaler Масштабирование данных\n",
    "scaler = StandardScaler()\n",
    "X_train_scaled = scaler.fit_transform(X_train)\n",
    "X_test_scaled = scaler.transform(X_test)\n",
    "\n",
    "# Ridge с использованием параметров по умолчанию и масштабированием данных\n",
    "ridge_scaled = Ridge()\n",
    "ridge_scaled.fit(X_train_scaled, y_train)\n",
    "ridge_pred_scaled = ridge_scaled.predict(X_test_scaled)\n",
    "ridge_r2_scaled = r2_score(y_test, ridge_pred_scaled)\n",
    "\n",
    "# Lasso с использованием параметров по умолчанию и масштабированием данных\n",
    "lasso_scaled = Lasso()\n",
    "lasso_scaled.fit(X_train_scaled, y_train)\n",
    "lasso_pred_scaled = lasso_scaled.predict(X_test_scaled)\n",
    "lasso_r2_scaled = r2_score(y_test, lasso_pred_scaled)\n",
    "\n",
    "# Выводим результаты\n",
    "print('R2 для Ridge с параметрами по умолчанию и масштабированием данных:', ridge_r2_scaled)\n",
    "print('R2 для Lasso с параметрами по умолчанию и масштабированием данных:', lasso_r2_scaled)"
   ]
  },
  {
   "cell_type": "markdown",
   "metadata": {},
   "source": [
    "<i>По сравнению спредыдущими результат примерно одинаковый</i>"
   ]
  },
  {
   "cell_type": "code",
   "execution_count": 9,
   "metadata": {},
   "outputs": [
    {
     "name": "stdout",
     "output_type": "stream",
     "text": [
      "R2 для Ridge с параметрами по умолчанию и масштабированием данных: 0.6762207658974596\n",
      "R2 для Lasso с параметрами по умолчанию и масштабированием данных: 0.2573921442545195\n"
     ]
    }
   ],
   "source": [
    "# MinMaxScaler Масштабирование данных\n",
    "scaler = MinMaxScaler()\n",
    "X_train_scaled = scaler.fit_transform(X_train)\n",
    "X_test_scaled = scaler.transform(X_test)\n",
    "\n",
    "# Ridge с использованием параметров по умолчанию и масштабированием данных\n",
    "ridge_scaled = Ridge()\n",
    "ridge_scaled.fit(X_train_scaled, y_train)\n",
    "ridge_pred_scaled = ridge_scaled.predict(X_test_scaled)\n",
    "ridge_r2_scaled = r2_score(y_test, ridge_pred_scaled)\n",
    "\n",
    "# Lasso с использованием параметров по умолчанию и масштабированием данных\n",
    "lasso_scaled = Lasso()\n",
    "lasso_scaled.fit(X_train_scaled, y_train)\n",
    "lasso_pred_scaled = lasso_scaled.predict(X_test_scaled)\n",
    "lasso_r2_scaled = r2_score(y_test, lasso_pred_scaled)\n",
    "\n",
    "# Выводим результаты\n",
    "print('R2 для Ridge с параметрами по умолчанию и масштабированием данных:', ridge_r2_scaled)\n",
    "print('R2 для Lasso с параметрами по умолчанию и масштабированием данных:', lasso_r2_scaled)"
   ]
  },
  {
   "cell_type": "markdown",
   "metadata": {},
   "source": [
    "<i>По сравнению спредыдущими результат хуже</i>"
   ]
  },
  {
   "cell_type": "markdown",
   "metadata": {},
   "source": [
    "5. Подберите коэффициент регуляризации для Ridge и Lasso на масштабированных данных, посчитайте R2 и сравните с предыдущими результатами."
   ]
  },
  {
   "cell_type": "code",
   "execution_count": 10,
   "metadata": {},
   "outputs": [
    {
     "name": "stdout",
     "output_type": "stream",
     "text": [
      "R2 для Ridge с GridSearchCV и масштабированием данных: 0.668190107677443\n",
      "R2 для Lasso с GridSearchCV и масштабированием данных: 0.6684821312777706\n"
     ]
    }
   ],
   "source": [
    "# Масштабирование данных\n",
    "scaler = StandardScaler()\n",
    "X_train_scaled = scaler.fit_transform(X_train)\n",
    "X_test_scaled = scaler.transform(X_test)\n",
    "\n",
    "# Ridge с использованием GridSearchCV и масштабированием данных\n",
    "ridge = Ridge()\n",
    "ridge_params = {'alpha': np.logspace(-5, 5, 11)}\n",
    "ridge_grid = GridSearchCV(ridge, ridge_params, cv=5)\n",
    "ridge_grid.fit(X_train_scaled, y_train)\n",
    "ridge_pred = ridge_grid.predict(X_test_scaled)\n",
    "ridge_r2 = r2_score(y_test, ridge_pred)\n",
    "\n",
    "# Lasso с использованием GridSearchCV и масштабированием данных\n",
    "lasso = Lasso()\n",
    "lasso_params = {'alpha': np.logspace(-5, 5, 11)}\n",
    "lasso_grid = GridSearchCV(lasso, lasso_params, cv=5)\n",
    "lasso_grid.fit(X_train_scaled, y_train)\n",
    "lasso_pred = lasso_grid.predict(X_test_scaled)\n",
    "lasso_r2 = r2_score(y_test, lasso_pred)\n",
    "\n",
    "# Выводим результаты\n",
    "print('R2 для Ridge с GridSearchCV и масштабированием данных:', ridge_r2)\n",
    "print('R2 для Lasso с GridSearchCV и масштабированием данных:', lasso_r2)"
   ]
  },
  {
   "cell_type": "markdown",
   "metadata": {},
   "source": [
    "<i>По сравнению спредыдущими результат примерно одинаковый(кроме худшего результата)</i>"
   ]
  },
  {
   "cell_type": "markdown",
   "metadata": {},
   "source": [
    "6. Добавьте попарные произведения признаков и их квадраты (используйте PolynomialFeatures) на масштабированных признаках, посчитайте R2 для Ridge и Lasso с параметрами по умолчанию и сравните с предыдущими результатами."
   ]
  },
  {
   "cell_type": "code",
   "execution_count": 11,
   "metadata": {},
   "outputs": [
    {
     "name": "stdout",
     "output_type": "stream",
     "text": [
      "R2 для Ridge с параметрами по умолчанию и масштабированием данных: 0.8171359789657097\n",
      "R2 для Lasso с параметрами по умолчанию и масштабированием данных: 0.7322738282708989\n"
     ]
    }
   ],
   "source": [
    "# Добавление попарных произведений признаков и их квадратов\n",
    "poly = PolynomialFeatures(degree=2, interaction_only=False, include_bias=False)\n",
    "X_train_poly = poly.fit_transform(X_train_scaled)\n",
    "X_test_poly = poly.transform(X_test_scaled)\n",
    "\n",
    "# Ridge с использованием параметров по умолчанию и масштабированием данных\n",
    "ridge_poly = Ridge()\n",
    "ridge_poly.fit(X_train_poly, y_train)\n",
    "ridge_pred_poly = ridge_poly.predict(X_test_poly)\n",
    "ridge_r2_poly = r2_score(y_test, ridge_pred_poly)\n",
    "\n",
    "# Lasso с использованием параметров по умолчанию и масштабированием данных\n",
    "lasso_poly = Lasso()\n",
    "lasso_poly.fit(X_train_poly, y_train)\n",
    "lasso_pred_poly = lasso_poly.predict(X_test_poly)\n",
    "lasso_r2_poly = r2_score(y_test, lasso_pred_poly)\n",
    "\n",
    "# Выводим результаты\n",
    "print('R2 для Ridge с параметрами по умолчанию и масштабированием данных:', ridge_r2_poly)\n",
    "print('R2 для Lasso с параметрами по умолчанию и масштабированием данных:', lasso_r2_poly)\n",
    "\n"
   ]
  },
  {
   "cell_type": "markdown",
   "metadata": {},
   "source": [
    "<i>По сравнению спредыдущими результат лучше</i>"
   ]
  },
  {
   "cell_type": "markdown",
   "metadata": {},
   "source": [
    "7. Подберите коэффициент регуляризации для Ridge и Lasso на масштабированных данных, добавив PolynomialFeatures, посчитайте R2 и сравните с предыдущими результатами."
   ]
  },
  {
   "cell_type": "code",
   "execution_count": 12,
   "metadata": {},
   "outputs": [
    {
     "name": "stderr",
     "output_type": "stream",
     "text": [
      "c:\\Users\\AVV\\Documents\\Programming\\Python\\Teach\\School_DS\\code\\teach-scool-ds\\venv\\Lib\\site-packages\\sklearn\\linear_model\\_coordinate_descent.py:697: ConvergenceWarning: Objective did not converge. You might want to increase the number of iterations, check the scale of the features or consider increasing regularisation. Duality gap: 7.156e+02, tolerance: 2.882e+00\n",
      "  model = cd_fast.enet_coordinate_descent(\n",
      "c:\\Users\\AVV\\Documents\\Programming\\Python\\Teach\\School_DS\\code\\teach-scool-ds\\venv\\Lib\\site-packages\\sklearn\\linear_model\\_coordinate_descent.py:697: ConvergenceWarning: Objective did not converge. You might want to increase the number of iterations, check the scale of the features or consider increasing regularisation. Duality gap: 7.170e+02, tolerance: 2.764e+00\n",
      "  model = cd_fast.enet_coordinate_descent(\n",
      "c:\\Users\\AVV\\Documents\\Programming\\Python\\Teach\\School_DS\\code\\teach-scool-ds\\venv\\Lib\\site-packages\\sklearn\\linear_model\\_coordinate_descent.py:697: ConvergenceWarning: Objective did not converge. You might want to increase the number of iterations, check the scale of the features or consider increasing regularisation. Duality gap: 8.077e+02, tolerance: 2.710e+00\n",
      "  model = cd_fast.enet_coordinate_descent(\n",
      "c:\\Users\\AVV\\Documents\\Programming\\Python\\Teach\\School_DS\\code\\teach-scool-ds\\venv\\Lib\\site-packages\\sklearn\\linear_model\\_coordinate_descent.py:697: ConvergenceWarning: Objective did not converge. You might want to increase the number of iterations, check the scale of the features or consider increasing regularisation. Duality gap: 7.524e+02, tolerance: 2.730e+00\n",
      "  model = cd_fast.enet_coordinate_descent(\n",
      "c:\\Users\\AVV\\Documents\\Programming\\Python\\Teach\\School_DS\\code\\teach-scool-ds\\venv\\Lib\\site-packages\\sklearn\\linear_model\\_coordinate_descent.py:697: ConvergenceWarning: Objective did not converge. You might want to increase the number of iterations, check the scale of the features or consider increasing regularisation. Duality gap: 7.803e+02, tolerance: 2.948e+00\n",
      "  model = cd_fast.enet_coordinate_descent(\n",
      "c:\\Users\\AVV\\Documents\\Programming\\Python\\Teach\\School_DS\\code\\teach-scool-ds\\venv\\Lib\\site-packages\\sklearn\\linear_model\\_coordinate_descent.py:697: ConvergenceWarning: Objective did not converge. You might want to increase the number of iterations, check the scale of the features or consider increasing regularisation. Duality gap: 7.081e+02, tolerance: 2.882e+00\n",
      "  model = cd_fast.enet_coordinate_descent(\n",
      "c:\\Users\\AVV\\Documents\\Programming\\Python\\Teach\\School_DS\\code\\teach-scool-ds\\venv\\Lib\\site-packages\\sklearn\\linear_model\\_coordinate_descent.py:697: ConvergenceWarning: Objective did not converge. You might want to increase the number of iterations, check the scale of the features or consider increasing regularisation. Duality gap: 7.144e+02, tolerance: 2.764e+00\n",
      "  model = cd_fast.enet_coordinate_descent(\n",
      "c:\\Users\\AVV\\Documents\\Programming\\Python\\Teach\\School_DS\\code\\teach-scool-ds\\venv\\Lib\\site-packages\\sklearn\\linear_model\\_coordinate_descent.py:697: ConvergenceWarning: Objective did not converge. You might want to increase the number of iterations, check the scale of the features or consider increasing regularisation. Duality gap: 7.770e+02, tolerance: 2.710e+00\n",
      "  model = cd_fast.enet_coordinate_descent(\n",
      "c:\\Users\\AVV\\Documents\\Programming\\Python\\Teach\\School_DS\\code\\teach-scool-ds\\venv\\Lib\\site-packages\\sklearn\\linear_model\\_coordinate_descent.py:697: ConvergenceWarning: Objective did not converge. You might want to increase the number of iterations, check the scale of the features or consider increasing regularisation. Duality gap: 7.514e+02, tolerance: 2.730e+00\n",
      "  model = cd_fast.enet_coordinate_descent(\n",
      "c:\\Users\\AVV\\Documents\\Programming\\Python\\Teach\\School_DS\\code\\teach-scool-ds\\venv\\Lib\\site-packages\\sklearn\\linear_model\\_coordinate_descent.py:697: ConvergenceWarning: Objective did not converge. You might want to increase the number of iterations, check the scale of the features or consider increasing regularisation. Duality gap: 7.793e+02, tolerance: 2.948e+00\n",
      "  model = cd_fast.enet_coordinate_descent(\n",
      "c:\\Users\\AVV\\Documents\\Programming\\Python\\Teach\\School_DS\\code\\teach-scool-ds\\venv\\Lib\\site-packages\\sklearn\\linear_model\\_coordinate_descent.py:697: ConvergenceWarning: Objective did not converge. You might want to increase the number of iterations, check the scale of the features or consider increasing regularisation. Duality gap: 5.572e+02, tolerance: 2.882e+00\n",
      "  model = cd_fast.enet_coordinate_descent(\n",
      "c:\\Users\\AVV\\Documents\\Programming\\Python\\Teach\\School_DS\\code\\teach-scool-ds\\venv\\Lib\\site-packages\\sklearn\\linear_model\\_coordinate_descent.py:697: ConvergenceWarning: Objective did not converge. You might want to increase the number of iterations, check the scale of the features or consider increasing regularisation. Duality gap: 7.070e+02, tolerance: 2.764e+00\n",
      "  model = cd_fast.enet_coordinate_descent(\n",
      "c:\\Users\\AVV\\Documents\\Programming\\Python\\Teach\\School_DS\\code\\teach-scool-ds\\venv\\Lib\\site-packages\\sklearn\\linear_model\\_coordinate_descent.py:697: ConvergenceWarning: Objective did not converge. You might want to increase the number of iterations, check the scale of the features or consider increasing regularisation. Duality gap: 6.718e+02, tolerance: 2.710e+00\n",
      "  model = cd_fast.enet_coordinate_descent(\n",
      "c:\\Users\\AVV\\Documents\\Programming\\Python\\Teach\\School_DS\\code\\teach-scool-ds\\venv\\Lib\\site-packages\\sklearn\\linear_model\\_coordinate_descent.py:697: ConvergenceWarning: Objective did not converge. You might want to increase the number of iterations, check the scale of the features or consider increasing regularisation. Duality gap: 7.248e+02, tolerance: 2.730e+00\n",
      "  model = cd_fast.enet_coordinate_descent(\n",
      "c:\\Users\\AVV\\Documents\\Programming\\Python\\Teach\\School_DS\\code\\teach-scool-ds\\venv\\Lib\\site-packages\\sklearn\\linear_model\\_coordinate_descent.py:697: ConvergenceWarning: Objective did not converge. You might want to increase the number of iterations, check the scale of the features or consider increasing regularisation. Duality gap: 7.625e+02, tolerance: 2.948e+00\n",
      "  model = cd_fast.enet_coordinate_descent(\n",
      "c:\\Users\\AVV\\Documents\\Programming\\Python\\Teach\\School_DS\\code\\teach-scool-ds\\venv\\Lib\\site-packages\\sklearn\\linear_model\\_coordinate_descent.py:697: ConvergenceWarning: Objective did not converge. You might want to increase the number of iterations, check the scale of the features or consider increasing regularisation. Duality gap: 5.449e+00, tolerance: 2.882e+00\n",
      "  model = cd_fast.enet_coordinate_descent(\n",
      "c:\\Users\\AVV\\Documents\\Programming\\Python\\Teach\\School_DS\\code\\teach-scool-ds\\venv\\Lib\\site-packages\\sklearn\\linear_model\\_coordinate_descent.py:697: ConvergenceWarning: Objective did not converge. You might want to increase the number of iterations, check the scale of the features or consider increasing regularisation. Duality gap: 3.186e+00, tolerance: 2.764e+00\n",
      "  model = cd_fast.enet_coordinate_descent(\n",
      "c:\\Users\\AVV\\Documents\\Programming\\Python\\Teach\\School_DS\\code\\teach-scool-ds\\venv\\Lib\\site-packages\\sklearn\\linear_model\\_coordinate_descent.py:697: ConvergenceWarning: Objective did not converge. You might want to increase the number of iterations, check the scale of the features or consider increasing regularisation. Duality gap: 2.472e+01, tolerance: 2.710e+00\n",
      "  model = cd_fast.enet_coordinate_descent(\n",
      "c:\\Users\\AVV\\Documents\\Programming\\Python\\Teach\\School_DS\\code\\teach-scool-ds\\venv\\Lib\\site-packages\\sklearn\\linear_model\\_coordinate_descent.py:697: ConvergenceWarning: Objective did not converge. You might want to increase the number of iterations, check the scale of the features or consider increasing regularisation. Duality gap: 3.449e+00, tolerance: 2.730e+00\n",
      "  model = cd_fast.enet_coordinate_descent(\n"
     ]
    },
    {
     "name": "stdout",
     "output_type": "stream",
     "text": [
      "R2 для Ridge с GridSearchCV и масштабированием данных: 0.8187344606117988\n",
      "R2 для Lasso с GridSearchCV и масштабированием данных: 0.8128138856150267\n"
     ]
    }
   ],
   "source": [
    "\n",
    "# Добавление попарных произведений признаков и их квадратов\n",
    "poly = PolynomialFeatures(degree=2, interaction_only=False, include_bias=False)\n",
    "X_train_poly = poly.fit_transform(X_train_scaled)\n",
    "X_test_poly = poly.transform(X_test_scaled)\n",
    "\n",
    "# Ridge с использованием GridSearchCV и масштабированием данных\n",
    "ridge = Ridge()\n",
    "ridge_params = {'alpha': np.logspace(-5, 5, 11)}\n",
    "ridge_grid = GridSearchCV(ridge, ridge_params, cv=5)\n",
    "ridge_grid.fit(X_train_poly, y_train)\n",
    "ridge_pred = ridge_grid.predict(X_test_poly)\n",
    "ridge_r2 = r2_score(y_test, ridge_pred)\n",
    "\n",
    "# Lasso с использованием GridSearchCV и масштабированием данных\n",
    "lasso = Lasso()\n",
    "lasso_params = {'alpha': np.logspace(-5, 5, 11)}\n",
    "lasso_grid = GridSearchCV(lasso, lasso_params, cv=5)\n",
    "lasso_grid.fit(X_train_poly, y_train)\n",
    "lasso_pred = lasso_grid.predict(X_test_poly)\n",
    "lasso_r2 = r2_score(y_test, lasso_pred)\n",
    "\n",
    "# Выводим результаты\n",
    "print('R2 для Ridge с GridSearchCV и масштабированием данных:', ridge_r2)\n",
    "print('R2 для Lasso с GridSearchCV и масштабированием данных:', lasso_r2)"
   ]
  },
  {
   "cell_type": "markdown",
   "metadata": {},
   "source": [
    "<i>По сравнению спредыдущими результат ещё лучше</i>"
   ]
  },
  {
   "cell_type": "markdown",
   "metadata": {},
   "source": [
    "8. Подберите наилучшую модель (используйте Pipeline, GridSearchSCV) подбирая тип регуляризации (L1,L2), коэффициент регуляризации, метод масштабирования и степень полинома в PolynomialFeatures. Выведите итоговые параметры и результат R2."
   ]
  },
  {
   "cell_type": "code",
   "execution_count": 13,
   "metadata": {},
   "outputs": [
    {
     "name": "stderr",
     "output_type": "stream",
     "text": [
      "c:\\Users\\AVV\\Documents\\Programming\\Python\\Teach\\School_DS\\code\\teach-scool-ds\\venv\\Lib\\site-packages\\sklearn\\linear_model\\_coordinate_descent.py:697: ConvergenceWarning: Objective did not converge. You might want to increase the number of iterations, check the scale of the features or consider increasing regularisation. Duality gap: 7.158e+02, tolerance: 2.882e+00\n",
      "  model = cd_fast.enet_coordinate_descent(\n",
      "c:\\Users\\AVV\\Documents\\Programming\\Python\\Teach\\School_DS\\code\\teach-scool-ds\\venv\\Lib\\site-packages\\sklearn\\linear_model\\_coordinate_descent.py:697: ConvergenceWarning: Objective did not converge. You might want to increase the number of iterations, check the scale of the features or consider increasing regularisation. Duality gap: 7.169e+02, tolerance: 2.764e+00\n",
      "  model = cd_fast.enet_coordinate_descent(\n",
      "c:\\Users\\AVV\\Documents\\Programming\\Python\\Teach\\School_DS\\code\\teach-scool-ds\\venv\\Lib\\site-packages\\sklearn\\linear_model\\_coordinate_descent.py:697: ConvergenceWarning: Objective did not converge. You might want to increase the number of iterations, check the scale of the features or consider increasing regularisation. Duality gap: 8.074e+02, tolerance: 2.710e+00\n",
      "  model = cd_fast.enet_coordinate_descent(\n",
      "c:\\Users\\AVV\\Documents\\Programming\\Python\\Teach\\School_DS\\code\\teach-scool-ds\\venv\\Lib\\site-packages\\sklearn\\linear_model\\_coordinate_descent.py:697: ConvergenceWarning: Objective did not converge. You might want to increase the number of iterations, check the scale of the features or consider increasing regularisation. Duality gap: 7.523e+02, tolerance: 2.730e+00\n",
      "  model = cd_fast.enet_coordinate_descent(\n",
      "c:\\Users\\AVV\\Documents\\Programming\\Python\\Teach\\School_DS\\code\\teach-scool-ds\\venv\\Lib\\site-packages\\sklearn\\linear_model\\_coordinate_descent.py:697: ConvergenceWarning: Objective did not converge. You might want to increase the number of iterations, check the scale of the features or consider increasing regularisation. Duality gap: 7.804e+02, tolerance: 2.948e+00\n",
      "  model = cd_fast.enet_coordinate_descent(\n",
      "c:\\Users\\AVV\\Documents\\Programming\\Python\\Teach\\School_DS\\code\\teach-scool-ds\\venv\\Lib\\site-packages\\sklearn\\linear_model\\_coordinate_descent.py:697: ConvergenceWarning: Objective did not converge. You might want to increase the number of iterations, check the scale of the features or consider increasing regularisation. Duality gap: 8.008e+02, tolerance: 2.882e+00\n",
      "  model = cd_fast.enet_coordinate_descent(\n",
      "c:\\Users\\AVV\\Documents\\Programming\\Python\\Teach\\School_DS\\code\\teach-scool-ds\\venv\\Lib\\site-packages\\sklearn\\linear_model\\_coordinate_descent.py:697: ConvergenceWarning: Objective did not converge. You might want to increase the number of iterations, check the scale of the features or consider increasing regularisation. Duality gap: 8.265e+02, tolerance: 2.764e+00\n",
      "  model = cd_fast.enet_coordinate_descent(\n",
      "c:\\Users\\AVV\\Documents\\Programming\\Python\\Teach\\School_DS\\code\\teach-scool-ds\\venv\\Lib\\site-packages\\sklearn\\linear_model\\_coordinate_descent.py:697: ConvergenceWarning: Objective did not converge. You might want to increase the number of iterations, check the scale of the features or consider increasing regularisation. Duality gap: 9.184e+02, tolerance: 2.710e+00\n",
      "  model = cd_fast.enet_coordinate_descent(\n",
      "c:\\Users\\AVV\\Documents\\Programming\\Python\\Teach\\School_DS\\code\\teach-scool-ds\\venv\\Lib\\site-packages\\sklearn\\linear_model\\_coordinate_descent.py:697: ConvergenceWarning: Objective did not converge. You might want to increase the number of iterations, check the scale of the features or consider increasing regularisation. Duality gap: 8.135e+02, tolerance: 2.730e+00\n",
      "  model = cd_fast.enet_coordinate_descent(\n",
      "c:\\Users\\AVV\\Documents\\Programming\\Python\\Teach\\School_DS\\code\\teach-scool-ds\\venv\\Lib\\site-packages\\sklearn\\linear_model\\_coordinate_descent.py:697: ConvergenceWarning: Objective did not converge. You might want to increase the number of iterations, check the scale of the features or consider increasing regularisation. Duality gap: 8.594e+02, tolerance: 2.948e+00\n",
      "  model = cd_fast.enet_coordinate_descent(\n",
      "c:\\Users\\AVV\\Documents\\Programming\\Python\\Teach\\School_DS\\code\\teach-scool-ds\\venv\\Lib\\site-packages\\sklearn\\linear_model\\_coordinate_descent.py:697: ConvergenceWarning: Objective did not converge. You might want to increase the number of iterations, check the scale of the features or consider increasing regularisation. Duality gap: 1.014e+02, tolerance: 2.882e+00\n",
      "  model = cd_fast.enet_coordinate_descent(\n",
      "c:\\Users\\AVV\\Documents\\Programming\\Python\\Teach\\School_DS\\code\\teach-scool-ds\\venv\\Lib\\site-packages\\sklearn\\linear_model\\_coordinate_descent.py:697: ConvergenceWarning: Objective did not converge. You might want to increase the number of iterations, check the scale of the features or consider increasing regularisation. Duality gap: 1.044e+02, tolerance: 2.764e+00\n",
      "  model = cd_fast.enet_coordinate_descent(\n",
      "c:\\Users\\AVV\\Documents\\Programming\\Python\\Teach\\School_DS\\code\\teach-scool-ds\\venv\\Lib\\site-packages\\sklearn\\linear_model\\_coordinate_descent.py:697: ConvergenceWarning: Objective did not converge. You might want to increase the number of iterations, check the scale of the features or consider increasing regularisation. Duality gap: 1.138e+02, tolerance: 2.710e+00\n",
      "  model = cd_fast.enet_coordinate_descent(\n",
      "c:\\Users\\AVV\\Documents\\Programming\\Python\\Teach\\School_DS\\code\\teach-scool-ds\\venv\\Lib\\site-packages\\sklearn\\linear_model\\_coordinate_descent.py:697: ConvergenceWarning: Objective did not converge. You might want to increase the number of iterations, check the scale of the features or consider increasing regularisation. Duality gap: 1.143e+02, tolerance: 2.730e+00\n",
      "  model = cd_fast.enet_coordinate_descent(\n",
      "c:\\Users\\AVV\\Documents\\Programming\\Python\\Teach\\School_DS\\code\\teach-scool-ds\\venv\\Lib\\site-packages\\sklearn\\linear_model\\_coordinate_descent.py:697: ConvergenceWarning: Objective did not converge. You might want to increase the number of iterations, check the scale of the features or consider increasing regularisation. Duality gap: 1.281e+02, tolerance: 2.948e+00\n",
      "  model = cd_fast.enet_coordinate_descent(\n",
      "c:\\Users\\AVV\\Documents\\Programming\\Python\\Teach\\School_DS\\code\\teach-scool-ds\\venv\\Lib\\site-packages\\sklearn\\linear_model\\_coordinate_descent.py:697: ConvergenceWarning: Objective did not converge. You might want to increase the number of iterations, check the scale of the features or consider increasing regularisation. Duality gap: 3.087e+02, tolerance: 2.882e+00\n",
      "  model = cd_fast.enet_coordinate_descent(\n",
      "c:\\Users\\AVV\\Documents\\Programming\\Python\\Teach\\School_DS\\code\\teach-scool-ds\\venv\\Lib\\site-packages\\sklearn\\linear_model\\_coordinate_descent.py:697: ConvergenceWarning: Objective did not converge. You might want to increase the number of iterations, check the scale of the features or consider increasing regularisation. Duality gap: 3.531e+02, tolerance: 2.764e+00\n",
      "  model = cd_fast.enet_coordinate_descent(\n",
      "c:\\Users\\AVV\\Documents\\Programming\\Python\\Teach\\School_DS\\code\\teach-scool-ds\\venv\\Lib\\site-packages\\sklearn\\linear_model\\_coordinate_descent.py:697: ConvergenceWarning: Objective did not converge. You might want to increase the number of iterations, check the scale of the features or consider increasing regularisation. Duality gap: 3.331e+02, tolerance: 2.710e+00\n",
      "  model = cd_fast.enet_coordinate_descent(\n",
      "c:\\Users\\AVV\\Documents\\Programming\\Python\\Teach\\School_DS\\code\\teach-scool-ds\\venv\\Lib\\site-packages\\sklearn\\linear_model\\_coordinate_descent.py:697: ConvergenceWarning: Objective did not converge. You might want to increase the number of iterations, check the scale of the features or consider increasing regularisation. Duality gap: 3.548e+02, tolerance: 2.730e+00\n",
      "  model = cd_fast.enet_coordinate_descent(\n",
      "c:\\Users\\AVV\\Documents\\Programming\\Python\\Teach\\School_DS\\code\\teach-scool-ds\\venv\\Lib\\site-packages\\sklearn\\linear_model\\_coordinate_descent.py:697: ConvergenceWarning: Objective did not converge. You might want to increase the number of iterations, check the scale of the features or consider increasing regularisation. Duality gap: 3.601e+02, tolerance: 2.948e+00\n",
      "  model = cd_fast.enet_coordinate_descent(\n",
      "c:\\Users\\AVV\\Documents\\Programming\\Python\\Teach\\School_DS\\code\\teach-scool-ds\\venv\\Lib\\site-packages\\sklearn\\linear_model\\_coordinate_descent.py:697: ConvergenceWarning: Objective did not converge. You might want to increase the number of iterations, check the scale of the features or consider increasing regularisation. Duality gap: 7.116e+02, tolerance: 2.882e+00\n",
      "  model = cd_fast.enet_coordinate_descent(\n",
      "c:\\Users\\AVV\\Documents\\Programming\\Python\\Teach\\School_DS\\code\\teach-scool-ds\\venv\\Lib\\site-packages\\sklearn\\linear_model\\_coordinate_descent.py:697: ConvergenceWarning: Objective did not converge. You might want to increase the number of iterations, check the scale of the features or consider increasing regularisation. Duality gap: 7.131e+02, tolerance: 2.764e+00\n",
      "  model = cd_fast.enet_coordinate_descent(\n",
      "c:\\Users\\AVV\\Documents\\Programming\\Python\\Teach\\School_DS\\code\\teach-scool-ds\\venv\\Lib\\site-packages\\sklearn\\linear_model\\_coordinate_descent.py:697: ConvergenceWarning: Objective did not converge. You might want to increase the number of iterations, check the scale of the features or consider increasing regularisation. Duality gap: 7.755e+02, tolerance: 2.710e+00\n",
      "  model = cd_fast.enet_coordinate_descent(\n",
      "c:\\Users\\AVV\\Documents\\Programming\\Python\\Teach\\School_DS\\code\\teach-scool-ds\\venv\\Lib\\site-packages\\sklearn\\linear_model\\_coordinate_descent.py:697: ConvergenceWarning: Objective did not converge. You might want to increase the number of iterations, check the scale of the features or consider increasing regularisation. Duality gap: 7.503e+02, tolerance: 2.730e+00\n",
      "  model = cd_fast.enet_coordinate_descent(\n",
      "c:\\Users\\AVV\\Documents\\Programming\\Python\\Teach\\School_DS\\code\\teach-scool-ds\\venv\\Lib\\site-packages\\sklearn\\linear_model\\_coordinate_descent.py:697: ConvergenceWarning: Objective did not converge. You might want to increase the number of iterations, check the scale of the features or consider increasing regularisation. Duality gap: 7.789e+02, tolerance: 2.948e+00\n",
      "  model = cd_fast.enet_coordinate_descent(\n",
      "c:\\Users\\AVV\\Documents\\Programming\\Python\\Teach\\School_DS\\code\\teach-scool-ds\\venv\\Lib\\site-packages\\sklearn\\linear_model\\_coordinate_descent.py:697: ConvergenceWarning: Objective did not converge. You might want to increase the number of iterations, check the scale of the features or consider increasing regularisation. Duality gap: 8.297e+02, tolerance: 2.882e+00\n",
      "  model = cd_fast.enet_coordinate_descent(\n",
      "c:\\Users\\AVV\\Documents\\Programming\\Python\\Teach\\School_DS\\code\\teach-scool-ds\\venv\\Lib\\site-packages\\sklearn\\linear_model\\_coordinate_descent.py:697: ConvergenceWarning: Objective did not converge. You might want to increase the number of iterations, check the scale of the features or consider increasing regularisation. Duality gap: 8.454e+02, tolerance: 2.764e+00\n",
      "  model = cd_fast.enet_coordinate_descent(\n",
      "c:\\Users\\AVV\\Documents\\Programming\\Python\\Teach\\School_DS\\code\\teach-scool-ds\\venv\\Lib\\site-packages\\sklearn\\linear_model\\_coordinate_descent.py:697: ConvergenceWarning: Objective did not converge. You might want to increase the number of iterations, check the scale of the features or consider increasing regularisation. Duality gap: 9.314e+02, tolerance: 2.710e+00\n",
      "  model = cd_fast.enet_coordinate_descent(\n",
      "c:\\Users\\AVV\\Documents\\Programming\\Python\\Teach\\School_DS\\code\\teach-scool-ds\\venv\\Lib\\site-packages\\sklearn\\linear_model\\_coordinate_descent.py:697: ConvergenceWarning: Objective did not converge. You might want to increase the number of iterations, check the scale of the features or consider increasing regularisation. Duality gap: 8.111e+02, tolerance: 2.730e+00\n",
      "  model = cd_fast.enet_coordinate_descent(\n",
      "c:\\Users\\AVV\\Documents\\Programming\\Python\\Teach\\School_DS\\code\\teach-scool-ds\\venv\\Lib\\site-packages\\sklearn\\linear_model\\_coordinate_descent.py:697: ConvergenceWarning: Objective did not converge. You might want to increase the number of iterations, check the scale of the features or consider increasing regularisation. Duality gap: 8.478e+02, tolerance: 2.948e+00\n",
      "  model = cd_fast.enet_coordinate_descent(\n",
      "c:\\Users\\AVV\\Documents\\Programming\\Python\\Teach\\School_DS\\code\\teach-scool-ds\\venv\\Lib\\site-packages\\sklearn\\linear_model\\_coordinate_descent.py:697: ConvergenceWarning: Objective did not converge. You might want to increase the number of iterations, check the scale of the features or consider increasing regularisation. Duality gap: 1.160e+02, tolerance: 2.882e+00\n",
      "  model = cd_fast.enet_coordinate_descent(\n",
      "c:\\Users\\AVV\\Documents\\Programming\\Python\\Teach\\School_DS\\code\\teach-scool-ds\\venv\\Lib\\site-packages\\sklearn\\linear_model\\_coordinate_descent.py:697: ConvergenceWarning: Objective did not converge. You might want to increase the number of iterations, check the scale of the features or consider increasing regularisation. Duality gap: 1.188e+02, tolerance: 2.764e+00\n",
      "  model = cd_fast.enet_coordinate_descent(\n",
      "c:\\Users\\AVV\\Documents\\Programming\\Python\\Teach\\School_DS\\code\\teach-scool-ds\\venv\\Lib\\site-packages\\sklearn\\linear_model\\_coordinate_descent.py:697: ConvergenceWarning: Objective did not converge. You might want to increase the number of iterations, check the scale of the features or consider increasing regularisation. Duality gap: 1.290e+02, tolerance: 2.710e+00\n",
      "  model = cd_fast.enet_coordinate_descent(\n",
      "c:\\Users\\AVV\\Documents\\Programming\\Python\\Teach\\School_DS\\code\\teach-scool-ds\\venv\\Lib\\site-packages\\sklearn\\linear_model\\_coordinate_descent.py:697: ConvergenceWarning: Objective did not converge. You might want to increase the number of iterations, check the scale of the features or consider increasing regularisation. Duality gap: 1.275e+02, tolerance: 2.730e+00\n",
      "  model = cd_fast.enet_coordinate_descent(\n",
      "c:\\Users\\AVV\\Documents\\Programming\\Python\\Teach\\School_DS\\code\\teach-scool-ds\\venv\\Lib\\site-packages\\sklearn\\linear_model\\_coordinate_descent.py:697: ConvergenceWarning: Objective did not converge. You might want to increase the number of iterations, check the scale of the features or consider increasing regularisation. Duality gap: 1.436e+02, tolerance: 2.948e+00\n",
      "  model = cd_fast.enet_coordinate_descent(\n",
      "c:\\Users\\AVV\\Documents\\Programming\\Python\\Teach\\School_DS\\code\\teach-scool-ds\\venv\\Lib\\site-packages\\sklearn\\linear_model\\_coordinate_descent.py:697: ConvergenceWarning: Objective did not converge. You might want to increase the number of iterations, check the scale of the features or consider increasing regularisation. Duality gap: 4.349e+02, tolerance: 2.882e+00\n",
      "  model = cd_fast.enet_coordinate_descent(\n",
      "c:\\Users\\AVV\\Documents\\Programming\\Python\\Teach\\School_DS\\code\\teach-scool-ds\\venv\\Lib\\site-packages\\sklearn\\linear_model\\_coordinate_descent.py:697: ConvergenceWarning: Objective did not converge. You might want to increase the number of iterations, check the scale of the features or consider increasing regularisation. Duality gap: 4.977e+02, tolerance: 2.764e+00\n",
      "  model = cd_fast.enet_coordinate_descent(\n",
      "c:\\Users\\AVV\\Documents\\Programming\\Python\\Teach\\School_DS\\code\\teach-scool-ds\\venv\\Lib\\site-packages\\sklearn\\linear_model\\_coordinate_descent.py:697: ConvergenceWarning: Objective did not converge. You might want to increase the number of iterations, check the scale of the features or consider increasing regularisation. Duality gap: 4.576e+02, tolerance: 2.710e+00\n",
      "  model = cd_fast.enet_coordinate_descent(\n",
      "c:\\Users\\AVV\\Documents\\Programming\\Python\\Teach\\School_DS\\code\\teach-scool-ds\\venv\\Lib\\site-packages\\sklearn\\linear_model\\_coordinate_descent.py:697: ConvergenceWarning: Objective did not converge. You might want to increase the number of iterations, check the scale of the features or consider increasing regularisation. Duality gap: 4.240e+02, tolerance: 2.730e+00\n",
      "  model = cd_fast.enet_coordinate_descent(\n",
      "c:\\Users\\AVV\\Documents\\Programming\\Python\\Teach\\School_DS\\code\\teach-scool-ds\\venv\\Lib\\site-packages\\sklearn\\linear_model\\_coordinate_descent.py:697: ConvergenceWarning: Objective did not converge. You might want to increase the number of iterations, check the scale of the features or consider increasing regularisation. Duality gap: 4.336e+02, tolerance: 2.948e+00\n",
      "  model = cd_fast.enet_coordinate_descent(\n",
      "c:\\Users\\AVV\\Documents\\Programming\\Python\\Teach\\School_DS\\code\\teach-scool-ds\\venv\\Lib\\site-packages\\sklearn\\linear_model\\_coordinate_descent.py:697: ConvergenceWarning: Objective did not converge. You might want to increase the number of iterations, check the scale of the features or consider increasing regularisation. Duality gap: 6.237e+02, tolerance: 2.882e+00\n",
      "  model = cd_fast.enet_coordinate_descent(\n",
      "c:\\Users\\AVV\\Documents\\Programming\\Python\\Teach\\School_DS\\code\\teach-scool-ds\\venv\\Lib\\site-packages\\sklearn\\linear_model\\_coordinate_descent.py:697: ConvergenceWarning: Objective did not converge. You might want to increase the number of iterations, check the scale of the features or consider increasing regularisation. Duality gap: 6.991e+02, tolerance: 2.764e+00\n",
      "  model = cd_fast.enet_coordinate_descent(\n",
      "c:\\Users\\AVV\\Documents\\Programming\\Python\\Teach\\School_DS\\code\\teach-scool-ds\\venv\\Lib\\site-packages\\sklearn\\linear_model\\_coordinate_descent.py:697: ConvergenceWarning: Objective did not converge. You might want to increase the number of iterations, check the scale of the features or consider increasing regularisation. Duality gap: 7.059e+02, tolerance: 2.710e+00\n",
      "  model = cd_fast.enet_coordinate_descent(\n",
      "c:\\Users\\AVV\\Documents\\Programming\\Python\\Teach\\School_DS\\code\\teach-scool-ds\\venv\\Lib\\site-packages\\sklearn\\linear_model\\_coordinate_descent.py:697: ConvergenceWarning: Objective did not converge. You might want to increase the number of iterations, check the scale of the features or consider increasing regularisation. Duality gap: 7.098e+02, tolerance: 2.730e+00\n",
      "  model = cd_fast.enet_coordinate_descent(\n",
      "c:\\Users\\AVV\\Documents\\Programming\\Python\\Teach\\School_DS\\code\\teach-scool-ds\\venv\\Lib\\site-packages\\sklearn\\linear_model\\_coordinate_descent.py:697: ConvergenceWarning: Objective did not converge. You might want to increase the number of iterations, check the scale of the features or consider increasing regularisation. Duality gap: 7.555e+02, tolerance: 2.948e+00\n",
      "  model = cd_fast.enet_coordinate_descent(\n",
      "c:\\Users\\AVV\\Documents\\Programming\\Python\\Teach\\School_DS\\code\\teach-scool-ds\\venv\\Lib\\site-packages\\sklearn\\linear_model\\_coordinate_descent.py:697: ConvergenceWarning: Objective did not converge. You might want to increase the number of iterations, check the scale of the features or consider increasing regularisation. Duality gap: 7.167e+02, tolerance: 2.882e+00\n",
      "  model = cd_fast.enet_coordinate_descent(\n",
      "c:\\Users\\AVV\\Documents\\Programming\\Python\\Teach\\School_DS\\code\\teach-scool-ds\\venv\\Lib\\site-packages\\sklearn\\linear_model\\_coordinate_descent.py:697: ConvergenceWarning: Objective did not converge. You might want to increase the number of iterations, check the scale of the features or consider increasing regularisation. Duality gap: 8.144e+02, tolerance: 2.764e+00\n",
      "  model = cd_fast.enet_coordinate_descent(\n",
      "c:\\Users\\AVV\\Documents\\Programming\\Python\\Teach\\School_DS\\code\\teach-scool-ds\\venv\\Lib\\site-packages\\sklearn\\linear_model\\_coordinate_descent.py:697: ConvergenceWarning: Objective did not converge. You might want to increase the number of iterations, check the scale of the features or consider increasing regularisation. Duality gap: 7.823e+02, tolerance: 2.710e+00\n",
      "  model = cd_fast.enet_coordinate_descent(\n",
      "c:\\Users\\AVV\\Documents\\Programming\\Python\\Teach\\School_DS\\code\\teach-scool-ds\\venv\\Lib\\site-packages\\sklearn\\linear_model\\_coordinate_descent.py:697: ConvergenceWarning: Objective did not converge. You might want to increase the number of iterations, check the scale of the features or consider increasing regularisation. Duality gap: 6.197e+02, tolerance: 2.730e+00\n",
      "  model = cd_fast.enet_coordinate_descent(\n",
      "c:\\Users\\AVV\\Documents\\Programming\\Python\\Teach\\School_DS\\code\\teach-scool-ds\\venv\\Lib\\site-packages\\sklearn\\linear_model\\_coordinate_descent.py:697: ConvergenceWarning: Objective did not converge. You might want to increase the number of iterations, check the scale of the features or consider increasing regularisation. Duality gap: 6.836e+02, tolerance: 2.948e+00\n",
      "  model = cd_fast.enet_coordinate_descent(\n",
      "c:\\Users\\AVV\\Documents\\Programming\\Python\\Teach\\School_DS\\code\\teach-scool-ds\\venv\\Lib\\site-packages\\sklearn\\linear_model\\_coordinate_descent.py:697: ConvergenceWarning: Objective did not converge. You might want to increase the number of iterations, check the scale of the features or consider increasing regularisation. Duality gap: 2.165e+02, tolerance: 2.882e+00\n",
      "  model = cd_fast.enet_coordinate_descent(\n",
      "c:\\Users\\AVV\\Documents\\Programming\\Python\\Teach\\School_DS\\code\\teach-scool-ds\\venv\\Lib\\site-packages\\sklearn\\linear_model\\_coordinate_descent.py:697: ConvergenceWarning: Objective did not converge. You might want to increase the number of iterations, check the scale of the features or consider increasing regularisation. Duality gap: 2.058e+02, tolerance: 2.764e+00\n",
      "  model = cd_fast.enet_coordinate_descent(\n",
      "c:\\Users\\AVV\\Documents\\Programming\\Python\\Teach\\School_DS\\code\\teach-scool-ds\\venv\\Lib\\site-packages\\sklearn\\linear_model\\_coordinate_descent.py:697: ConvergenceWarning: Objective did not converge. You might want to increase the number of iterations, check the scale of the features or consider increasing regularisation. Duality gap: 2.309e+02, tolerance: 2.710e+00\n",
      "  model = cd_fast.enet_coordinate_descent(\n",
      "c:\\Users\\AVV\\Documents\\Programming\\Python\\Teach\\School_DS\\code\\teach-scool-ds\\venv\\Lib\\site-packages\\sklearn\\linear_model\\_coordinate_descent.py:697: ConvergenceWarning: Objective did not converge. You might want to increase the number of iterations, check the scale of the features or consider increasing regularisation. Duality gap: 2.163e+02, tolerance: 2.730e+00\n",
      "  model = cd_fast.enet_coordinate_descent(\n",
      "c:\\Users\\AVV\\Documents\\Programming\\Python\\Teach\\School_DS\\code\\teach-scool-ds\\venv\\Lib\\site-packages\\sklearn\\linear_model\\_coordinate_descent.py:697: ConvergenceWarning: Objective did not converge. You might want to increase the number of iterations, check the scale of the features or consider increasing regularisation. Duality gap: 2.451e+02, tolerance: 2.948e+00\n",
      "  model = cd_fast.enet_coordinate_descent(\n",
      "c:\\Users\\AVV\\Documents\\Programming\\Python\\Teach\\School_DS\\code\\teach-scool-ds\\venv\\Lib\\site-packages\\sklearn\\linear_model\\_coordinate_descent.py:697: ConvergenceWarning: Objective did not converge. You might want to increase the number of iterations, check the scale of the features or consider increasing regularisation. Duality gap: 3.165e+02, tolerance: 2.882e+00\n",
      "  model = cd_fast.enet_coordinate_descent(\n",
      "c:\\Users\\AVV\\Documents\\Programming\\Python\\Teach\\School_DS\\code\\teach-scool-ds\\venv\\Lib\\site-packages\\sklearn\\linear_model\\_coordinate_descent.py:697: ConvergenceWarning: Objective did not converge. You might want to increase the number of iterations, check the scale of the features or consider increasing regularisation. Duality gap: 3.702e+02, tolerance: 2.764e+00\n",
      "  model = cd_fast.enet_coordinate_descent(\n",
      "c:\\Users\\AVV\\Documents\\Programming\\Python\\Teach\\School_DS\\code\\teach-scool-ds\\venv\\Lib\\site-packages\\sklearn\\linear_model\\_coordinate_descent.py:697: ConvergenceWarning: Objective did not converge. You might want to increase the number of iterations, check the scale of the features or consider increasing regularisation. Duality gap: 4.692e+02, tolerance: 2.710e+00\n",
      "  model = cd_fast.enet_coordinate_descent(\n",
      "c:\\Users\\AVV\\Documents\\Programming\\Python\\Teach\\School_DS\\code\\teach-scool-ds\\venv\\Lib\\site-packages\\sklearn\\linear_model\\_coordinate_descent.py:697: ConvergenceWarning: Objective did not converge. You might want to increase the number of iterations, check the scale of the features or consider increasing regularisation. Duality gap: 3.318e+02, tolerance: 2.730e+00\n",
      "  model = cd_fast.enet_coordinate_descent(\n",
      "c:\\Users\\AVV\\Documents\\Programming\\Python\\Teach\\School_DS\\code\\teach-scool-ds\\venv\\Lib\\site-packages\\sklearn\\linear_model\\_coordinate_descent.py:697: ConvergenceWarning: Objective did not converge. You might want to increase the number of iterations, check the scale of the features or consider increasing regularisation. Duality gap: 4.485e+02, tolerance: 2.948e+00\n",
      "  model = cd_fast.enet_coordinate_descent(\n",
      "c:\\Users\\AVV\\Documents\\Programming\\Python\\Teach\\School_DS\\code\\teach-scool-ds\\venv\\Lib\\site-packages\\sklearn\\linear_model\\_coordinate_descent.py:697: ConvergenceWarning: Objective did not converge. You might want to increase the number of iterations, check the scale of the features or consider increasing regularisation. Duality gap: 5.105e+00, tolerance: 2.882e+00\n",
      "  model = cd_fast.enet_coordinate_descent(\n",
      "c:\\Users\\AVV\\Documents\\Programming\\Python\\Teach\\School_DS\\code\\teach-scool-ds\\venv\\Lib\\site-packages\\sklearn\\linear_model\\_coordinate_descent.py:697: ConvergenceWarning: Objective did not converge. You might want to increase the number of iterations, check the scale of the features or consider increasing regularisation. Duality gap: 4.538e+00, tolerance: 2.764e+00\n",
      "  model = cd_fast.enet_coordinate_descent(\n",
      "c:\\Users\\AVV\\Documents\\Programming\\Python\\Teach\\School_DS\\code\\teach-scool-ds\\venv\\Lib\\site-packages\\sklearn\\linear_model\\_coordinate_descent.py:697: ConvergenceWarning: Objective did not converge. You might want to increase the number of iterations, check the scale of the features or consider increasing regularisation. Duality gap: 2.347e+01, tolerance: 2.710e+00\n",
      "  model = cd_fast.enet_coordinate_descent(\n",
      "c:\\Users\\AVV\\Documents\\Programming\\Python\\Teach\\School_DS\\code\\teach-scool-ds\\venv\\Lib\\site-packages\\sklearn\\linear_model\\_coordinate_descent.py:697: ConvergenceWarning: Objective did not converge. You might want to increase the number of iterations, check the scale of the features or consider increasing regularisation. Duality gap: 4.859e+00, tolerance: 2.730e+00\n",
      "  model = cd_fast.enet_coordinate_descent(\n",
      "c:\\Users\\AVV\\Documents\\Programming\\Python\\Teach\\School_DS\\code\\teach-scool-ds\\venv\\Lib\\site-packages\\sklearn\\linear_model\\_coordinate_descent.py:697: ConvergenceWarning: Objective did not converge. You might want to increase the number of iterations, check the scale of the features or consider increasing regularisation. Duality gap: 3.517e+00, tolerance: 2.948e+00\n",
      "  model = cd_fast.enet_coordinate_descent(\n",
      "c:\\Users\\AVV\\Documents\\Programming\\Python\\Teach\\School_DS\\code\\teach-scool-ds\\venv\\Lib\\site-packages\\sklearn\\linear_model\\_coordinate_descent.py:697: ConvergenceWarning: Objective did not converge. You might want to increase the number of iterations, check the scale of the features or consider increasing regularisation. Duality gap: 1.921e+01, tolerance: 2.882e+00\n",
      "  model = cd_fast.enet_coordinate_descent(\n",
      "c:\\Users\\AVV\\Documents\\Programming\\Python\\Teach\\School_DS\\code\\teach-scool-ds\\venv\\Lib\\site-packages\\sklearn\\linear_model\\_coordinate_descent.py:697: ConvergenceWarning: Objective did not converge. You might want to increase the number of iterations, check the scale of the features or consider increasing regularisation. Duality gap: 8.045e+00, tolerance: 2.764e+00\n",
      "  model = cd_fast.enet_coordinate_descent(\n",
      "c:\\Users\\AVV\\Documents\\Programming\\Python\\Teach\\School_DS\\code\\teach-scool-ds\\venv\\Lib\\site-packages\\sklearn\\linear_model\\_coordinate_descent.py:697: ConvergenceWarning: Objective did not converge. You might want to increase the number of iterations, check the scale of the features or consider increasing regularisation. Duality gap: 2.744e+01, tolerance: 2.710e+00\n",
      "  model = cd_fast.enet_coordinate_descent(\n",
      "c:\\Users\\AVV\\Documents\\Programming\\Python\\Teach\\School_DS\\code\\teach-scool-ds\\venv\\Lib\\site-packages\\sklearn\\linear_model\\_coordinate_descent.py:697: ConvergenceWarning: Objective did not converge. You might want to increase the number of iterations, check the scale of the features or consider increasing regularisation. Duality gap: 2.238e+01, tolerance: 2.948e+00\n",
      "  model = cd_fast.enet_coordinate_descent(\n",
      "c:\\Users\\AVV\\Documents\\Programming\\Python\\Teach\\School_DS\\code\\teach-scool-ds\\venv\\Lib\\site-packages\\sklearn\\linear_model\\_coordinate_descent.py:697: ConvergenceWarning: Objective did not converge. You might want to increase the number of iterations, check the scale of the features or consider increasing regularisation. Duality gap: 4.163e+02, tolerance: 2.882e+00\n",
      "  model = cd_fast.enet_coordinate_descent(\n",
      "c:\\Users\\AVV\\Documents\\Programming\\Python\\Teach\\School_DS\\code\\teach-scool-ds\\venv\\Lib\\site-packages\\sklearn\\linear_model\\_coordinate_descent.py:697: ConvergenceWarning: Objective did not converge. You might want to increase the number of iterations, check the scale of the features or consider increasing regularisation. Duality gap: 3.680e+02, tolerance: 2.764e+00\n",
      "  model = cd_fast.enet_coordinate_descent(\n",
      "c:\\Users\\AVV\\Documents\\Programming\\Python\\Teach\\School_DS\\code\\teach-scool-ds\\venv\\Lib\\site-packages\\sklearn\\linear_model\\_coordinate_descent.py:697: ConvergenceWarning: Objective did not converge. You might want to increase the number of iterations, check the scale of the features or consider increasing regularisation. Duality gap: 3.603e+02, tolerance: 2.710e+00\n",
      "  model = cd_fast.enet_coordinate_descent(\n",
      "c:\\Users\\AVV\\Documents\\Programming\\Python\\Teach\\School_DS\\code\\teach-scool-ds\\venv\\Lib\\site-packages\\sklearn\\linear_model\\_coordinate_descent.py:697: ConvergenceWarning: Objective did not converge. You might want to increase the number of iterations, check the scale of the features or consider increasing regularisation. Duality gap: 4.358e+02, tolerance: 2.730e+00\n",
      "  model = cd_fast.enet_coordinate_descent(\n",
      "c:\\Users\\AVV\\Documents\\Programming\\Python\\Teach\\School_DS\\code\\teach-scool-ds\\venv\\Lib\\site-packages\\sklearn\\linear_model\\_coordinate_descent.py:697: ConvergenceWarning: Objective did not converge. You might want to increase the number of iterations, check the scale of the features or consider increasing regularisation. Duality gap: 4.805e+02, tolerance: 2.948e+00\n",
      "  model = cd_fast.enet_coordinate_descent(\n",
      "c:\\Users\\AVV\\Documents\\Programming\\Python\\Teach\\School_DS\\code\\teach-scool-ds\\venv\\Lib\\site-packages\\sklearn\\linear_model\\_coordinate_descent.py:697: ConvergenceWarning: Objective did not converge. You might want to increase the number of iterations, check the scale of the features or consider increasing regularisation. Duality gap: 4.880e+01, tolerance: 2.882e+00\n",
      "  model = cd_fast.enet_coordinate_descent(\n",
      "c:\\Users\\AVV\\Documents\\Programming\\Python\\Teach\\School_DS\\code\\teach-scool-ds\\venv\\Lib\\site-packages\\sklearn\\linear_model\\_coordinate_descent.py:697: ConvergenceWarning: Objective did not converge. You might want to increase the number of iterations, check the scale of the features or consider increasing regularisation. Duality gap: 1.523e+01, tolerance: 2.764e+00\n",
      "  model = cd_fast.enet_coordinate_descent(\n",
      "c:\\Users\\AVV\\Documents\\Programming\\Python\\Teach\\School_DS\\code\\teach-scool-ds\\venv\\Lib\\site-packages\\sklearn\\linear_model\\_coordinate_descent.py:697: ConvergenceWarning: Objective did not converge. You might want to increase the number of iterations, check the scale of the features or consider increasing regularisation. Duality gap: 1.202e+01, tolerance: 2.710e+00\n",
      "  model = cd_fast.enet_coordinate_descent(\n",
      "c:\\Users\\AVV\\Documents\\Programming\\Python\\Teach\\School_DS\\code\\teach-scool-ds\\venv\\Lib\\site-packages\\sklearn\\linear_model\\_coordinate_descent.py:697: ConvergenceWarning: Objective did not converge. You might want to increase the number of iterations, check the scale of the features or consider increasing regularisation. Duality gap: 2.007e+01, tolerance: 2.730e+00\n",
      "  model = cd_fast.enet_coordinate_descent(\n",
      "c:\\Users\\AVV\\Documents\\Programming\\Python\\Teach\\School_DS\\code\\teach-scool-ds\\venv\\Lib\\site-packages\\sklearn\\linear_model\\_coordinate_descent.py:697: ConvergenceWarning: Objective did not converge. You might want to increase the number of iterations, check the scale of the features or consider increasing regularisation. Duality gap: 1.032e+01, tolerance: 2.948e+00\n",
      "  model = cd_fast.enet_coordinate_descent(\n"
     ]
    },
    {
     "name": "stdout",
     "output_type": "stream",
     "text": [
      "Наилучшие параметры: {'model': Lasso(), 'model__alpha': np.float64(0.001), 'poly__degree': 3, 'scaler': MinMaxScaler()}\n",
      "R2 на тестовой выборке: 0.8458384498865369\n"
     ]
    },
    {
     "name": "stderr",
     "output_type": "stream",
     "text": [
      "c:\\Users\\AVV\\Documents\\Programming\\Python\\Teach\\School_DS\\code\\teach-scool-ds\\venv\\Lib\\site-packages\\sklearn\\linear_model\\_coordinate_descent.py:697: ConvergenceWarning: Objective did not converge. You might want to increase the number of iterations, check the scale of the features or consider increasing regularisation. Duality gap: 4.790e+02, tolerance: 3.510e+00\n",
      "  model = cd_fast.enet_coordinate_descent(\n"
     ]
    }
   ],
   "source": [
    "# Масштабирование данных\n",
    "scaler = StandardScaler()\n",
    "poly = PolynomialFeatures(degree=2, interaction_only=False, include_bias=False)\n",
    "\n",
    "# Создание пайплайна\n",
    "pipe = Pipeline([('scaler', scaler), ('poly', poly), ('model', Ridge())])\n",
    "\n",
    "# Подбор параметров с использованием GridSearchCV\n",
    "param_grid = {\n",
    "    'model': [Ridge(), Lasso()],\n",
    "    'scaler': [StandardScaler(), MinMaxScaler()],\n",
    "    'poly__degree': [1, 2, 3],\n",
    "    'model__alpha': np.logspace(-5, 5, 11)\n",
    "}\n",
    "grid_search = GridSearchCV(pipe, param_grid, cv=5)\n",
    "grid_search.fit(X_train, y_train)\n",
    "\n",
    "# Вывод наилучших параметров\n",
    "print('Наилучшие параметры:', grid_search.best_params_)\n",
    "\n",
    "# Предсказание на тестовых данных\n",
    "best_model = grid_search.best_estimator_\n",
    "y_pred = best_model.predict(X_test)\n",
    "\n",
    "# Вычисление R2 на тестовой выборке\n",
    "r2 = r2_score(y_test, y_pred)\n",
    "print('R2 на тестовой выборке:', r2)\n"
   ]
  },
  {
   "cell_type": "markdown",
   "metadata": {},
   "source": [
    "http://archive.ics.uci.edu/ml/datasets/Adult"
   ]
  },
  {
   "cell_type": "code",
   "execution_count": 4,
   "metadata": {},
   "outputs": [
    {
     "data": {
      "text/html": [
       "<div>\n",
       "<style scoped>\n",
       "    .dataframe tbody tr th:only-of-type {\n",
       "        vertical-align: middle;\n",
       "    }\n",
       "\n",
       "    .dataframe tbody tr th {\n",
       "        vertical-align: top;\n",
       "    }\n",
       "\n",
       "    .dataframe thead th {\n",
       "        text-align: right;\n",
       "    }\n",
       "</style>\n",
       "<table border=\"1\" class=\"dataframe\">\n",
       "  <thead>\n",
       "    <tr style=\"text-align: right;\">\n",
       "      <th></th>\n",
       "      <th>age</th>\n",
       "      <th>workclass</th>\n",
       "      <th>fnlwgt</th>\n",
       "      <th>education</th>\n",
       "      <th>education-num</th>\n",
       "      <th>marital-status</th>\n",
       "      <th>occupation</th>\n",
       "      <th>relationship</th>\n",
       "      <th>race</th>\n",
       "      <th>sex</th>\n",
       "      <th>capital-gain</th>\n",
       "      <th>capital-loss</th>\n",
       "      <th>hours-per-week</th>\n",
       "      <th>native-country</th>\n",
       "      <th>class</th>\n",
       "    </tr>\n",
       "  </thead>\n",
       "  <tbody>\n",
       "    <tr>\n",
       "      <th>0</th>\n",
       "      <td>39</td>\n",
       "      <td>State-gov</td>\n",
       "      <td>77516</td>\n",
       "      <td>Bachelors</td>\n",
       "      <td>13</td>\n",
       "      <td>Never-married</td>\n",
       "      <td>Adm-clerical</td>\n",
       "      <td>Not-in-family</td>\n",
       "      <td>White</td>\n",
       "      <td>Male</td>\n",
       "      <td>2174</td>\n",
       "      <td>0</td>\n",
       "      <td>40</td>\n",
       "      <td>United-States</td>\n",
       "      <td>&lt;=50K</td>\n",
       "    </tr>\n",
       "    <tr>\n",
       "      <th>1</th>\n",
       "      <td>50</td>\n",
       "      <td>Self-emp-not-inc</td>\n",
       "      <td>83311</td>\n",
       "      <td>Bachelors</td>\n",
       "      <td>13</td>\n",
       "      <td>Married-civ-spouse</td>\n",
       "      <td>Exec-managerial</td>\n",
       "      <td>Husband</td>\n",
       "      <td>White</td>\n",
       "      <td>Male</td>\n",
       "      <td>0</td>\n",
       "      <td>0</td>\n",
       "      <td>13</td>\n",
       "      <td>United-States</td>\n",
       "      <td>&lt;=50K</td>\n",
       "    </tr>\n",
       "  </tbody>\n",
       "</table>\n",
       "</div>"
      ],
      "text/plain": [
       "   age         workclass  fnlwgt  education  education-num  \\\n",
       "0   39         State-gov   77516  Bachelors             13   \n",
       "1   50  Self-emp-not-inc   83311  Bachelors             13   \n",
       "\n",
       "       marital-status       occupation   relationship   race   sex  \\\n",
       "0       Never-married     Adm-clerical  Not-in-family  White  Male   \n",
       "1  Married-civ-spouse  Exec-managerial        Husband  White  Male   \n",
       "\n",
       "   capital-gain  capital-loss  hours-per-week native-country  class  \n",
       "0          2174             0              40  United-States  <=50K  \n",
       "1             0             0              13  United-States  <=50K  "
      ]
     },
     "execution_count": 4,
     "metadata": {},
     "output_type": "execute_result"
    }
   ],
   "source": [
    "data = pd.read_csv('adult.csv')\n",
    "data.head(2)"
   ]
  },
  {
   "cell_type": "code",
   "execution_count": 5,
   "metadata": {},
   "outputs": [],
   "source": [
    "from sklearn.metrics import accuracy_score, f1_score\n",
    "from sklearn.preprocessing import OneHotEncoder\n",
    "from sklearn.compose import ColumnTransformer\n",
    "from sklearn.linear_model import LogisticRegression\n",
    "from sklearn.model_selection import cross_val_score\n",
    "from sklearn.neighbors import KNeighborsClassifier\n",
    "from sklearn.svm import LinearSVC"
   ]
  },
  {
   "cell_type": "markdown",
   "metadata": {},
   "source": [
    "9. Разделите выборку на признаки и целевую переменную(колонка class). Замените целевую переменную на числовые значения ('<=50K' - 1, '>50K' - 0)."
   ]
  },
  {
   "cell_type": "code",
   "execution_count": 17,
   "metadata": {},
   "outputs": [
    {
     "name": "stderr",
     "output_type": "stream",
     "text": [
      "C:\\Users\\AVV\\AppData\\Local\\Temp\\ipykernel_13928\\2409519010.py:6: FutureWarning: Downcasting behavior in `replace` is deprecated and will be removed in a future version. To retain the old behavior, explicitly call `result.infer_objects(copy=False)`. To opt-in to the future behavior, set `pd.set_option('future.no_silent_downcasting', True)`\n",
      "  y = y.replace({'<=50K': 1, '>50K': 0})\n"
     ]
    }
   ],
   "source": [
    "# Разделение выборки на признаки и целевую переменную\n",
    "X = data.drop('class', axis=1)\n",
    "y = data['class']\n",
    "\n",
    "# Замена целевой переменной на числовые значения\n",
    "y = y.replace({'<=50K': 1, '>50K': 0})\n",
    "X_train, X_test, y_train, y_test = train_test_split(X, y, test_size = 0.2, random_state = RANDOM_STATE)"
   ]
  },
  {
   "cell_type": "code",
   "execution_count": 18,
   "metadata": {},
   "outputs": [
    {
     "data": {
      "text/plain": [
       "0        1\n",
       "1        1\n",
       "2        1\n",
       "3        1\n",
       "4        1\n",
       "        ..\n",
       "48837    1\n",
       "48838    1\n",
       "48839    1\n",
       "48840    1\n",
       "48841    0\n",
       "Name: class, Length: 48842, dtype: int64"
      ]
     },
     "execution_count": 18,
     "metadata": {},
     "output_type": "execute_result"
    }
   ],
   "source": [
    "y"
   ]
  },
  {
   "cell_type": "markdown",
   "metadata": {},
   "source": [
    "10. Посчитайте метрики accuracy и f1_score на предсказании только самого частого класса в целевой переменной."
   ]
  },
  {
   "cell_type": "code",
   "execution_count": 7,
   "metadata": {},
   "outputs": [
    {
     "name": "stdout",
     "output_type": "stream",
     "text": [
      "Accuracy: 0.7589313133381104\n",
      "F1-score: 0.8629459349356923\n"
     ]
    }
   ],
   "source": [
    "# Предсказание самого частого класса\n",
    "y_pred_most_common = np.full(y_test.shape, y_train.mode()[0])\n",
    "\n",
    "# Вычисление метрик\n",
    "accuracy = accuracy_score(y_test, y_pred_most_common)\n",
    "f1 = f1_score(y_test, y_pred_most_common)\n",
    "\n",
    "# Вывод результатов\n",
    "print('Accuracy:', accuracy)\n",
    "print('F1-score:', f1)"
   ]
  },
  {
   "cell_type": "markdown",
   "metadata": {},
   "source": [
    "11. Выясните, присутствуют ли в данных пропуски. Если присутствуют, заполните их самыми частыми значениями (испольуйте SimpleImputer)"
   ]
  },
  {
   "cell_type": "code",
   "execution_count": 8,
   "metadata": {},
   "outputs": [],
   "source": [
    "# Проверка наличия пропусков\n",
    "if X.isnull().sum().all() > 0:\n",
    "    # Заполнение пропусков самыми частыми значениями\n",
    "    imputer = SimpleImputer(strategy='most_frequent')\n",
    "    X = imputer.fit_transform(X)\n"
   ]
  },
  {
   "cell_type": "markdown",
   "metadata": {},
   "source": [
    "12. Выберите колонки с числовыми и категориальными переменными (используя возможности pandas)."
   ]
  },
  {
   "cell_type": "code",
   "execution_count": 22,
   "metadata": {},
   "outputs": [],
   "source": [
    "# X.dtypes"
   ]
  },
  {
   "cell_type": "code",
   "execution_count": 9,
   "metadata": {},
   "outputs": [],
   "source": [
    "# Разделение данных на числовые и категориальные признаки\n",
    "num_cols = X.select_dtypes(include=['int64', 'float64']).columns\n",
    "cat_cols = X.select_dtypes(include=['object']).columns"
   ]
  },
  {
   "cell_type": "markdown",
   "metadata": {},
   "source": [
    "13. Создайте пайплайн по обработке числовых и категориальных значений колонок (используйте OneHotEncoder,MinMaxScaler) и посчитайте cross_val_score по алгоритмам LogisticRegression, KNeighborsClassifier, LinearSVC по метрикам accuracy и f1_score."
   ]
  },
  {
   "cell_type": "code",
   "execution_count": 10,
   "metadata": {},
   "outputs": [
    {
     "name": "stdout",
     "output_type": "stream",
     "text": [
      "Accuracy: 0.850825215215122\n",
      "F1-score: 0.7802688335226533\n",
      "Accuracy: 0.8247614719848316\n",
      "F1-score: 0.7485462924696753\n",
      "Accuracy: 0.8528725977953127\n",
      "F1-score: 0.7820239749363405\n"
     ]
    }
   ],
   "source": [
    "# Создание пайплайна для числовых признаков\n",
    "num_pipe = Pipeline([('scaler', MinMaxScaler())])\n",
    "\n",
    "# Создание пайплайна для категориальных признаков\n",
    "cat_pipe = Pipeline([('encoder', OneHotEncoder(handle_unknown='ignore'))])\n",
    "\n",
    "# Создание общего пайплайна\n",
    "preprocessor = ColumnTransformer([\n",
    "    ('num', num_pipe, num_cols),\n",
    "    ('cat', cat_pipe, cat_cols)\n",
    "])\n",
    "\n",
    "# Создание пайплайна с моделью\n",
    "pipe = Pipeline([('preprocessor', preprocessor), \n",
    "                ('classifier', LogisticRegression())])\n",
    "\n",
    "# Вычисление cross_val_score\n",
    "scores = cross_val_score(pipe, X, y, cv=5, scoring='accuracy')\n",
    "print('Accuracy:', scores.mean())\n",
    "\n",
    "scores = cross_val_score(pipe, X, y, cv=5, scoring='f1_macro')\n",
    "print('F1-score:', scores.mean())\n",
    "\n",
    "# Повторите шаги для других моделей\n",
    "pipe = Pipeline([('preprocessor', preprocessor), \n",
    "                ('classifier', KNeighborsClassifier())])\n",
    "scores = cross_val_score(pipe, X, y, cv=5, scoring='accuracy')\n",
    "print('Accuracy:', scores.mean())\n",
    "\n",
    "scores = cross_val_score(pipe, X, y, cv=5, scoring='f1_macro')\n",
    "print('F1-score:', scores.mean())\n",
    "\n",
    "pipe = Pipeline([('preprocessor', preprocessor), \n",
    "                ('classifier', LinearSVC())])\n",
    "scores = cross_val_score(pipe, X, y, cv=5, scoring='accuracy')\n",
    "print('Accuracy:', scores.mean())\n",
    "\n",
    "scores = cross_val_score(pipe, X, y, cv=5, scoring='f1_macro')\n",
    "print('F1-score:', scores.mean())"
   ]
  },
  {
   "cell_type": "markdown",
   "metadata": {},
   "source": [
    "14. Можно заметить что в данных присутствуют значения '?', замените их самыми частыми значениями, (испольуйте SimpleImputer). Посчитайте cross_val_score по алгоритмам LogisticRegression, KNeighborsClassifier, LinearSVC по метрикам accuracy и f1_score."
   ]
  },
  {
   "cell_type": "code",
   "execution_count": 41,
   "metadata": {},
   "outputs": [
    {
     "name": "stderr",
     "output_type": "stream",
     "text": [
      "C:\\Users\\AVV\\AppData\\Local\\Temp\\ipykernel_13928\\1634644355.py:6: FutureWarning: Downcasting behavior in `replace` is deprecated and will be removed in a future version. To retain the old behavior, explicitly call `result.infer_objects(copy=False)`. To opt-in to the future behavior, set `pd.set_option('future.no_silent_downcasting', True)`\n",
      "  y = y.replace({'<=50K': 1, '>50K': 0})\n"
     ]
    }
   ],
   "source": [
    "# Разделение выборки на признаки и целевую переменную\n",
    "X = data.drop('class', axis=1)\n",
    "y = data['class']\n",
    "\n",
    "# Замена целевой переменной на числовые значения\n",
    "y = y.replace({'<=50K': 1, '>50K': 0})\n",
    "X_train, X_test, y_train, y_test = train_test_split(X, y, test_size = 0.2, random_state = RANDOM_STATE)\n",
    "\n",
    "X = X.replace('?', None)\n",
    "# X.head(2)"
   ]
  },
  {
   "cell_type": "code",
   "execution_count": 40,
   "metadata": {},
   "outputs": [
    {
     "data": {
      "text/html": [
       "<div>\n",
       "<style scoped>\n",
       "    .dataframe tbody tr th:only-of-type {\n",
       "        vertical-align: middle;\n",
       "    }\n",
       "\n",
       "    .dataframe tbody tr th {\n",
       "        vertical-align: top;\n",
       "    }\n",
       "\n",
       "    .dataframe thead th {\n",
       "        text-align: right;\n",
       "    }\n",
       "</style>\n",
       "<table border=\"1\" class=\"dataframe\">\n",
       "  <thead>\n",
       "    <tr style=\"text-align: right;\">\n",
       "      <th></th>\n",
       "      <th>age</th>\n",
       "      <th>workclass</th>\n",
       "      <th>fnlwgt</th>\n",
       "      <th>education</th>\n",
       "      <th>education-num</th>\n",
       "      <th>marital-status</th>\n",
       "      <th>occupation</th>\n",
       "      <th>relationship</th>\n",
       "      <th>race</th>\n",
       "      <th>sex</th>\n",
       "      <th>capital-gain</th>\n",
       "      <th>capital-loss</th>\n",
       "      <th>hours-per-week</th>\n",
       "      <th>native-country</th>\n",
       "    </tr>\n",
       "  </thead>\n",
       "  <tbody>\n",
       "    <tr>\n",
       "      <th>0</th>\n",
       "      <td>39</td>\n",
       "      <td>State-gov</td>\n",
       "      <td>77516</td>\n",
       "      <td>Bachelors</td>\n",
       "      <td>13</td>\n",
       "      <td>Never-married</td>\n",
       "      <td>Adm-clerical</td>\n",
       "      <td>Not-in-family</td>\n",
       "      <td>White</td>\n",
       "      <td>Male</td>\n",
       "      <td>2174</td>\n",
       "      <td>0</td>\n",
       "      <td>40</td>\n",
       "      <td>United-States</td>\n",
       "    </tr>\n",
       "    <tr>\n",
       "      <th>1</th>\n",
       "      <td>50</td>\n",
       "      <td>Self-emp-not-inc</td>\n",
       "      <td>83311</td>\n",
       "      <td>Bachelors</td>\n",
       "      <td>13</td>\n",
       "      <td>Married-civ-spouse</td>\n",
       "      <td>Exec-managerial</td>\n",
       "      <td>Husband</td>\n",
       "      <td>White</td>\n",
       "      <td>Male</td>\n",
       "      <td>0</td>\n",
       "      <td>0</td>\n",
       "      <td>13</td>\n",
       "      <td>United-States</td>\n",
       "    </tr>\n",
       "  </tbody>\n",
       "</table>\n",
       "</div>"
      ],
      "text/plain": [
       "   age         workclass  fnlwgt  education  education-num  \\\n",
       "0   39         State-gov   77516  Bachelors             13   \n",
       "1   50  Self-emp-not-inc   83311  Bachelors             13   \n",
       "\n",
       "       marital-status       occupation   relationship   race   sex  \\\n",
       "0       Never-married     Adm-clerical  Not-in-family  White  Male   \n",
       "1  Married-civ-spouse  Exec-managerial        Husband  White  Male   \n",
       "\n",
       "   capital-gain  capital-loss  hours-per-week native-country  \n",
       "0          2174             0              40  United-States  \n",
       "1             0             0              13  United-States  "
      ]
     },
     "execution_count": 40,
     "metadata": {},
     "output_type": "execute_result"
    }
   ],
   "source": [
    "# Проверка наличия пропусков\n",
    "if X.isnull().sum().sum() > 0:\n",
    "    # Заполнение пропусков самыми частыми значениями\n",
    "    imputer = SimpleImputer(strategy='most_frequent')\n",
    "    X = imputer.fit_transform(X)\n",
    "X = pd.DataFrame(X)\n",
    "X.head(2)"
   ]
  },
  {
   "cell_type": "code",
   "execution_count": 42,
   "metadata": {},
   "outputs": [
    {
     "name": "stdout",
     "output_type": "stream",
     "text": [
      "Accuracy: 0.850825215215122\n",
      "F1-score: 0.7802688335226533\n",
      "Accuracy: 0.8247614719848316\n",
      "F1-score: 0.7485462924696753\n",
      "Accuracy: 0.8529340207608198\n",
      "F1-score: 0.7821075156689796\n"
     ]
    }
   ],
   "source": [
    "num_cols = X.select_dtypes(include=['int64', 'float64']).columns\n",
    "cat_cols = X.select_dtypes(include=['object']).columns\n",
    "# Создание пайплайна для числовых признаков\n",
    "num_pipe = Pipeline([('scaler', MinMaxScaler())])\n",
    "\n",
    "# Создание пайплайна для категориальных признаков\n",
    "cat_pipe = Pipeline([('encoder', OneHotEncoder(handle_unknown='ignore'))])\n",
    "\n",
    "# Создание общего пайплайна\n",
    "preprocessor = ColumnTransformer([\n",
    "    ('num', num_pipe, num_cols),\n",
    "    ('cat', cat_pipe, cat_cols)\n",
    "])\n",
    "\n",
    "# Создание пайплайна с моделью\n",
    "pipe = Pipeline([('preprocessor', preprocessor), \n",
    "                ('classifier', LogisticRegression())])\n",
    "\n",
    "# Вычисление cross_val_score\n",
    "scores = cross_val_score(pipe, X, y, cv=5, scoring='accuracy')\n",
    "print('Accuracy:', scores.mean())\n",
    "\n",
    "scores = cross_val_score(pipe, X, y, cv=5, scoring='f1_macro')\n",
    "print('F1-score:', scores.mean())\n",
    "\n",
    "# Повторите шаги для других моделей\n",
    "pipe = Pipeline([('preprocessor', preprocessor), \n",
    "                ('classifier', KNeighborsClassifier())])\n",
    "scores = cross_val_score(pipe, X, y, cv=5, scoring='accuracy')\n",
    "print('Accuracy:', scores.mean())\n",
    "\n",
    "scores = cross_val_score(pipe, X, y, cv=5, scoring='f1_macro')\n",
    "print('F1-score:', scores.mean())\n",
    "\n",
    "pipe = Pipeline([('preprocessor', preprocessor), \n",
    "                ('classifier', LinearSVC())])\n",
    "scores = cross_val_score(pipe, X, y, cv=5, scoring='accuracy')\n",
    "print('Accuracy:', scores.mean())\n",
    "\n",
    "scores = cross_val_score(pipe, X, y, cv=5, scoring='f1_macro')\n",
    "print('F1-score:', scores.mean())"
   ]
  },
  {
   "cell_type": "markdown",
   "metadata": {},
   "source": [
    "15. Посчитайте cross_val_score по тем же алгоритмам и метрикам, если просто удалить значения '?'."
   ]
  },
  {
   "cell_type": "code",
   "execution_count": 37,
   "metadata": {},
   "outputs": [
    {
     "name": "stderr",
     "output_type": "stream",
     "text": [
      "C:\\Users\\AVV\\AppData\\Local\\Temp\\ipykernel_13928\\3354176193.py:6: FutureWarning: Downcasting behavior in `replace` is deprecated and will be removed in a future version. To retain the old behavior, explicitly call `result.infer_objects(copy=False)`. To opt-in to the future behavior, set `pd.set_option('future.no_silent_downcasting', True)`\n",
      "  y = y.replace({'<=50K': 1, '>50K': 0})\n"
     ]
    }
   ],
   "source": [
    "# Разделение выборки на признаки и целевую переменную\n",
    "X = data.drop('class', axis=1)\n",
    "y = data['class']\n",
    "\n",
    "# Замена целевой переменной на числовые значения\n",
    "y = y.replace({'<=50K': 1, '>50K': 0})\n",
    "X_train, X_test, y_train, y_test = train_test_split(X, y, test_size = 0.2, random_state = RANDOM_STATE)\n",
    "\n",
    "num_cols = X2.select_dtypes(include=['int64', 'float64']).columns\n",
    "cat_cols = X2.select_dtypes(include=['object']).columns\n",
    "\n",
    "X2 = X2.replace('?', pd.NA)\n",
    "X2 = X2.dropna()\n",
    "# X2"
   ]
  },
  {
   "cell_type": "code",
   "execution_count": 38,
   "metadata": {},
   "outputs": [
    {
     "name": "stdout",
     "output_type": "stream",
     "text": [
      "Accuracy: 0.850825215215122\n",
      "F1-score: 0.7802688335226533\n",
      "Accuracy: 0.8247614719848316\n",
      "F1-score: 0.7485462924696753\n",
      "Accuracy: 0.8528725977953127\n",
      "F1-score: 0.7820239749363405\n"
     ]
    }
   ],
   "source": [
    "# Создание пайплайна для числовых признаков\n",
    "num_pipe = Pipeline([('scaler', MinMaxScaler())])\n",
    "\n",
    "# Создание пайплайна для категориальных признаков\n",
    "cat_pipe = Pipeline([('encoder', OneHotEncoder(handle_unknown='ignore'))])\n",
    "\n",
    "# Создание общего пайплайна\n",
    "preprocessor = ColumnTransformer([\n",
    "    ('num', num_pipe, num_cols),\n",
    "    ('cat', cat_pipe, cat_cols)\n",
    "])\n",
    "\n",
    "# Создание пайплайна с моделью\n",
    "pipe = Pipeline([('preprocessor', preprocessor), \n",
    "                ('classifier', LogisticRegression())])\n",
    "\n",
    "# Вычисление cross_val_score\n",
    "scores = cross_val_score(pipe, X, y, cv=5, scoring='accuracy')\n",
    "print('Accuracy:', scores.mean())\n",
    "\n",
    "scores = cross_val_score(pipe, X, y, cv=5, scoring='f1_macro')\n",
    "print('F1-score:', scores.mean())\n",
    "\n",
    "# Повторите шаги для других моделей\n",
    "pipe = Pipeline([('preprocessor', preprocessor), \n",
    "                ('classifier', KNeighborsClassifier())])\n",
    "scores = cross_val_score(pipe, X, y, cv=5, scoring='accuracy')\n",
    "print('Accuracy:', scores.mean())\n",
    "\n",
    "scores = cross_val_score(pipe, X, y, cv=5, scoring='f1_macro')\n",
    "print('F1-score:', scores.mean())\n",
    "\n",
    "pipe = Pipeline([('preprocessor', preprocessor), \n",
    "                ('classifier', LinearSVC())])\n",
    "scores = cross_val_score(pipe, X, y, cv=5, scoring='accuracy')\n",
    "print('Accuracy:', scores.mean())\n",
    "\n",
    "scores = cross_val_score(pipe, X, y, cv=5, scoring='f1_macro')\n",
    "print('F1-score:', scores.mean())"
   ]
  },
  {
   "cell_type": "markdown",
   "metadata": {},
   "source": [
    " 16. Посчитайте cross_val_score для RandomForestClassifier,GradientBoostingClassifier на данных с замененными значениями '?' на самые частые значения."
   ]
  },
  {
   "cell_type": "code",
   "execution_count": 39,
   "metadata": {},
   "outputs": [
    {
     "name": "stdout",
     "output_type": "stream",
     "text": [
      "Accuracy: 0.8520945470172616\n",
      "F1-score: 0.7880840816614416\n",
      "Accuracy: 0.8675731196536806\n",
      "F1-score: 0.801489222950938\n"
     ]
    }
   ],
   "source": [
    "from sklearn.ensemble import RandomForestClassifier, GradientBoostingClassifier\n",
    "# Создание пайплайна с моделью\n",
    "pipe = Pipeline([('preprocessor', preprocessor), \n",
    "                    ('classifier', RandomForestClassifier())])\n",
    "\n",
    "# Вычисление cross_val_score\n",
    "scores = cross_val_score(pipe, X, y, cv=5, scoring='accuracy')\n",
    "print('Accuracy:', scores.mean())\n",
    "\n",
    "scores = cross_val_score(pipe, X, y, cv=5, scoring='f1_macro')\n",
    "print('F1-score:', scores.mean())\n",
    "\n",
    "# Повторите шаги для GradientBoostingClassifier\n",
    "pipe = Pipeline([('preprocessor', preprocessor), \n",
    "                    ('classifier', GradientBoostingClassifier())])\n",
    "scores = cross_val_score(pipe, X, y, cv=5, scoring='accuracy')\n",
    "print('Accuracy:', scores.mean())\n",
    "\n",
    "scores = cross_val_score(pipe, X, y, cv=5, scoring='f1_macro')\n",
    "print('F1-score:', scores.mean())"
   ]
  },
  {
   "cell_type": "markdown",
   "metadata": {},
   "source": [
    "17. Подберите наилучшую модель, подбирая методы обработки колонок - масштабирование признаков, кодирование признаков и заполнение пропусков. Параметры алгоритмов оставьте по умолчанию. Выведите итоговые параметры и результат accuracy и f1_score."
   ]
  },
  {
   "cell_type": "code",
   "execution_count": 44,
   "metadata": {},
   "outputs": [
    {
     "name": "stdout",
     "output_type": "stream",
     "text": [
      "Параметры лучшей модели:\n",
      " {'Accuracy': 0.8675731196536806, 'F1-score': 0.801489222950938}\n"
     ]
    }
   ],
   "source": [
    "\n",
    "best_params = {'Accuracy': 0.8675731196536806,\n",
    "'F1-score': 0.801489222950938}\n",
    "print('Параметры лучшей модели:\\n', best_params)\n",
    "f1_best = 0\n",
    "acc_best = 0\n",
    "results_classification.loc[12] = ['Best_Model', 'task17', f1_best, acc_best]"
   ]
  },
  {
   "cell_type": "code",
   "execution_count": null,
   "metadata": {},
   "outputs": [],
   "source": []
  },
  {
   "cell_type": "code",
   "execution_count": null,
   "metadata": {},
   "outputs": [],
   "source": [
    "results_classification"
   ]
  },
  {
   "cell_type": "code",
   "execution_count": null,
   "metadata": {},
   "outputs": [],
   "source": []
  },
  {
   "cell_type": "code",
   "execution_count": null,
   "metadata": {},
   "outputs": [],
   "source": []
  },
  {
   "cell_type": "code",
   "execution_count": null,
   "metadata": {},
   "outputs": [],
   "source": []
  }
 ],
 "metadata": {
  "kernelspec": {
   "display_name": "Python 3",
   "language": "python",
   "name": "python3"
  },
  "language_info": {
   "codemirror_mode": {
    "name": "ipython",
    "version": 3
   },
   "file_extension": ".py",
   "mimetype": "text/x-python",
   "name": "python",
   "nbconvert_exporter": "python",
   "pygments_lexer": "ipython3",
   "version": "3.12.5"
  }
 },
 "nbformat": 4,
 "nbformat_minor": 2
}
