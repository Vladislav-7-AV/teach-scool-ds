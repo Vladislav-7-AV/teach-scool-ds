{
 "cells": [
  {
   "cell_type": "markdown",
   "metadata": {
    "collapsed": false,
    "pycharm": {
     "name": "#%% md\n"
    }
   },
   "source": [
    "[![Open In Colab](https://colab.research.google.com/assets/colab-badge.svg)](https://colab.research.google.com/github/4vel/python-intro/blob/main/Hometask/Task2_dmrf_visual.ipynb)"
   ]
  },
  {
   "cell_type": "markdown",
   "metadata": {
    "collapsed": false,
    "pycharm": {
     "name": "#%% md\n"
    }
   },
   "source": [
    "# Задание\n",
    "\n",
    "* Используя данные об объектах недвижимости на сайте \"наш.дом.рф\" или cian.ru, провести мини-исследование рынка строящейся/готовой недвижимости в одном или нескольких регионах с помощью pandas, matplotlib, seaborn, plotly и других инструментов.\n",
    "#### Идеи для мини-исследования\n",
    "* Рассчитать средние цены за квадратный метр по регионам. Важно чтобы пропуски не учитывались при расчете средней цены.\n",
    "* Рассчитать объемы вводимого жилья по регионам и по годам.\n",
    "* Сравнить этажность домов, количество квартир, жилую площадь, количество парковочных мест и цену за квадратный метр в разных регионах.\n",
    "* Визуализировать разброс, связь, доли, распределение этих показателей по регионам.\n",
    "* Сделать выводы по каждому из расчетов и графиков\n",
    "\n"
   ]
  },
  {
   "cell_type": "code",
   "execution_count": 1,
   "metadata": {
    "ExecuteTime": {
     "end_time": "2024-07-04T15:09:33.845461Z",
     "start_time": "2024-07-04T15:09:33.831829Z"
    },
    "collapsed": false,
    "pycharm": {
     "name": "#%%\n"
    }
   },
   "outputs": [],
   "source": [
    "import pandas as pd"
   ]
  },
  {
   "cell_type": "code",
   "execution_count": 18,
   "metadata": {
    "collapsed": false
   },
   "outputs": [
    {
     "data": {
      "text/html": [
       "<div>\n",
       "<style scoped>\n",
       "    .dataframe tbody tr th:only-of-type {\n",
       "        vertical-align: middle;\n",
       "    }\n",
       "\n",
       "    .dataframe tbody tr th {\n",
       "        vertical-align: top;\n",
       "    }\n",
       "\n",
       "    .dataframe thead th {\n",
       "        text-align: right;\n",
       "    }\n",
       "</style>\n",
       "<table border=\"1\" class=\"dataframe\">\n",
       "  <thead>\n",
       "    <tr style=\"text-align: right;\">\n",
       "      <th></th>\n",
       "      <th>id</th>\n",
       "      <th>hobjId</th>\n",
       "      <th>pdId</th>\n",
       "      <th>region</th>\n",
       "      <th>address</th>\n",
       "      <th>floorMin</th>\n",
       "      <th>floorMax</th>\n",
       "      <th>objElemLivingCnt</th>\n",
       "      <th>objReady100PercDt</th>\n",
       "      <th>wallMaterialShortDesc</th>\n",
       "      <th>...</th>\n",
       "      <th>metro.time</th>\n",
       "      <th>metro.isWalk</th>\n",
       "      <th>metro.colors</th>\n",
       "      <th>complexShortNm</th>\n",
       "      <th>airQualityIndexValue</th>\n",
       "      <th>greenAreaIndexValue</th>\n",
       "      <th>developer.bankruptStage.bankruptStageCd</th>\n",
       "      <th>developer.bankruptStage.bankruptStageDesc</th>\n",
       "      <th>developer.bankruptStage.bankruptLawUrl</th>\n",
       "      <th>developer.orgBankruptMsgDttm</th>\n",
       "    </tr>\n",
       "  </thead>\n",
       "  <tbody>\n",
       "    <tr>\n",
       "      <th>0</th>\n",
       "      <td>13399</td>\n",
       "      <td>34754</td>\n",
       "      <td>28141</td>\n",
       "      <td>72</td>\n",
       "      <td>г Тюмень, ул Профсоюзная, д. 56</td>\n",
       "      <td>1</td>\n",
       "      <td>1</td>\n",
       "      <td>0</td>\n",
       "      <td>2024-12-31</td>\n",
       "      <td>Другое</td>\n",
       "      <td>...</td>\n",
       "      <td>NaN</td>\n",
       "      <td>NaN</td>\n",
       "      <td>NaN</td>\n",
       "      <td>NaN</td>\n",
       "      <td>NaN</td>\n",
       "      <td>NaN</td>\n",
       "      <td>NaN</td>\n",
       "      <td>NaN</td>\n",
       "      <td>NaN</td>\n",
       "      <td>NaN</td>\n",
       "    </tr>\n",
       "    <tr>\n",
       "      <th>1</th>\n",
       "      <td>13397</td>\n",
       "      <td>37201</td>\n",
       "      <td>28141</td>\n",
       "      <td>72</td>\n",
       "      <td>г Тюмень, ул Профсоюзная, д. 56</td>\n",
       "      <td>6</td>\n",
       "      <td>12</td>\n",
       "      <td>65</td>\n",
       "      <td>2024-12-31</td>\n",
       "      <td>Другое</td>\n",
       "      <td>...</td>\n",
       "      <td>NaN</td>\n",
       "      <td>NaN</td>\n",
       "      <td>NaN</td>\n",
       "      <td>NaN</td>\n",
       "      <td>NaN</td>\n",
       "      <td>NaN</td>\n",
       "      <td>NaN</td>\n",
       "      <td>NaN</td>\n",
       "      <td>NaN</td>\n",
       "      <td>NaN</td>\n",
       "    </tr>\n",
       "  </tbody>\n",
       "</table>\n",
       "<p>2 rows × 110 columns</p>\n",
       "</div>"
      ],
      "text/plain": [
       "      id  hobjId   pdId  region                          address  floorMin  \\\n",
       "0  13399   34754  28141      72  г Тюмень, ул Профсоюзная, д. 56         1   \n",
       "1  13397   37201  28141      72  г Тюмень, ул Профсоюзная, д. 56         6   \n",
       "\n",
       "   floorMax  objElemLivingCnt objReady100PercDt wallMaterialShortDesc  ...  \\\n",
       "0         1                 0        2024-12-31                Другое  ...   \n",
       "1        12                65        2024-12-31                Другое  ...   \n",
       "\n",
       "  metro.time metro.isWalk  metro.colors  complexShortNm airQualityIndexValue  \\\n",
       "0        NaN          NaN           NaN             NaN                  NaN   \n",
       "1        NaN          NaN           NaN             NaN                  NaN   \n",
       "\n",
       "  greenAreaIndexValue developer.bankruptStage.bankruptStageCd  \\\n",
       "0                 NaN                                     NaN   \n",
       "1                 NaN                                     NaN   \n",
       "\n",
       "  developer.bankruptStage.bankruptStageDesc  \\\n",
       "0                                       NaN   \n",
       "1                                       NaN   \n",
       "\n",
       "  developer.bankruptStage.bankruptLawUrl  developer.orgBankruptMsgDttm  \n",
       "0                                    NaN                           NaN  \n",
       "1                                    NaN                           NaN  \n",
       "\n",
       "[2 rows x 110 columns]"
      ]
     },
     "execution_count": 18,
     "metadata": {},
     "output_type": "execute_result"
    }
   ],
   "source": [
    "df = pd.read_pickle('df_nashdomrf.pkl')\n",
    "df.head(2)"
   ]
  },
  {
   "cell_type": "code",
   "execution_count": 21,
   "metadata": {},
   "outputs": [],
   "source": [
    "# Оставляем только необходимые для анализа столбцы\n",
    "df = df [['region', 'developer.regRegionDesc'  , 'objPriceAvg', 'objTransferPlanDt' , 'objFloorCnt', 'objFlatCnt', 'objElemParkingCnt', 'objElemLivingCnt', 'objSquareLiving']]"
   ]
  },
  {
   "cell_type": "code",
   "execution_count": 23,
   "metadata": {},
   "outputs": [
    {
     "data": {
      "text/html": [
       "<div>\n",
       "<style scoped>\n",
       "    .dataframe tbody tr th:only-of-type {\n",
       "        vertical-align: middle;\n",
       "    }\n",
       "\n",
       "    .dataframe tbody tr th {\n",
       "        vertical-align: top;\n",
       "    }\n",
       "\n",
       "    .dataframe thead th {\n",
       "        text-align: right;\n",
       "    }\n",
       "</style>\n",
       "<table border=\"1\" class=\"dataframe\">\n",
       "  <thead>\n",
       "    <tr style=\"text-align: right;\">\n",
       "      <th></th>\n",
       "      <th>region</th>\n",
       "      <th>developer.regRegionDesc</th>\n",
       "      <th>objPriceAvg</th>\n",
       "      <th>objTransferPlanDt</th>\n",
       "      <th>objFloorCnt</th>\n",
       "      <th>objFlatCnt</th>\n",
       "      <th>objElemParkingCnt</th>\n",
       "      <th>objElemLivingCnt</th>\n",
       "      <th>objSquareLiving</th>\n",
       "    </tr>\n",
       "  </thead>\n",
       "  <tbody>\n",
       "    <tr>\n",
       "      <th>0</th>\n",
       "      <td>72</td>\n",
       "      <td>Тюменская область</td>\n",
       "      <td>50768.0</td>\n",
       "      <td>28-02-2025 12:00</td>\n",
       "      <td>1</td>\n",
       "      <td>0</td>\n",
       "      <td>125</td>\n",
       "      <td>0</td>\n",
       "      <td>0.00</td>\n",
       "    </tr>\n",
       "    <tr>\n",
       "      <th>1</th>\n",
       "      <td>72</td>\n",
       "      <td>Тюменская область</td>\n",
       "      <td>47163.0</td>\n",
       "      <td>28-02-2025 12:00</td>\n",
       "      <td>12</td>\n",
       "      <td>65</td>\n",
       "      <td>0</td>\n",
       "      <td>65</td>\n",
       "      <td>6251.10</td>\n",
       "    </tr>\n",
       "    <tr>\n",
       "      <th>2</th>\n",
       "      <td>72</td>\n",
       "      <td>Тюменская область</td>\n",
       "      <td>67159.0</td>\n",
       "      <td>28-02-2024 12:00</td>\n",
       "      <td>20</td>\n",
       "      <td>68</td>\n",
       "      <td>36</td>\n",
       "      <td>68</td>\n",
       "      <td>6423.85</td>\n",
       "    </tr>\n",
       "    <tr>\n",
       "      <th>3</th>\n",
       "      <td>72</td>\n",
       "      <td>Тюменская область</td>\n",
       "      <td>47886.0</td>\n",
       "      <td>28-02-2025 12:00</td>\n",
       "      <td>10</td>\n",
       "      <td>43</td>\n",
       "      <td>0</td>\n",
       "      <td>43</td>\n",
       "      <td>4812.98</td>\n",
       "    </tr>\n",
       "    <tr>\n",
       "      <th>4</th>\n",
       "      <td>72</td>\n",
       "      <td>Тюменская область</td>\n",
       "      <td>62638.0</td>\n",
       "      <td>28-02-2024 12:00</td>\n",
       "      <td>12</td>\n",
       "      <td>44</td>\n",
       "      <td>41</td>\n",
       "      <td>44</td>\n",
       "      <td>4343.90</td>\n",
       "    </tr>\n",
       "  </tbody>\n",
       "</table>\n",
       "</div>"
      ],
      "text/plain": [
       "   region developer.regRegionDesc  objPriceAvg objTransferPlanDt  objFloorCnt  \\\n",
       "0      72       Тюменская область      50768.0  28-02-2025 12:00            1   \n",
       "1      72       Тюменская область      47163.0  28-02-2025 12:00           12   \n",
       "2      72       Тюменская область      67159.0  28-02-2024 12:00           20   \n",
       "3      72       Тюменская область      47886.0  28-02-2025 12:00           10   \n",
       "4      72       Тюменская область      62638.0  28-02-2024 12:00           12   \n",
       "\n",
       "   objFlatCnt  objElemParkingCnt  objElemLivingCnt  objSquareLiving  \n",
       "0           0                125                 0             0.00  \n",
       "1          65                  0                65          6251.10  \n",
       "2          68                 36                68          6423.85  \n",
       "3          43                  0                43          4812.98  \n",
       "4          44                 41                44          4343.90  "
      ]
     },
     "execution_count": 23,
     "metadata": {},
     "output_type": "execute_result"
    }
   ],
   "source": [
    "df.head(5)"
   ]
  },
  {
   "cell_type": "code",
   "execution_count": 16,
   "metadata": {},
   "outputs": [],
   "source": []
  },
  {
   "cell_type": "code",
   "execution_count": null,
   "metadata": {},
   "outputs": [],
   "source": []
  }
 ],
 "metadata": {
  "kernelspec": {
   "display_name": "Python 3",
   "language": "python",
   "name": "python3"
  },
  "language_info": {
   "codemirror_mode": {
    "name": "ipython",
    "version": 3
   },
   "file_extension": ".py",
   "mimetype": "text/x-python",
   "name": "python",
   "nbconvert_exporter": "python",
   "pygments_lexer": "ipython3",
   "version": "3.12.4"
  }
 },
 "nbformat": 4,
 "nbformat_minor": 0
}
